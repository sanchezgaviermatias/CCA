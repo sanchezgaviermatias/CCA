{
 "cells": [
  {
   "cell_type": "markdown",
   "metadata": {
    "colab_type": "text",
    "id": "bS63tzAwtcu6",
    "slideshow": {
     "slide_type": "slide"
    }
   },
   "source": [
    "# 🐱‍💻👨‍💻 Introducción a Programación   \n",
    "\n",
    "\n",
    "\n",
    "\n",
    "\n",
    "\n",
    "---\n",
    "\n",
    "En este breve curso vamos a ver como usar python y todo los básicos de programación.  <br>  Para más información acerca de python le recomendamos la lectura de este libro: [Libro Python](https://argentinaenpython.com/quiero-aprender-python/aprenda-a-pensar-como-un-programador-con-python.pdf). <br> \n",
    "\n",
    "\n",
    "\n",
    "\n",
    "\n"
   ]
  },
  {
   "cell_type": "markdown",
   "metadata": {
    "colab_type": "text",
    "id": "6lQrx2-Cd5Ju",
    "slideshow": {
     "slide_type": "subslide"
    }
   },
   "source": [
    "---\n",
    "**Autores de la Notebook:** \n",
    "\n",
    "\n",
    "* [Matias Sanchez Gavier ](https://matias-online.netlify.app/)  🧛\n",
    "*   [Matias Moris](https://www.linkedin.com/in/matias-moris-6041337b/) ⚽\n",
    "* [Anotonio Marrazzo](https://www.linkedin.com/in/antonio-marrazzo-40b3491a2/) 🏆\n",
    "\n",
    " ---"
   ]
  },
  {
   "cell_type": "markdown",
   "metadata": {
    "colab_type": "text",
    "id": "zQmqzG7g-CLf",
    "slideshow": {
     "slide_type": "subslide"
    }
   },
   "source": [
    "<img src=\"https://encrypted-tbn0.gstatic.com/images?q=tbn%3AANd9GcRD_NWyaHeHwbg2_rZ25wzpofhDB3j5ZfoS3g&usqp=CAU\" alt=\"Girl in a jacket\" width=\"500\" height=\"600\">\n"
   ]
  },
  {
   "cell_type": "markdown",
   "metadata": {
    "colab_type": "text",
    "id": "MKlKBSM8NxvF",
    "slideshow": {
     "slide_type": "subslide"
    }
   },
   "source": [
    "## 💹 Motivación\n",
    "---\n",
    "Los usos que usted problamente le de a python son los siguientes: \n",
    "\n",
    "- Machine Learning\n",
    "- Deep Learning (Redes Neuronales)\n",
    "- Modelado Financiero (financial engineering) \n",
    "- Análisis de Datos\n",
    "- Limpieza de Datos \n",
    "- Creación de Páginas Web\n",
    "- Web Scrapping (Explotación de Datos de la Web)\n",
    "- Automatización de Tareas\n",
    "- Modelos Econométricos \n",
    "- Crear Bots (uno de los autores de esta notebook creo un bot para tinder) "
   ]
  },
  {
   "cell_type": "markdown",
   "metadata": {
    "colab_type": "text",
    "id": "ZbhQWU45Q0uj",
    "slideshow": {
     "slide_type": "subslide"
    }
   },
   "source": [
    "## 📓 Breve Introducción a Notebooks\n",
    "\n",
    "\n",
    "---\n",
    "Las notebooks son un lugar donde uno puede escribir código y se va ejecutando a pedazos o en bloques. Es una herramienta muy utilizada para los que hacen **Data Science**. En general en las otras ramas de programación no se utilizan mucho.  <br> \n",
    "\n",
    "Para **Python** hay principalmente dos opciones: \n",
    "\n",
    "- Google Colab (puede acceder desde su Dive) [Mas info +](https://towardsdatascience.com/getting-started-with-google-colab-f2fff97f594c)\n",
    "- Jupyter Notebookos [Instalando Anaconda](https://www.anaconda.com/products/individual) \n",
    "\n",
    "Esto que esta viendo es una notebook, las notebooks son archivos tipo .ipynb y puede abrir una notebook con Colab o jupyter.  <br> \n"
   ]
  },
  {
   "cell_type": "markdown",
   "metadata": {
    "colab_type": "text",
    "id": "0O5Bo609VGBf"
   },
   "source": [
    "### 🤔 ¿Porque usar Notebooks?\n",
    "\n",
    "---\n",
    "\n",
    "\n",
    "Las **principales herramientas** que ofrecen las notebooks son: \n",
    "\n",
    "1. Correr código en bloques. \n",
    "2. Podes escribir celdas con texto, lo que permite mejor organizar para presentaciones o  para compartir material. "
   ]
  },
  {
   "cell_type": "markdown",
   "metadata": {
    "colab_type": "text",
    "id": "ectuznanTaua",
    "slideshow": {
     "slide_type": "subslide"
    }
   },
   "source": [
    "### ⚔️  Jupyter vs Colab \n",
    "---\n",
    "\n",
    "En general cada uno tiene una ventaja. <br> \n",
    "\n",
    "**Colab**:\n",
    "\n",
    "1.   La principal ventaja de colab es que tenes todo Instalado.\n",
    "\n",
    "2.   Todo corre en la nube (computadoras de google que uno accede vía web).\n",
    "\n",
    "3. La desventaja de que corra en la nube, es que tal vez tu compu es más potente. Además los resultados de tu Colab se borran después de un tiempo, entonces tenes que asegurar de ir guardando en archivos lo que te interese. \n",
    "\n",
    "**Jupyter**:\n",
    "\n",
    "1. Corre localmente (en tu computadora). Suele sentirse mejor que Colab\n",
    "\n",
    "2. La principal desventaja es que tenes que instalar todo y asegurarte de no tener problemas de compatibilidad, lo cual suele ser complicado con librerias como Tensorflow (Deep Learning).\n",
    "\n"
   ]
  },
  {
   "cell_type": "markdown",
   "metadata": {
    "colab_type": "text",
    "id": "lzP6WkeIQ2PW",
    "slideshow": {
     "slide_type": "subslide"
    }
   },
   "source": [
    "### 🤖 Accesos Rápidos Google Colab\n",
    "\n",
    "\n",
    "---\n",
    "Esta es una lista de combinación de teclas para colab, para que le sea la vída más fácil.\n",
    "\n",
    "\n",
    " \n",
    "**Celda de Código Abajo** Ctrl+M  +\n",
    " B, <br> \n",
    "\n",
    "**Eliminar Celda** -> Ctrl+M + D <br>\n",
    "\n",
    "**Convertir Celda de Código a Texto** -> Ctrl+M + M\n",
    "\n"
   ]
  },
  {
   "cell_type": "markdown",
   "metadata": {
    "colab_type": "text",
    "id": "e_OV7raj_8Ph",
    "slideshow": {
     "slide_type": "subslide"
    }
   },
   "source": [
    "### 🤖 Accesos Rápidos Jupyter\n",
    "---\n",
    "Esta es una lista de combinación de teclas para Jupyter Notebooks, para que le sea la vída más fácil.\n",
    "\n",
    "\n",
    " \n",
    "**Celda de Código Abajo** Esc + B\n",
    "\n",
    "**Eliminar Celda** ->Esc + X <br>\n",
    "\n",
    "**Convertir Celda de Código a Texto** -> Esc + M\n"
   ]
  },
  {
   "cell_type": "markdown",
   "metadata": {
    "colab_type": "text",
    "id": "ftyGD-dp_8Pi",
    "slideshow": {
     "slide_type": "subslide"
    }
   },
   "source": [
    "### 🦚 Celdas de Texto\n",
    "---\n",
    "\n",
    "Las notebooks tienen la posibilidad de poder escribir en celdas de texto o código (python).\n",
    "\n",
    "En las celdas de texto el lenguaje usado es **markdown**, para más información pueden visitar\n",
    "[GitLab-Markdonw](https://about.gitlab.com/handbook/markdown-guide/)\n"
   ]
  },
  {
   "cell_type": "markdown",
   "metadata": {
    "colab_type": "text",
    "id": "B_nkEgEF_8Pj",
    "slideshow": {
     "slide_type": "subslide"
    }
   },
   "source": [
    "## 🌞  Mención Especial: Editores de Texto\n",
    "---\n",
    "\n",
    "\n",
    "Otra forma de usar python es por medio editores de texto. Por ejemplo \n",
    "\n",
    "- [Sublime](https://www.sublimetext.com/)\n",
    "- [Visual Studio Code](https://visualstudio.microsoft.com/es/)\n",
    "\n",
    "Estos corren localmente en tu computadora. "
   ]
  },
  {
   "cell_type": "markdown",
   "metadata": {
    "colab_type": "text",
    "id": "cXUM1qvPtcu-",
    "slideshow": {
     "slide_type": "slide"
    }
   },
   "source": [
    "## 🐍 Introducción a Python \n",
    "### 🖩 Python la Calculadora \n",
    "\n",
    "\n",
    "---\n",
    "\n",
    "\n",
    "Python puede ser utilizado para hacer cualquier tipo de cálculo matemático. <br>\n",
    "\n",
    "Lo que esta en verde, delante del **#** son comentarios, python los ignora. \n",
    "\n"
   ]
  },
  {
   "cell_type": "code",
   "execution_count": 1,
   "metadata": {
    "colab": {
     "base_uri": "https://localhost:8080/",
     "height": 34
    },
    "colab_type": "code",
    "executionInfo": {
     "elapsed": 1790,
     "status": "ok",
     "timestamp": 1594010906837,
     "user": {
      "displayName": "Matias Sanchez Gavier",
      "photoUrl": "https://lh3.googleusercontent.com/a-/AOh14GjD7hZiO5eInT5MTbCuYg7k5GwpkxEcRQM1Y9NQ2g=s64",
      "userId": "12001148323871082461"
     },
     "user_tz": 180
    },
    "id": "wmRCw_GHtcu_",
    "outputId": "56281b56-b58e-40c8-e515-66d07b483e4d"
   },
   "outputs": [
    {
     "data": {
      "text/plain": [
       "2"
      ]
     },
     "execution_count": 1,
     "metadata": {},
     "output_type": "execute_result"
    }
   ],
   "source": [
    "1+1 #Suma"
   ]
  },
  {
   "cell_type": "code",
   "execution_count": 2,
   "metadata": {
    "colab": {
     "base_uri": "https://localhost:8080/",
     "height": 34
    },
    "colab_type": "code",
    "executionInfo": {
     "elapsed": 2513,
     "status": "ok",
     "timestamp": 1594010907571,
     "user": {
      "displayName": "Matias Sanchez Gavier",
      "photoUrl": "https://lh3.googleusercontent.com/a-/AOh14GjD7hZiO5eInT5MTbCuYg7k5GwpkxEcRQM1Y9NQ2g=s64",
      "userId": "12001148323871082461"
     },
     "user_tz": 180
    },
    "id": "rmdNpLDptcvG",
    "outputId": "6b145605-d142-4136-9ef2-b762b1ebaecd",
    "slideshow": {
     "slide_type": "subslide"
    }
   },
   "outputs": [
    {
     "data": {
      "text/plain": [
       "10"
      ]
     },
     "execution_count": 2,
     "metadata": {},
     "output_type": "execute_result"
    }
   ],
   "source": [
    "# Multipliación\n",
    "2*5 "
   ]
  },
  {
   "cell_type": "code",
   "execution_count": 3,
   "metadata": {
    "colab": {
     "base_uri": "https://localhost:8080/",
     "height": 34
    },
    "colab_type": "code",
    "executionInfo": {
     "elapsed": 2508,
     "status": "ok",
     "timestamp": 1594010907572,
     "user": {
      "displayName": "Matias Sanchez Gavier",
      "photoUrl": "https://lh3.googleusercontent.com/a-/AOh14GjD7hZiO5eInT5MTbCuYg7k5GwpkxEcRQM1Y9NQ2g=s64",
      "userId": "12001148323871082461"
     },
     "user_tz": 180
    },
    "id": "watJFC1GtcvK",
    "outputId": "3b072f39-c33e-45e2-8761-a323baff666f",
    "slideshow": {
     "slide_type": "subslide"
    }
   },
   "outputs": [
    {
     "data": {
      "text/plain": [
       "3.0"
      ]
     },
     "execution_count": 3,
     "metadata": {},
     "output_type": "execute_result"
    }
   ],
   "source": [
    "#División \n",
    "9/3 "
   ]
  },
  {
   "cell_type": "code",
   "execution_count": 4,
   "metadata": {
    "colab": {
     "base_uri": "https://localhost:8080/",
     "height": 34
    },
    "colab_type": "code",
    "executionInfo": {
     "elapsed": 2505,
     "status": "ok",
     "timestamp": 1594010907574,
     "user": {
      "displayName": "Matias Sanchez Gavier",
      "photoUrl": "https://lh3.googleusercontent.com/a-/AOh14GjD7hZiO5eInT5MTbCuYg7k5GwpkxEcRQM1Y9NQ2g=s64",
      "userId": "12001148323871082461"
     },
     "user_tz": 180
    },
    "id": "82nu0FrBtcvO",
    "outputId": "50fc99b9-f92c-42c9-81df-6a4521b7cd64",
    "slideshow": {
     "slide_type": "subslide"
    }
   },
   "outputs": [
    {
     "data": {
      "text/plain": [
       "3"
      ]
     },
     "execution_count": 4,
     "metadata": {},
     "output_type": "execute_result"
    }
   ],
   "source": [
    "#División de Enteros\n",
    "10//3  "
   ]
  },
  {
   "cell_type": "code",
   "execution_count": 5,
   "metadata": {
    "colab": {
     "base_uri": "https://localhost:8080/",
     "height": 34
    },
    "colab_type": "code",
    "executionInfo": {
     "elapsed": 2504,
     "status": "ok",
     "timestamp": 1594010907578,
     "user": {
      "displayName": "Matias Sanchez Gavier",
      "photoUrl": "https://lh3.googleusercontent.com/a-/AOh14GjD7hZiO5eInT5MTbCuYg7k5GwpkxEcRQM1Y9NQ2g=s64",
      "userId": "12001148323871082461"
     },
     "user_tz": 180
    },
    "id": "Yjs3IzEjtcvS",
    "outputId": "748f62ba-4a5d-4e57-88b5-eef5e2b6097e",
    "slideshow": {
     "slide_type": "subslide"
    }
   },
   "outputs": [
    {
     "data": {
      "text/plain": [
       "16"
      ]
     },
     "execution_count": 5,
     "metadata": {},
     "output_type": "execute_result"
    }
   ],
   "source": [
    "# 2 elevado a la cuarta\n",
    "2**4"
   ]
  },
  {
   "cell_type": "code",
   "execution_count": 6,
   "metadata": {
    "colab": {
     "base_uri": "https://localhost:8080/",
     "height": 34
    },
    "colab_type": "code",
    "executionInfo": {
     "elapsed": 2502,
     "status": "ok",
     "timestamp": 1594010907580,
     "user": {
      "displayName": "Matias Sanchez Gavier",
      "photoUrl": "https://lh3.googleusercontent.com/a-/AOh14GjD7hZiO5eInT5MTbCuYg7k5GwpkxEcRQM1Y9NQ2g=s64",
      "userId": "12001148323871082461"
     },
     "user_tz": 180
    },
    "id": "eC6uisLxtcvW",
    "outputId": "1ef5e870-c164-4a4c-859b-7d7b9e1a3d1f",
    "slideshow": {
     "slide_type": "subslide"
    }
   },
   "outputs": [
    {
     "data": {
      "text/plain": [
       "0"
      ]
     },
     "execution_count": 6,
     "metadata": {},
     "output_type": "execute_result"
    }
   ],
   "source": [
    "# Operación del Resto\n",
    "4%2"
   ]
  },
  {
   "cell_type": "code",
   "execution_count": 7,
   "metadata": {
    "colab": {
     "base_uri": "https://localhost:8080/",
     "height": 34
    },
    "colab_type": "code",
    "executionInfo": {
     "elapsed": 2499,
     "status": "ok",
     "timestamp": 1594010907581,
     "user": {
      "displayName": "Matias Sanchez Gavier",
      "photoUrl": "https://lh3.googleusercontent.com/a-/AOh14GjD7hZiO5eInT5MTbCuYg7k5GwpkxEcRQM1Y9NQ2g=s64",
      "userId": "12001148323871082461"
     },
     "user_tz": 180
    },
    "id": "Lr4kfawDtcva",
    "outputId": "1a1899ee-7a7f-4cb8-d05a-7dc1f45020eb",
    "slideshow": {
     "slide_type": "subslide"
    }
   },
   "outputs": [
    {
     "data": {
      "text/plain": [
       "50"
      ]
     },
     "execution_count": 7,
     "metadata": {},
     "output_type": "execute_result"
    }
   ],
   "source": [
    "# Podes Ordenar el orden de operaciones con el parentesís\n",
    "(2 + 3) * (5 + 5)"
   ]
  },
  {
   "cell_type": "markdown",
   "metadata": {
    "colab_type": "text",
    "id": "agv2Qaiqtcvn",
    "slideshow": {
     "slide_type": "slide"
    }
   },
   "source": [
    "###  Mostrar Resultados (🖨️ Printing) \n",
    "---\n",
    "En general si uno hace **Ctrl + Enter** se ejecuta la celda y se muestra el resultado. Pero no simpres es así, además resolvemos la problmática de querere mostrar varios resultados a la vez, para esto vamos a usar la función **print()**\n",
    "\n",
    "\n",
    "\n",
    "\n"
   ]
  },
  {
   "cell_type": "code",
   "execution_count": 8,
   "metadata": {
    "colab": {
     "base_uri": "https://localhost:8080/",
     "height": 34
    },
    "colab_type": "code",
    "executionInfo": {
     "elapsed": 2497,
     "status": "ok",
     "timestamp": 1594010907583,
     "user": {
      "displayName": "Matias Sanchez Gavier",
      "photoUrl": "https://lh3.googleusercontent.com/a-/AOh14GjD7hZiO5eInT5MTbCuYg7k5GwpkxEcRQM1Y9NQ2g=s64",
      "userId": "12001148323871082461"
     },
     "user_tz": 180
    },
    "id": "cqVBlyZ7tcvo",
    "outputId": "765cdb82-d2e8-406c-b021-369844c1a28c",
    "slideshow": {
     "slide_type": "subslide"
    }
   },
   "outputs": [
    {
     "name": "stdout",
     "output_type": "stream",
     "text": [
      "Soy Feliz\n"
     ]
    }
   ],
   "source": [
    "print(\"Soy Feliz\") "
   ]
  },
  {
   "cell_type": "code",
   "execution_count": 9,
   "metadata": {
    "colab": {
     "base_uri": "https://localhost:8080/",
     "height": 68
    },
    "colab_type": "code",
    "executionInfo": {
     "elapsed": 2441,
     "status": "ok",
     "timestamp": 1594010907587,
     "user": {
      "displayName": "Matias Sanchez Gavier",
      "photoUrl": "https://lh3.googleusercontent.com/a-/AOh14GjD7hZiO5eInT5MTbCuYg7k5GwpkxEcRQM1Y9NQ2g=s64",
      "userId": "12001148323871082461"
     },
     "user_tz": 180
    },
    "id": "xj-iwqs6XvR7",
    "outputId": "e2a97cd4-63df-4bb8-fcc0-73c3edb4b770",
    "slideshow": {
     "slide_type": "subslide"
    }
   },
   "outputs": [
    {
     "name": "stdout",
     "output_type": "stream",
     "text": [
      "10\n",
      "9\n",
      "6561\n"
     ]
    }
   ],
   "source": [
    "print(2+8)\n",
    "print(3*3)\n",
    "print(3**8)"
   ]
  },
  {
   "cell_type": "markdown",
   "metadata": {
    "colab_type": "text",
    "id": "cmoLTTivtcvd",
    "slideshow": {
     "slide_type": "slide"
    }
   },
   "source": [
    "### ⬅️ Asignamiento de Variables\n",
    "\n",
    "\n",
    "---\n",
    "La idea es que podemos **guardar valores** dentro de una variable. <br> \n",
    "Entonces en un futuro podemos hacer referencia a esa variable para obtener el valor. \n",
    "\n"
   ]
  },
  {
   "cell_type": "code",
   "execution_count": 10,
   "metadata": {
    "colab": {
     "base_uri": "https://localhost:8080/",
     "height": 34
    },
    "colab_type": "code",
    "executionInfo": {
     "elapsed": 2435,
     "status": "ok",
     "timestamp": 1594010907589,
     "user": {
      "displayName": "Matias Sanchez Gavier",
      "photoUrl": "https://lh3.googleusercontent.com/a-/AOh14GjD7hZiO5eInT5MTbCuYg7k5GwpkxEcRQM1Y9NQ2g=s64",
      "userId": "12001148323871082461"
     },
     "user_tz": 180
    },
    "id": "Fbx1DD7Ftcvd",
    "outputId": "a1f0ece3-0fdf-4709-e4d3-a50f248e91dd",
    "slideshow": {
     "slide_type": "subslide"
    }
   },
   "outputs": [
    {
     "name": "stdout",
     "output_type": "stream",
     "text": [
      "2 8 10\n"
     ]
    }
   ],
   "source": [
    "# Las variables se asignan con el igual\n",
    "matias= 2\n",
    "rodri = 2*4\n",
    "\n",
    "# Puedo hacer opreaciones con las variables\n",
    "z = matias + rodri\n",
    "\n",
    "print(matias, rodri, z )"
   ]
  },
  {
   "cell_type": "markdown",
   "metadata": {
    "colab_type": "text",
    "id": "sPyecaPuY7fD",
    "slideshow": {
     "slide_type": "subslide"
    }
   },
   "source": [
    "Las variables pueden guardar casi todo, ya vamos a ver en el futuro más ejemplos. Un ejemplo son las strings (valores tipo texto digamos)"
   ]
  },
  {
   "cell_type": "code",
   "execution_count": 11,
   "metadata": {
    "colab": {
     "base_uri": "https://localhost:8080/",
     "height": 34
    },
    "colab_type": "code",
    "executionInfo": {
     "elapsed": 2421,
     "status": "ok",
     "timestamp": 1594010907590,
     "user": {
      "displayName": "Matias Sanchez Gavier",
      "photoUrl": "https://lh3.googleusercontent.com/a-/AOh14GjD7hZiO5eInT5MTbCuYg7k5GwpkxEcRQM1Y9NQ2g=s64",
      "userId": "12001148323871082461"
     },
     "user_tz": 180
    },
    "id": "Dh2ce4XFY6FW",
    "outputId": "3fc9c724-631e-467e-bbbe-d2afe9a044ad",
    "slideshow": {
     "slide_type": "subslide"
    }
   },
   "outputs": [
    {
     "name": "stdout",
     "output_type": "stream",
     "text": [
      "Buen Día\n"
     ]
    }
   ],
   "source": [
    "saludo = \"Buen Día\"\n",
    "print(saludo)"
   ]
  },
  {
   "cell_type": "markdown",
   "metadata": {
    "colab_type": "text",
    "id": "YJq9wOZd505G",
    "slideshow": {
     "slide_type": "slide"
    }
   },
   "source": [
    "### 😲  Tipos de Variables\n",
    "\n",
    "\n",
    "---\n",
    "\n",
    "\n",
    "_Una parte fundamental de poder comprender este lenguaje de programacion es tener el conocimiento de que le pedimos y que nos devuelve Python_\n",
    "\n",
    "Existe una funcion llamada **TYPE** que nos va a ayudar con esto:"
   ]
  },
  {
   "cell_type": "code",
   "execution_count": 12,
   "metadata": {
    "colab": {
     "base_uri": "https://localhost:8080/",
     "height": 34
    },
    "colab_type": "code",
    "executionInfo": {
     "elapsed": 2416,
     "status": "ok",
     "timestamp": 1594010907591,
     "user": {
      "displayName": "Matias Sanchez Gavier",
      "photoUrl": "https://lh3.googleusercontent.com/a-/AOh14GjD7hZiO5eInT5MTbCuYg7k5GwpkxEcRQM1Y9NQ2g=s64",
      "userId": "12001148323871082461"
     },
     "user_tz": 180
    },
    "id": "fP5qtsym505H",
    "outputId": "a60ca18a-0a75-4360-cefb-71a5de85a27c",
    "slideshow": {
     "slide_type": "subslide"
    }
   },
   "outputs": [
    {
     "data": {
      "text/plain": [
       "int"
      ]
     },
     "execution_count": 12,
     "metadata": {},
     "output_type": "execute_result"
    }
   ],
   "source": [
    "type(1+1) # Variable tipo numeros enteros"
   ]
  },
  {
   "cell_type": "code",
   "execution_count": 13,
   "metadata": {
    "colab": {
     "base_uri": "https://localhost:8080/",
     "height": 34
    },
    "colab_type": "code",
    "executionInfo": {
     "elapsed": 2412,
     "status": "ok",
     "timestamp": 1594010907593,
     "user": {
      "displayName": "Matias Sanchez Gavier",
      "photoUrl": "https://lh3.googleusercontent.com/a-/AOh14GjD7hZiO5eInT5MTbCuYg7k5GwpkxEcRQM1Y9NQ2g=s64",
      "userId": "12001148323871082461"
     },
     "user_tz": 180
    },
    "id": "STuUiCMq505J",
    "outputId": "6334caa6-fddd-4575-e0ca-72e47c1aab09",
    "slideshow": {
     "slide_type": "subslide"
    }
   },
   "outputs": [
    {
     "data": {
      "text/plain": [
       "float"
      ]
     },
     "execution_count": 13,
     "metadata": {},
     "output_type": "execute_result"
    }
   ],
   "source": [
    "type(2/2) #variable tipo numeros Reales (tiene coma, hablando entre nosotros)"
   ]
  },
  {
   "cell_type": "code",
   "execution_count": 14,
   "metadata": {
    "colab": {
     "base_uri": "https://localhost:8080/",
     "height": 51
    },
    "colab_type": "code",
    "executionInfo": {
     "elapsed": 2407,
     "status": "ok",
     "timestamp": 1594010907594,
     "user": {
      "displayName": "Matias Sanchez Gavier",
      "photoUrl": "https://lh3.googleusercontent.com/a-/AOh14GjD7hZiO5eInT5MTbCuYg7k5GwpkxEcRQM1Y9NQ2g=s64",
      "userId": "12001148323871082461"
     },
     "user_tz": 180
    },
    "id": "f9c5MBGyaX6b",
    "outputId": "94354837-b4b9-44ff-e12f-1ecf6ffeef23",
    "slideshow": {
     "slide_type": "subslide"
    }
   },
   "outputs": [
    {
     "name": "stdout",
     "output_type": "stream",
     "text": [
      "<class 'int'>\n",
      "<class 'float'>\n"
     ]
    }
   ],
   "source": [
    "print(type(2*2))\n",
    "print(type(2*2.1)) #se coerce a float el resultado "
   ]
  },
  {
   "cell_type": "code",
   "execution_count": 15,
   "metadata": {
    "colab": {
     "base_uri": "https://localhost:8080/",
     "height": 51
    },
    "colab_type": "code",
    "executionInfo": {
     "elapsed": 2401,
     "status": "ok",
     "timestamp": 1594010907595,
     "user": {
      "displayName": "Matias Sanchez Gavier",
      "photoUrl": "https://lh3.googleusercontent.com/a-/AOh14GjD7hZiO5eInT5MTbCuYg7k5GwpkxEcRQM1Y9NQ2g=s64",
      "userId": "12001148323871082461"
     },
     "user_tz": 180
    },
    "id": "njZ4JcvDZ55U",
    "outputId": "f2a6b1b0-ca3c-436e-e7f5-af06da80e62a",
    "slideshow": {
     "slide_type": "subslide"
    }
   },
   "outputs": [
    {
     "name": "stdout",
     "output_type": "stream",
     "text": [
      "<class 'str'>\n",
      "<class 'str'>\n"
     ]
    }
   ],
   "source": [
    "print(type(saludo))\n",
    "print(type(\"Buen Día, dijo la mariposa\")) "
   ]
  },
  {
   "cell_type": "markdown",
   "metadata": {
    "colab_type": "text",
    "id": "Up_mFdVCad1W",
    "slideshow": {
     "slide_type": "subslide"
    }
   },
   "source": [
    "Cuando python ejecuta type(saludo), reemplaza saludo por el valor que guarda que era \"Buen Día, dijo la mariposa\".  <br> \n",
    "\n",
    "Entonces el tipo de variables que vimos son :\n",
    "\n",
    "\n",
    "\n",
    "*   **int** de intenger (número entero)\n",
    "*   **float** (número Real)\n",
    "* **str** de string (carácteres alfanúmericos) \n",
    "\n",
    "En realidad en python hay muchas mas  \"tipos de variables\" pero en realidad se denominan objetos, todo en python son **objetos/clases**. Los vamos a ver más adelante\n"
   ]
  },
  {
   "cell_type": "markdown",
   "metadata": {
    "colab_type": "text",
    "id": "vPxEscMFa_H3",
    "slideshow": {
     "slide_type": "slide"
    }
   },
   "source": [
    "### 🖨️Printing Avanzado\n",
    "\n",
    "\n",
    "---\n",
    "Podemos combinar texto con variables en la función print, para esto usamos {} y format(). \n",
    "\n"
   ]
  },
  {
   "cell_type": "code",
   "execution_count": 16,
   "metadata": {
    "colab": {
     "base_uri": "https://localhost:8080/",
     "height": 34
    },
    "colab_type": "code",
    "executionInfo": {
     "elapsed": 2390,
     "status": "ok",
     "timestamp": 1594010907596,
     "user": {
      "displayName": "Matias Sanchez Gavier",
      "photoUrl": "https://lh3.googleusercontent.com/a-/AOh14GjD7hZiO5eInT5MTbCuYg7k5GwpkxEcRQM1Y9NQ2g=s64",
      "userId": "12001148323871082461"
     },
     "user_tz": 180
    },
    "id": "GIEttCDWtcvv",
    "outputId": "5b1aec0c-fc5c-4e5f-d705-4160d0494b9c",
    "slideshow": {
     "slide_type": "subslide"
    }
   },
   "outputs": [
    {
     "name": "stdout",
     "output_type": "stream",
     "text": [
      "Mi numero prferido es: 12, y mi nombre es: 2\n"
     ]
    }
   ],
   "source": [
    "numero = 12\n",
    "nombre = matias\n",
    "\n",
    "print('Mi numero prferido es: {}, y mi nombre es: {}'.format(numero,nombre))"
   ]
  },
  {
   "cell_type": "markdown",
   "metadata": {
    "colab_type": "text",
    "id": "dll20i_Tbxf8",
    "slideshow": {
     "slide_type": "subslide"
    }
   },
   "source": [
    "Una versión mas corta: "
   ]
  },
  {
   "cell_type": "code",
   "execution_count": 17,
   "metadata": {
    "colab": {
     "base_uri": "https://localhost:8080/",
     "height": 35
    },
    "colab_type": "code",
    "executionInfo": {
     "elapsed": 2383,
     "status": "ok",
     "timestamp": 1594010907598,
     "user": {
      "displayName": "Matias Sanchez Gavier",
      "photoUrl": "https://lh3.googleusercontent.com/a-/AOh14GjD7hZiO5eInT5MTbCuYg7k5GwpkxEcRQM1Y9NQ2g=s64",
      "userId": "12001148323871082461"
     },
     "user_tz": 180
    },
    "id": "vk71N1c3505n",
    "outputId": "c148963d-280c-4452-ecb4-67a65141bae5",
    "slideshow": {
     "slide_type": "subslide"
    }
   },
   "outputs": [
    {
     "data": {
      "text/plain": [
       "'Mi numero prferido es: 12, y mi nombre es: 2'"
      ]
     },
     "execution_count": 17,
     "metadata": {},
     "output_type": "execute_result"
    }
   ],
   "source": [
    "f'Mi numero prferido es: {numero}, y mi nombre es: {nombre}'"
   ]
  },
  {
   "cell_type": "markdown",
   "metadata": {
    "colab_type": "text",
    "id": "B6pXmX_Ztcvx",
    "slideshow": {
     "slide_type": "slide"
    }
   },
   "source": [
    "### [ ] Listas\n",
    "---\n",
    "\n",
    "Las listas son una estructura de datos, nos van a perimitir almacenar multiples coasas.  <br> \n",
    "\n",
    "Se crea una lista con los parentesís **\"[ ]\"** , y cada elemento es separado por una coma. \n",
    "\n",
    "\n",
    "\n",
    "\n"
   ]
  },
  {
   "cell_type": "code",
   "execution_count": 18,
   "metadata": {
    "colab": {
     "base_uri": "https://localhost:8080/",
     "height": 34
    },
    "colab_type": "code",
    "executionInfo": {
     "elapsed": 2378,
     "status": "ok",
     "timestamp": 1594010907599,
     "user": {
      "displayName": "Matias Sanchez Gavier",
      "photoUrl": "https://lh3.googleusercontent.com/a-/AOh14GjD7hZiO5eInT5MTbCuYg7k5GwpkxEcRQM1Y9NQ2g=s64",
      "userId": "12001148323871082461"
     },
     "user_tz": 180
    },
    "id": "yyaELC93tcvx",
    "outputId": "c4550412-aa87-4ddd-ec85-723b20803ca6",
    "slideshow": {
     "slide_type": "subslide"
    }
   },
   "outputs": [
    {
     "data": {
      "text/plain": [
       "[1, 2, 3]"
      ]
     },
     "execution_count": 18,
     "metadata": {},
     "output_type": "execute_result"
    }
   ],
   "source": [
    "[1,2,3]"
   ]
  },
  {
   "cell_type": "code",
   "execution_count": 19,
   "metadata": {
    "colab": {},
    "colab_type": "code",
    "executionInfo": {
     "elapsed": 2373,
     "status": "ok",
     "timestamp": 1594010907600,
     "user": {
      "displayName": "Matias Sanchez Gavier",
      "photoUrl": "https://lh3.googleusercontent.com/a-/AOh14GjD7hZiO5eInT5MTbCuYg7k5GwpkxEcRQM1Y9NQ2g=s64",
      "userId": "12001148323871082461"
     },
     "user_tz": 180
    },
    "id": "m6Z3M79FdEpS",
    "slideshow": {
     "slide_type": "subslide"
    }
   },
   "outputs": [],
   "source": [
    "[] #lista vacía\n",
    "\n",
    "[1, 2] # lista con dos elementos\n",
    "\n",
    "[1, 3, 6.32, \"Buen día\"] #no es necesario que todos sean del mismo tipo\n",
    "\n",
    "x = [1, 2]  #se pueden guardar dentro de varíables"
   ]
  },
  {
   "cell_type": "code",
   "execution_count": 20,
   "metadata": {
    "colab": {
     "base_uri": "https://localhost:8080/",
     "height": 34
    },
    "colab_type": "code",
    "executionInfo": {
     "elapsed": 2369,
     "status": "ok",
     "timestamp": 1594010907601,
     "user": {
      "displayName": "Matias Sanchez Gavier",
      "photoUrl": "https://lh3.googleusercontent.com/a-/AOh14GjD7hZiO5eInT5MTbCuYg7k5GwpkxEcRQM1Y9NQ2g=s64",
      "userId": "12001148323871082461"
     },
     "user_tz": 180
    },
    "id": "vsS2ccw7Ug94",
    "outputId": "39c2deea-f487-43de-d723-2077bcca8569",
    "slideshow": {
     "slide_type": "subslide"
    }
   },
   "outputs": [
    {
     "data": {
      "text/plain": [
       "[[1, 2], 4, 5, 6]"
      ]
     },
     "execution_count": 20,
     "metadata": {},
     "output_type": "execute_result"
    }
   ],
   "source": [
    "#Asignacion de una lista\n",
    "lista = [x, 4,5,6 ]\n",
    "lista"
   ]
  },
  {
   "cell_type": "code",
   "execution_count": 21,
   "metadata": {
    "colab": {},
    "colab_type": "code",
    "executionInfo": {
     "elapsed": 2366,
     "status": "ok",
     "timestamp": 1594010907603,
     "user": {
      "displayName": "Matias Sanchez Gavier",
      "photoUrl": "https://lh3.googleusercontent.com/a-/AOh14GjD7hZiO5eInT5MTbCuYg7k5GwpkxEcRQM1Y9NQ2g=s64",
      "userId": "12001148323871082461"
     },
     "user_tz": 180
    },
    "id": "sJscpKjytcvz",
    "slideshow": {
     "slide_type": "subslide"
    }
   },
   "outputs": [],
   "source": [
    "u = ['hola',1,[1,2]] # lista dentro de lista"
   ]
  },
  {
   "cell_type": "markdown",
   "metadata": {
    "colab_type": "text",
    "id": "5r7jtvR3dxKb",
    "slideshow": {
     "slide_type": "subslide"
    }
   },
   "source": [
    "#### Selección de Elementos en Listas \n",
    "\n",
    "\n",
    "---\n",
    "\n",
    "Para poder elegir elementos utilizamos los  **\"[ ]\"** al lado de la variable que es una lista, y dentro de los mismo ponemos el índice del elemento que queremos. \n",
    "\n",
    "Hay que tener en cuenta qeu  Python es de **índice cero** , esto significa que empieza a contar desde cero.!\n"
   ]
  },
  {
   "cell_type": "markdown",
   "metadata": {
    "colab_type": "text",
    "id": "cwADvDw8fGFF",
    "slideshow": {
     "slide_type": "subslide"
    }
   },
   "source": [
    "Esta imagen representa el sistema de indices en python con las listas: \n",
    "\n",
    "![texto alternativo](https://cdn.programiz.com/sites/tutorial2program/files/python-list-index.png)\n"
   ]
  },
  {
   "cell_type": "code",
   "execution_count": 22,
   "metadata": {
    "colab": {
     "base_uri": "https://localhost:8080/",
     "height": 68
    },
    "colab_type": "code",
    "executionInfo": {
     "elapsed": 2361,
     "status": "ok",
     "timestamp": 1594010907605,
     "user": {
      "displayName": "Matias Sanchez Gavier",
      "photoUrl": "https://lh3.googleusercontent.com/a-/AOh14GjD7hZiO5eInT5MTbCuYg7k5GwpkxEcRQM1Y9NQ2g=s64",
      "userId": "12001148323871082461"
     },
     "user_tz": 180
    },
    "id": "Itx2a57heI8O",
    "outputId": "9af6c2a6-2f1b-4bb3-8d55-c1417919fa33",
    "slideshow": {
     "slide_type": "subslide"
    }
   },
   "outputs": [
    {
     "name": "stdout",
     "output_type": "stream",
     "text": [
      "a\n",
      "b\n",
      "c\n"
     ]
    }
   ],
   "source": [
    "x = ['a','b','c']\n",
    "print(x[0])\n",
    "print(x[1])\n",
    "print(x[2])"
   ]
  },
  {
   "cell_type": "code",
   "execution_count": 23,
   "metadata": {
    "colab": {
     "base_uri": "https://localhost:8080/",
     "height": 34
    },
    "colab_type": "code",
    "executionInfo": {
     "elapsed": 2357,
     "status": "ok",
     "timestamp": 1594010907607,
     "user": {
      "displayName": "Matias Sanchez Gavier",
      "photoUrl": "https://lh3.googleusercontent.com/a-/AOh14GjD7hZiO5eInT5MTbCuYg7k5GwpkxEcRQM1Y9NQ2g=s64",
      "userId": "12001148323871082461"
     },
     "user_tz": 180
    },
    "id": "--VMUt8Rfbc0",
    "outputId": "a81e65bb-4e4b-419f-eed9-931da0d89fec",
    "slideshow": {
     "slide_type": "subslide"
    }
   },
   "outputs": [
    {
     "data": {
      "text/plain": [
       "23"
      ]
     },
     "execution_count": 23,
     "metadata": {},
     "output_type": "execute_result"
    }
   ],
   "source": [
    "h = [ \"Mauricio \",  [ \"Sofia\", 23 ]]\n",
    "\n",
    "h[1][1] #23, segundo elemento de la primer lista, segundo elemento de la lista seleccionada "
   ]
  },
  {
   "cell_type": "markdown",
   "metadata": {
    "colab_type": "text",
    "id": "F2HGhxzWeV00",
    "slideshow": {
     "slide_type": "subslide"
    }
   },
   "source": [
    "Podemos seleccionar varios elementos de corrido con **\"[indice: ]\"**. Veamos ejemplos:  \n"
   ]
  },
  {
   "cell_type": "code",
   "execution_count": 24,
   "metadata": {
    "colab": {
     "base_uri": "https://localhost:8080/",
     "height": 51
    },
    "colab_type": "code",
    "executionInfo": {
     "elapsed": 2349,
     "status": "ok",
     "timestamp": 1594010907609,
     "user": {
      "displayName": "Matias Sanchez Gavier",
      "photoUrl": "https://lh3.googleusercontent.com/a-/AOh14GjD7hZiO5eInT5MTbCuYg7k5GwpkxEcRQM1Y9NQ2g=s64",
      "userId": "12001148323871082461"
     },
     "user_tz": 180
    },
    "id": "RRUPRVXfeibB",
    "outputId": "14f5bcd2-c5a1-4f76-f0eb-b304b39d811e",
    "slideshow": {
     "slide_type": "subslide"
    }
   },
   "outputs": [
    {
     "name": "stdout",
     "output_type": "stream",
     "text": [
      "['hola', 1, [1, 2]]\n",
      "[1, [1, 2]]\n"
     ]
    }
   ],
   "source": [
    "print(u[0:]) \n",
    "print(u[1:]) #el elemento dos es el último, y es una lista. "
   ]
  },
  {
   "cell_type": "code",
   "execution_count": 25,
   "metadata": {
    "colab": {
     "base_uri": "https://localhost:8080/",
     "height": 51
    },
    "colab_type": "code",
    "executionInfo": {
     "elapsed": 2343,
     "status": "ok",
     "timestamp": 1594010907610,
     "user": {
      "displayName": "Matias Sanchez Gavier",
      "photoUrl": "https://lh3.googleusercontent.com/a-/AOh14GjD7hZiO5eInT5MTbCuYg7k5GwpkxEcRQM1Y9NQ2g=s64",
      "userId": "12001148323871082461"
     },
     "user_tz": 180
    },
    "id": "SUXtyDbXe2XV",
    "outputId": "c2631ffd-0496-4aa6-cfed-5e2bd90048cd",
    "slideshow": {
     "slide_type": "subslide"
    }
   },
   "outputs": [
    {
     "name": "stdout",
     "output_type": "stream",
     "text": [
      "['a', 'b', 'c']\n",
      "['a', 'b']\n"
     ]
    }
   ],
   "source": [
    "# selección con negativos va al reves, de derecha a izquierda\n",
    "print(x)\n",
    "print(x[:-1])"
   ]
  },
  {
   "cell_type": "markdown",
   "metadata": {
    "colab_type": "text",
    "id": "TcTT8fePfzoV",
    "slideshow": {
     "slide_type": "subslide"
    }
   },
   "source": [
    "#### Funciones asociadas a listas \n",
    "---\n",
    "Las listas tienen funciones que son muy utiles, ya vamos a ver bien que son las funciones.  <br>\n",
    "\n",
    "Para usar las funciones asociadas hacemos -> **lista.nombre_de_funcion(parametros)** \n"
   ]
  },
  {
   "cell_type": "code",
   "execution_count": 26,
   "metadata": {
    "colab": {
     "base_uri": "https://localhost:8080/",
     "height": 34
    },
    "colab_type": "code",
    "executionInfo": {
     "elapsed": 2338,
     "status": "ok",
     "timestamp": 1594010907612,
     "user": {
      "displayName": "Matias Sanchez Gavier",
      "photoUrl": "https://lh3.googleusercontent.com/a-/AOh14GjD7hZiO5eInT5MTbCuYg7k5GwpkxEcRQM1Y9NQ2g=s64",
      "userId": "12001148323871082461"
     },
     "user_tz": 180
    },
    "id": "01ykwAxetcv4",
    "outputId": "7b3a390e-c0f8-4302-adf7-0c6acd5023aa",
    "slideshow": {
     "slide_type": "subslide"
    }
   },
   "outputs": [
    {
     "name": "stdout",
     "output_type": "stream",
     "text": [
      "['a', 'b', 'c', 2, ['hola', 23]]\n"
     ]
    }
   ],
   "source": [
    "x = [\"a\",\"b\"]\n",
    "x.append('c') #agrega el elemento indicado a la lista \n",
    "x.append(2)\n",
    "x.append([\"hola\", 23])\n",
    "\n",
    "print(x)"
   ]
  },
  {
   "cell_type": "code",
   "execution_count": 27,
   "metadata": {
    "colab": {
     "base_uri": "https://localhost:8080/",
     "height": 34
    },
    "colab_type": "code",
    "executionInfo": {
     "elapsed": 2335,
     "status": "ok",
     "timestamp": 1594010907615,
     "user": {
      "displayName": "Matias Sanchez Gavier",
      "photoUrl": "https://lh3.googleusercontent.com/a-/AOh14GjD7hZiO5eInT5MTbCuYg7k5GwpkxEcRQM1Y9NQ2g=s64",
      "userId": "12001148323871082461"
     },
     "user_tz": 180
    },
    "id": "SHHFm-uggk_p",
    "outputId": "b8618e17-ad05-4733-cb88-33bafcb8ed9b",
    "slideshow": {
     "slide_type": "subslide"
    }
   },
   "outputs": [
    {
     "data": {
      "text/plain": [
       "list"
      ]
     },
     "execution_count": 27,
     "metadata": {},
     "output_type": "execute_result"
    }
   ],
   "source": [
    "type(x) #x es una lista"
   ]
  },
  {
   "cell_type": "code",
   "execution_count": 28,
   "metadata": {
    "colab": {
     "base_uri": "https://localhost:8080/",
     "height": 34
    },
    "colab_type": "code",
    "executionInfo": {
     "elapsed": 2331,
     "status": "ok",
     "timestamp": 1594010907617,
     "user": {
      "displayName": "Matias Sanchez Gavier",
      "photoUrl": "https://lh3.googleusercontent.com/a-/AOh14GjD7hZiO5eInT5MTbCuYg7k5GwpkxEcRQM1Y9NQ2g=s64",
      "userId": "12001148323871082461"
     },
     "user_tz": 180
    },
    "id": "ZfQ3SRpkVCSy",
    "outputId": "98707485-7151-4445-d956-8be278488828",
    "slideshow": {
     "slide_type": "subslide"
    }
   },
   "outputs": [
    {
     "data": {
      "text/plain": [
       "['a', 'b', 'c', 2]"
      ]
     },
     "execution_count": 28,
     "metadata": {},
     "output_type": "execute_result"
    }
   ],
   "source": [
    "x.pop()\n",
    "x"
   ]
  },
  {
   "cell_type": "markdown",
   "metadata": {
    "colab_type": "text",
    "id": "ZwPamcBkgspk",
    "slideshow": {
     "slide_type": "subslide"
    }
   },
   "source": [
    "Una forma de ver toda la información asociado a un objeto, como las listas es usar la función **help()** (ayuda).  \n",
    "\n",
    "<br>\n",
    "\n",
    "Methods es otro nombre para funciones. "
   ]
  },
  {
   "cell_type": "code",
   "execution_count": 29,
   "metadata": {
    "colab": {
     "base_uri": "https://localhost:8080/",
     "height": 376
    },
    "colab_type": "code",
    "executionInfo": {
     "elapsed": 272404,
     "status": "ok",
     "timestamp": 1594011177697,
     "user": {
      "displayName": "Matias Sanchez Gavier",
      "photoUrl": "https://lh3.googleusercontent.com/a-/AOh14GjD7hZiO5eInT5MTbCuYg7k5GwpkxEcRQM1Y9NQ2g=s64",
      "userId": "12001148323871082461"
     },
     "user_tz": 180
    },
    "id": "y_G4TSVHg4GK",
    "outputId": "18432d1e-b6e6-4179-b5f3-ffd66ed8ddca",
    "slideshow": {
     "slide_type": "subslide"
    }
   },
   "outputs": [],
   "source": [
    "#help()"
   ]
  },
  {
   "cell_type": "markdown",
   "metadata": {
    "colab_type": "text",
    "id": "jQiubEJhtcwT",
    "slideshow": {
     "slide_type": "slide"
    }
   },
   "source": [
    "### { } Diccionarios\n",
    "\n",
    "\n",
    "---\n",
    "\n",
    "\n",
    "\n",
    "\n",
    "Los diccionarios son otro tipo de estructura de datos, no los vamos a utilizar tantos. El uso más comun son las listas.  \n",
    "\n",
    "Los Diccionarios se inicializan con **\"{ nombre de llave : valor asociado\n",
    " }\"**, es decir que cada elemento del diccionario es un par de llave y valor, la key o llave va a ser lo que utilicemos para acceder al valor asociado. "
   ]
  },
  {
   "cell_type": "code",
   "execution_count": 30,
   "metadata": {
    "colab": {},
    "colab_type": "code",
    "executionInfo": {
     "elapsed": 272557,
     "status": "ok",
     "timestamp": 1594011177856,
     "user": {
      "displayName": "Matias Sanchez Gavier",
      "photoUrl": "https://lh3.googleusercontent.com/a-/AOh14GjD7hZiO5eInT5MTbCuYg7k5GwpkxEcRQM1Y9NQ2g=s64",
      "userId": "12001148323871082461"
     },
     "user_tz": 180
    },
    "id": "QBXbJ86KtcwU",
    "slideshow": {
     "slide_type": "subslide"
    }
   },
   "outputs": [],
   "source": [
    "d = {'key1':'item1','key2':'item2'}"
   ]
  },
  {
   "cell_type": "code",
   "execution_count": 31,
   "metadata": {
    "colab": {
     "base_uri": "https://localhost:8080/",
     "height": 34
    },
    "colab_type": "code",
    "executionInfo": {
     "elapsed": 272569,
     "status": "ok",
     "timestamp": 1594011177874,
     "user": {
      "displayName": "Matias Sanchez Gavier",
      "photoUrl": "https://lh3.googleusercontent.com/a-/AOh14GjD7hZiO5eInT5MTbCuYg7k5GwpkxEcRQM1Y9NQ2g=s64",
      "userId": "12001148323871082461"
     },
     "user_tz": 180
    },
    "id": "pzMF6ztctcwW",
    "outputId": "0f1e0c00-79a0-4602-8615-efb5cc4d9397",
    "slideshow": {
     "slide_type": "subslide"
    }
   },
   "outputs": [
    {
     "data": {
      "text/plain": [
       "{'key1': 'item1', 'key2': 'item2'}"
      ]
     },
     "execution_count": 31,
     "metadata": {},
     "output_type": "execute_result"
    }
   ],
   "source": [
    "d"
   ]
  },
  {
   "cell_type": "code",
   "execution_count": 32,
   "metadata": {
    "colab": {},
    "colab_type": "code",
    "executionInfo": {
     "elapsed": 272588,
     "status": "ok",
     "timestamp": 1594011177899,
     "user": {
      "displayName": "Matias Sanchez Gavier",
      "photoUrl": "https://lh3.googleusercontent.com/a-/AOh14GjD7hZiO5eInT5MTbCuYg7k5GwpkxEcRQM1Y9NQ2g=s64",
      "userId": "12001148323871082461"
     },
     "user_tz": 180
    },
    "id": "Ga_O8VbMtcwY",
    "slideshow": {
     "slide_type": "subslide"
    }
   },
   "outputs": [],
   "source": [
    "Contrasenas = {\"matute\"  : 1234, \"rodri\": \"estadistica_la_rompe\" , \"tony\": [3,14544]}"
   ]
  },
  {
   "cell_type": "markdown",
   "metadata": {
    "colab_type": "text",
    "id": "mIQqfTPoiMXk",
    "slideshow": {
     "slide_type": "subslide"
    }
   },
   "source": [
    "Para acceder a los valores utilizamos  **diccionario[llave]**. Por ejemplo:"
   ]
  },
  {
   "cell_type": "code",
   "execution_count": 33,
   "metadata": {
    "colab": {
     "base_uri": "https://localhost:8080/",
     "height": 51
    },
    "colab_type": "code",
    "executionInfo": {
     "elapsed": 272586,
     "status": "ok",
     "timestamp": 1594011177900,
     "user": {
      "displayName": "Matias Sanchez Gavier",
      "photoUrl": "https://lh3.googleusercontent.com/a-/AOh14GjD7hZiO5eInT5MTbCuYg7k5GwpkxEcRQM1Y9NQ2g=s64",
      "userId": "12001148323871082461"
     },
     "user_tz": 180
    },
    "id": "3MOg-3bStcwa",
    "outputId": "3ac5f318-01e4-4dc2-cba8-5b6e6e01ecdf",
    "slideshow": {
     "slide_type": "subslide"
    }
   },
   "outputs": [
    {
     "name": "stdout",
     "output_type": "stream",
     "text": [
      "1234\n",
      "estadistica_la_rompe\n"
     ]
    }
   ],
   "source": [
    "print(Contrasenas[\"matute\"])\n",
    "print(Contrasenas[\"rodri\"])"
   ]
  },
  {
   "cell_type": "code",
   "execution_count": 34,
   "metadata": {
    "colab": {
     "base_uri": "https://localhost:8080/",
     "height": 34
    },
    "colab_type": "code",
    "executionInfo": {
     "elapsed": 272620,
     "status": "ok",
     "timestamp": 1594011177938,
     "user": {
      "displayName": "Matias Sanchez Gavier",
      "photoUrl": "https://lh3.googleusercontent.com/a-/AOh14GjD7hZiO5eInT5MTbCuYg7k5GwpkxEcRQM1Y9NQ2g=s64",
      "userId": "12001148323871082461"
     },
     "user_tz": 180
    },
    "id": "gGE3iRsP506Z",
    "outputId": "1e4446fb-a768-4136-ac2d-b9bafc3b76cd",
    "slideshow": {
     "slide_type": "subslide"
    }
   },
   "outputs": [
    {
     "data": {
      "text/plain": [
       "dict"
      ]
     },
     "execution_count": 34,
     "metadata": {},
     "output_type": "execute_result"
    }
   ],
   "source": [
    "type(Contrasenas) #dict, de diccionario "
   ]
  },
  {
   "cell_type": "markdown",
   "metadata": {
    "colab_type": "text",
    "id": "OjtP5lbgtcwi",
    "slideshow": {
     "slide_type": "slide"
    }
   },
   "source": [
    "### ( ) Tuples\n",
    "\n",
    "\n",
    "---\n",
    "\n",
    "\n",
    "\n",
    "\n",
    "\n",
    "Los tuples son como las litas, pero son inmutables, no se pueden alterar. \n",
    "<br>\n",
    "\n",
    "Los tuples se inicializan con **( )**. Por ejemplo"
   ]
  },
  {
   "cell_type": "code",
   "execution_count": 35,
   "metadata": {
    "colab": {
     "base_uri": "https://localhost:8080/",
     "height": 51
    },
    "colab_type": "code",
    "executionInfo": {
     "elapsed": 272623,
     "status": "ok",
     "timestamp": 1594011177947,
     "user": {
      "displayName": "Matias Sanchez Gavier",
      "photoUrl": "https://lh3.googleusercontent.com/a-/AOh14GjD7hZiO5eInT5MTbCuYg7k5GwpkxEcRQM1Y9NQ2g=s64",
      "userId": "12001148323871082461"
     },
     "user_tz": 180
    },
    "id": "awguke3riw05",
    "outputId": "91b0ad3a-1144-45d3-aa38-0d615d1b489a",
    "slideshow": {
     "slide_type": "subslide"
    }
   },
   "outputs": [
    {
     "name": "stdout",
     "output_type": "stream",
     "text": [
      "yoFuturoPresidente\n",
      "<class 'tuple'>\n"
     ]
    }
   ],
   "source": [
    "passwords = (\"yoFuturoPresidente\", \"SoyMuyGroso\", 80786137)\n",
    "\n",
    "print(passwords[0]) #primer elemento\n",
    "\n",
    "print(type(passwords)) #tuple"
   ]
  },
  {
   "cell_type": "code",
   "execution_count": 36,
   "metadata": {
    "colab": {
     "base_uri": "https://localhost:8080/",
     "height": 34
    },
    "colab_type": "code",
    "executionInfo": {
     "elapsed": 272621,
     "status": "ok",
     "timestamp": 1594011177951,
     "user": {
      "displayName": "Matias Sanchez Gavier",
      "photoUrl": "https://lh3.googleusercontent.com/a-/AOh14GjD7hZiO5eInT5MTbCuYg7k5GwpkxEcRQM1Y9NQ2g=s64",
      "userId": "12001148323871082461"
     },
     "user_tz": 180
    },
    "id": "52T8u6iEi_Im",
    "outputId": "95d258a4-9d3b-4f7e-8ae0-5d78e59a3ce8",
    "slideshow": {
     "slide_type": "subslide"
    }
   },
   "outputs": [
    {
     "data": {
      "text/plain": [
       "['BoquitaCamepon', 8000000]"
      ]
     },
     "execution_count": 36,
     "metadata": {},
     "output_type": "execute_result"
    }
   ],
   "source": [
    "#version en listas\n",
    "\n",
    "contras = [\"BoquitaCamepon\", 48945 ]\n",
    "\n",
    "contras[1] = 8000000 # a las listas las puedo cambiar\n",
    "\n",
    "contras"
   ]
  },
  {
   "cell_type": "code",
   "execution_count": 37,
   "metadata": {
    "colab": {
     "base_uri": "https://localhost:8080/",
     "height": 163
    },
    "colab_type": "code",
    "executionInfo": {
     "elapsed": 272842,
     "status": "error",
     "timestamp": 1594011178176,
     "user": {
      "displayName": "Matias Sanchez Gavier",
      "photoUrl": "https://lh3.googleusercontent.com/a-/AOh14GjD7hZiO5eInT5MTbCuYg7k5GwpkxEcRQM1Y9NQ2g=s64",
      "userId": "12001148323871082461"
     },
     "user_tz": 180
    },
    "id": "qoyulhOgjIxF",
    "outputId": "3621d444-fd4a-426a-f1e9-32e5b0894f3d",
    "slideshow": {
     "slide_type": "subslide"
    }
   },
   "outputs": [],
   "source": [
    "# passwords[0] = 8097 #Error, no me deja cambiar una tuple"
   ]
  },
  {
   "cell_type": "markdown",
   "metadata": {
    "colab_type": "text",
    "id": "7Uj1jlxXtcwc",
    "slideshow": {
     "slide_type": "slide"
    }
   },
   "source": [
    "### 🤓 Lógica \n",
    "####  🛎️ Booleans\n",
    "\n",
    "\n",
    "---\n",
    "\n",
    "\n",
    "\n",
    "Son valores que python tiene muy en consideración, hay dos básicamente True y False. "
   ]
  },
  {
   "cell_type": "code",
   "execution_count": 38,
   "metadata": {
    "colab": {
     "base_uri": "https://localhost:8080/",
     "height": 34
    },
    "colab_type": "code",
    "executionInfo": {
     "elapsed": 955,
     "status": "ok",
     "timestamp": 1594011193893,
     "user": {
      "displayName": "Matias Sanchez Gavier",
      "photoUrl": "https://lh3.googleusercontent.com/a-/AOh14GjD7hZiO5eInT5MTbCuYg7k5GwpkxEcRQM1Y9NQ2g=s64",
      "userId": "12001148323871082461"
     },
     "user_tz": 180
    },
    "id": "9s9t2p5ntcwd",
    "outputId": "0a68bdd3-cda2-4b45-e233-8b8b4219c31c",
    "slideshow": {
     "slide_type": "subslide"
    }
   },
   "outputs": [
    {
     "data": {
      "text/plain": [
       "bool"
      ]
     },
     "execution_count": 38,
     "metadata": {},
     "output_type": "execute_result"
    }
   ],
   "source": [
    "True\n",
    "False\n",
    "type(True)"
   ]
  },
  {
   "cell_type": "markdown",
   "metadata": {
    "colab_type": "text",
    "id": "g96j3DeRtcwu",
    "slideshow": {
     "slide_type": "subslide"
    }
   },
   "source": [
    "\n",
    "#### 🔰 Operadores de Comparación \n",
    "\n",
    "\n",
    "---\n",
    "\n",
    "\n",
    "\n",
    "\n",
    "\n",
    "\n",
    "\n",
    "Nos permiten comparar valores y decir la verdad o falsedad de la proposición."
   ]
  },
  {
   "cell_type": "code",
   "execution_count": 39,
   "metadata": {
    "colab": {
     "base_uri": "https://localhost:8080/",
     "height": 136
    },
    "colab_type": "code",
    "executionInfo": {
     "elapsed": 13472,
     "status": "ok",
     "timestamp": 1594011207569,
     "user": {
      "displayName": "Matias Sanchez Gavier",
      "photoUrl": "https://lh3.googleusercontent.com/a-/AOh14GjD7hZiO5eInT5MTbCuYg7k5GwpkxEcRQM1Y9NQ2g=s64",
      "userId": "12001148323871082461"
     },
     "user_tz": 180
    },
    "id": "hQEgEujj6cH7",
    "outputId": "749e3558-8067-4c5e-fcfa-fb7f711a6ea8",
    "slideshow": {
     "slide_type": "subslide"
    }
   },
   "outputs": [
    {
     "name": "stdout",
     "output_type": "stream",
     "text": [
      "10 12\n",
      "x > y es False\n",
      "x < y es True\n",
      "x == y es False\n",
      "x != y es True\n",
      "x >= y es False\n",
      "x <= y es True\n"
     ]
    }
   ],
   "source": [
    "x = 10\n",
    "y = 12\n",
    "\n",
    "print(x, y)\n",
    "\n",
    "#  x > y -> mayor\n",
    "print('x > y es',x>y)\n",
    "\n",
    "#  x < y  -> menor\n",
    "print('x < y es',x<y)\n",
    "\n",
    "#  x == y igualdad\n",
    "print('x == y es',x==y)\n",
    "\n",
    "#  x != y  desigualdad  \n",
    "print('x != y es',x!=y)\n",
    "\n",
    "#  x >= y  mayor igual \n",
    "print('x >= y es',x>=y)\n",
    "\n",
    "#  x <= y  menor igual \n",
    "print('x <= y es',x<=y)"
   ]
  },
  {
   "cell_type": "markdown",
   "metadata": {
    "colab_type": "text",
    "id": "CNXlhtSVtcxA",
    "slideshow": {
     "slide_type": "subslide"
    }
   },
   "source": [
    "#### 🔺 Operadores Lógicos\n",
    "---\n",
    "Nos permiten combinar los operadores de comparación. Esto es lo mismo que los diagramas venn o las operaciones lógicas que vio en el CBC. "
   ]
  },
  {
   "cell_type": "code",
   "execution_count": 40,
   "metadata": {
    "colab": {
     "base_uri": "https://localhost:8080/",
     "height": 34
    },
    "colab_type": "code",
    "executionInfo": {
     "elapsed": 12885,
     "status": "ok",
     "timestamp": 1594011207572,
     "user": {
      "displayName": "Matias Sanchez Gavier",
      "photoUrl": "https://lh3.googleusercontent.com/a-/AOh14GjD7hZiO5eInT5MTbCuYg7k5GwpkxEcRQM1Y9NQ2g=s64",
      "userId": "12001148323871082461"
     },
     "user_tz": 180
    },
    "id": "U7KAwWTUtcxA",
    "outputId": "80657eba-2e31-49c9-90cd-716106276012",
    "slideshow": {
     "slide_type": "subslide"
    }
   },
   "outputs": [
    {
     "data": {
      "text/plain": [
       "False"
      ]
     },
     "execution_count": 40,
     "metadata": {},
     "output_type": "execute_result"
    }
   ],
   "source": [
    "(1 > 2) and (2 < 3) # Solo si ambos son verdaderos,  la proposición sera verdadera"
   ]
  },
  {
   "cell_type": "code",
   "execution_count": 41,
   "metadata": {
    "colab": {
     "base_uri": "https://localhost:8080/",
     "height": 34
    },
    "colab_type": "code",
    "executionInfo": {
     "elapsed": 12712,
     "status": "ok",
     "timestamp": 1594011207579,
     "user": {
      "displayName": "Matias Sanchez Gavier",
      "photoUrl": "https://lh3.googleusercontent.com/a-/AOh14GjD7hZiO5eInT5MTbCuYg7k5GwpkxEcRQM1Y9NQ2g=s64",
      "userId": "12001148323871082461"
     },
     "user_tz": 180
    },
    "id": "fVm6CbrztcxE",
    "outputId": "54019112-9df0-434d-c65a-779bba308203",
    "slideshow": {
     "slide_type": "subslide"
    }
   },
   "outputs": [
    {
     "data": {
      "text/plain": [
       "True"
      ]
     },
     "execution_count": 41,
     "metadata": {},
     "output_type": "execute_result"
    }
   ],
   "source": [
    "(1 == 2) or (2 == 3) or (4 == 4) # Con que uno sea verdadero la proposición completa es verdadera "
   ]
  },
  {
   "cell_type": "markdown",
   "metadata": {
    "colab_type": "text",
    "id": "FCGWCSxS8hKQ",
    "slideshow": {
     "slide_type": "slide"
    }
   },
   "source": [
    "### 🧠 Control Flow \n",
    "---\n",
    "*La idea es que vamos a realizar operaciones lógicas, y en base a si son verdaderas o falsas python va a tomar diferentes caminos (en térmnios de lectura de código como se puede ver en la imagen).*\n",
    "\n",
    "\n",
    "\n",
    "![texto alternativo](https://img.favpng.com/10/6/19/statement-nesting-control-flow-computer-programming-png-favpng-FKbyJ44SRDaw8GDtJibBGc7Mp.jpg)"
   ]
  },
  {
   "cell_type": "markdown",
   "metadata": {
    "colab_type": "text",
    "id": "ISVsI6f89_lk",
    "slideshow": {
     "slide_type": "subslide"
    }
   },
   "source": [
    "El **if()** checkea una condición dentro de los parentesís, si esta se cumple ejecuta el código dentro del bloque.\n",
    "\n",
    "<br>\n",
    "\n",
    "Es importante notar que python detecta que esta \"adentro\" por la **identación** y los dos puntos al inicio del if. (este es un patrón que se repite, tenganlo en mente)."
   ]
  },
  {
   "cell_type": "code",
   "execution_count": 42,
   "metadata": {
    "colab": {
     "base_uri": "https://localhost:8080/",
     "height": 34
    },
    "colab_type": "code",
    "executionInfo": {
     "elapsed": 16204,
     "status": "ok",
     "timestamp": 1594011211857,
     "user": {
      "displayName": "Matias Sanchez Gavier",
      "photoUrl": "https://lh3.googleusercontent.com/a-/AOh14GjD7hZiO5eInT5MTbCuYg7k5GwpkxEcRQM1Y9NQ2g=s64",
      "userId": "12001148323871082461"
     },
     "user_tz": 180
    },
    "id": "-T3K2p2KtcxH",
    "outputId": "661f3b99-c744-4596-88c4-281518a5244b",
    "slideshow": {
     "slide_type": "subslide"
    }
   },
   "outputs": [
    {
     "name": "stdout",
     "output_type": "stream",
     "text": [
      "1 es menor a 2\n"
     ]
    }
   ],
   "source": [
    "if(1 < 2):\n",
    "    print('1 es menor a 2')"
   ]
  },
  {
   "cell_type": "code",
   "execution_count": 43,
   "metadata": {
    "colab": {
     "base_uri": "https://localhost:8080/",
     "height": 34
    },
    "colab_type": "code",
    "executionInfo": {
     "elapsed": 16062,
     "status": "ok",
     "timestamp": 1594011211860,
     "user": {
      "displayName": "Matias Sanchez Gavier",
      "photoUrl": "https://lh3.googleusercontent.com/a-/AOh14GjD7hZiO5eInT5MTbCuYg7k5GwpkxEcRQM1Y9NQ2g=s64",
      "userId": "12001148323871082461"
     },
     "user_tz": 180
    },
    "id": "6iQj2zqD-bAq",
    "outputId": "5cc028ad-208e-4c9f-ea18-171725f4d450",
    "slideshow": {
     "slide_type": "subslide"
    }
   },
   "outputs": [
    {
     "name": "stdout",
     "output_type": "stream",
     "text": [
      "Su saldo después del pago es 2900\n"
     ]
    }
   ],
   "source": [
    "dinero = 3000\n",
    "\n",
    "if (dinero > 2000):\n",
    "   saldo = dinero - 100\n",
    "   print('Su saldo después del pago es {x}'.format(x=saldo))\n"
   ]
  },
  {
   "cell_type": "markdown",
   "metadata": {
    "colab_type": "text",
    "id": "hLkYQk_C_POO",
    "slideshow": {
     "slide_type": "subslide"
    }
   },
   "source": [
    "*  El **else()** va siempre después del if()\n",
    "*  Si el if() no se cumplio (la proposición era falsa), entonces se ejecuta el bloque del else().\n",
    "\n"
   ]
  },
  {
   "cell_type": "code",
   "execution_count": 44,
   "metadata": {
    "colab": {
     "base_uri": "https://localhost:8080/",
     "height": 34
    },
    "colab_type": "code",
    "executionInfo": {
     "elapsed": 15808,
     "status": "ok",
     "timestamp": 1594011211862,
     "user": {
      "displayName": "Matias Sanchez Gavier",
      "photoUrl": "https://lh3.googleusercontent.com/a-/AOh14GjD7hZiO5eInT5MTbCuYg7k5GwpkxEcRQM1Y9NQ2g=s64",
      "userId": "12001148323871082461"
     },
     "user_tz": 180
    },
    "id": "uHrX3K8MtcxN",
    "outputId": "002bfb9e-0daa-484f-ecae-de3fc08b02ed",
    "slideshow": {
     "slide_type": "subslide"
    }
   },
   "outputs": [
    {
     "name": "stdout",
     "output_type": "stream",
     "text": [
      "no se cumplio el if\n"
     ]
    }
   ],
   "source": [
    "if (1 > 2):\n",
    "    print('se cumplio el if')\n",
    "else:\n",
    "    print('no se cumplio el if')"
   ]
  },
  {
   "cell_type": "markdown",
   "metadata": {
    "colab_type": "text",
    "id": "ENMYQHrV_2F2",
    "slideshow": {
     "slide_type": "subslide"
    }
   },
   "source": [
    "El elif es como un else + if, en el sentido que se ejecuta si el if() \"falla\", pero aun así checkea una condición. "
   ]
  },
  {
   "cell_type": "code",
   "execution_count": 45,
   "metadata": {
    "colab": {
     "base_uri": "https://localhost:8080/",
     "height": 34
    },
    "colab_type": "code",
    "executionInfo": {
     "elapsed": 15526,
     "status": "ok",
     "timestamp": 1594011211864,
     "user": {
      "displayName": "Matias Sanchez Gavier",
      "photoUrl": "https://lh3.googleusercontent.com/a-/AOh14GjD7hZiO5eInT5MTbCuYg7k5GwpkxEcRQM1Y9NQ2g=s64",
      "userId": "12001148323871082461"
     },
     "user_tz": 180
    },
    "id": "coGx4KNLtcxQ",
    "outputId": "68e3b00d-0139-4028-ab57-19be8465c4e4",
    "slideshow": {
     "slide_type": "subslide"
    }
   },
   "outputs": [
    {
     "name": "stdout",
     "output_type": "stream",
     "text": [
      "Segundo if\n"
     ]
    }
   ],
   "source": [
    "if (1 == 2):\n",
    "    print('Se cupmlio el if')\n",
    "elif (3 == 3):\n",
    "    print('Segundo if')\n",
    "else:\n",
    "    print('No se cumplio ningun if')"
   ]
  },
  {
   "cell_type": "markdown",
   "metadata": {
    "colab_type": "text",
    "id": "F-uQrA9dtcxS",
    "slideshow": {
     "slide_type": "slide"
    }
   },
   "source": [
    "### 🎡 For Loops () \n",
    "\n",
    "\n",
    "---\n",
    "\n",
    "\n",
    "\n",
    "\n",
    "\n",
    "\n",
    "La idea es **hacer algo de forma iterada (repetida)**. Es decir repetir lo mismo, pero tal vez cambiando algo en cada iteración. \n",
    "\n",
    "<br>\n",
    "\n",
    "El for loop se arma de la siguiente manera: \n",
    "\n",
    "**for nombre_cualquiera in secuencia: Blocke Indentado**"
   ]
  },
  {
   "cell_type": "code",
   "execution_count": 46,
   "metadata": {
    "colab": {
     "base_uri": "https://localhost:8080/",
     "height": 102
    },
    "colab_type": "code",
    "executionInfo": {
     "elapsed": 15276,
     "status": "ok",
     "timestamp": 1594011211868,
     "user": {
      "displayName": "Matias Sanchez Gavier",
      "photoUrl": "https://lh3.googleusercontent.com/a-/AOh14GjD7hZiO5eInT5MTbCuYg7k5GwpkxEcRQM1Y9NQ2g=s64",
      "userId": "12001148323871082461"
     },
     "user_tz": 180
    },
    "id": "YtHw0uLWtcxS",
    "outputId": "2d80af7f-a51a-4cca-b5a3-7b1bccb8568c",
    "slideshow": {
     "slide_type": "subslide"
    }
   },
   "outputs": [
    {
     "name": "stdout",
     "output_type": "stream",
     "text": [
      "1\n",
      "2\n",
      "3\n",
      "4\n",
      "5\n"
     ]
    }
   ],
   "source": [
    "#secuencia\n",
    "seq = [1,2,3,4,5]\n",
    "\n",
    "for item in seq:\n",
    "    print(item)"
   ]
  },
  {
   "cell_type": "code",
   "execution_count": 47,
   "metadata": {
    "colab": {
     "base_uri": "https://localhost:8080/",
     "height": 102
    },
    "colab_type": "code",
    "executionInfo": {
     "elapsed": 15089,
     "status": "ok",
     "timestamp": 1594011211872,
     "user": {
      "displayName": "Matias Sanchez Gavier",
      "photoUrl": "https://lh3.googleusercontent.com/a-/AOh14GjD7hZiO5eInT5MTbCuYg7k5GwpkxEcRQM1Y9NQ2g=s64",
      "userId": "12001148323871082461"
     },
     "user_tz": 180
    },
    "id": "_Cq5NTe-tcxX",
    "outputId": "126bb7f8-9eb6-4252-e2b7-eb547b1477e2",
    "slideshow": {
     "slide_type": "subslide"
    }
   },
   "outputs": [
    {
     "name": "stdout",
     "output_type": "stream",
     "text": [
      "Yep\n",
      "Yep\n",
      "Yep\n",
      "Yep\n",
      "Yep\n"
     ]
    }
   ],
   "source": [
    "#no es necesario hacer algo relacionado a la variable\n",
    "for item in seq:\n",
    "    print('Yep')"
   ]
  },
  {
   "cell_type": "code",
   "execution_count": 48,
   "metadata": {
    "colab": {
     "base_uri": "https://localhost:8080/",
     "height": 85
    },
    "colab_type": "code",
    "executionInfo": {
     "elapsed": 14942,
     "status": "ok",
     "timestamp": 1594011211874,
     "user": {
      "displayName": "Matias Sanchez Gavier",
      "photoUrl": "https://lh3.googleusercontent.com/a-/AOh14GjD7hZiO5eInT5MTbCuYg7k5GwpkxEcRQM1Y9NQ2g=s64",
      "userId": "12001148323871082461"
     },
     "user_tz": 180
    },
    "id": "CDIydwKmtcxW",
    "outputId": "f0199a99-dbf5-4f26-8a53-875b20487a4c",
    "slideshow": {
     "slide_type": "subslide"
    }
   },
   "outputs": [
    {
     "name": "stdout",
     "output_type": "stream",
     "text": [
      "Khun\n",
      "Vampiro\n",
      "Messi\n",
      "3\n"
     ]
    }
   ],
   "source": [
    "#inicializamos variables\n",
    "nombres = [\"Khun\", \"Vampiro\", \"Messi\"]\n",
    "i=0\n",
    "\n",
    "#for loop\n",
    "for nombre in nombres:\n",
    "  print(nombre)\n",
    "  i = i+1\n",
    "\n",
    "print(i)\n"
   ]
  },
  {
   "cell_type": "markdown",
   "metadata": {
    "colab_type": "text",
    "id": "8bhI9R7_CqvI",
    "slideshow": {
     "slide_type": "subslide"
    }
   },
   "source": [
    "**range()** es una función que se suele utilizar con for loops, crea una lista de números del 0 hasta donde le digas. \n",
    "\n"
   ]
  },
  {
   "cell_type": "code",
   "execution_count": 49,
   "metadata": {
    "colab": {
     "base_uri": "https://localhost:8080/",
     "height": 102
    },
    "colab_type": "code",
    "executionInfo": {
     "elapsed": 14681,
     "status": "ok",
     "timestamp": 1594011211877,
     "user": {
      "displayName": "Matias Sanchez Gavier",
      "photoUrl": "https://lh3.googleusercontent.com/a-/AOh14GjD7hZiO5eInT5MTbCuYg7k5GwpkxEcRQM1Y9NQ2g=s64",
      "userId": "12001148323871082461"
     },
     "user_tz": 180
    },
    "id": "-2_3hnP_Cyo7",
    "outputId": "676e43f2-f01f-448c-8381-6bdf4757775c",
    "slideshow": {
     "slide_type": "subslide"
    }
   },
   "outputs": [
    {
     "name": "stdout",
     "output_type": "stream",
     "text": [
      "0\n",
      "1\n",
      "2\n",
      "3\n",
      "4\n"
     ]
    }
   ],
   "source": [
    "for i in range(5):\n",
    "    print(i)"
   ]
  },
  {
   "cell_type": "markdown",
   "metadata": {
    "colab_type": "text",
    "id": "rR_W8ecWBgJx",
    "slideshow": {
     "slide_type": "subslide"
    }
   },
   "source": [
    "**zip**  es una función que permite hacer for loop con dos variables a la vez."
   ]
  },
  {
   "cell_type": "code",
   "execution_count": 50,
   "metadata": {
    "colab": {
     "base_uri": "https://localhost:8080/",
     "height": 68
    },
    "colab_type": "code",
    "executionInfo": {
     "elapsed": 14366,
     "status": "ok",
     "timestamp": 1594011211880,
     "user": {
      "displayName": "Matias Sanchez Gavier",
      "photoUrl": "https://lh3.googleusercontent.com/a-/AOh14GjD7hZiO5eInT5MTbCuYg7k5GwpkxEcRQM1Y9NQ2g=s64",
      "userId": "12001148323871082461"
     },
     "user_tz": 180
    },
    "id": "BfHGGyKhBnFP",
    "outputId": "4c55c747-0d28-42a0-bbb1-c348c8e281b2",
    "slideshow": {
     "slide_type": "subslide"
    }
   },
   "outputs": [
    {
     "name": "stdout",
     "output_type": "stream",
     "text": [
      "Khun, tiene una habilidad en el futbol de: 6 \n",
      "Vampiro, tiene una habilidad en el futbol de: 9.8 \n",
      "Messi, tiene una habilidad en el futbol de: 6.3 \n"
     ]
    }
   ],
   "source": [
    "nombres = [\"Khun\", \"Vampiro\", \"Messi\"]\n",
    "habilidad_futbol = [ 6, 9.8, 6.3 ]\n",
    "\n",
    "for n, h in zip(nombres, habilidad_futbol):\n",
    "  print(\"{}, tiene una habilidad en el futbol de: {} \".format(n,h))"
   ]
  },
  {
   "cell_type": "markdown",
   "metadata": {
    "colab_type": "text",
    "id": "49Tbv4-Mtcxc",
    "slideshow": {
     "slide_type": "slide"
    }
   },
   "source": [
    "### ⚓ While Loops\n",
    "\n",
    "\n",
    "---\n",
    "\n",
    "\n",
    "\n",
    "\n",
    "\n",
    " Este loop tiene la particularidad de ejecutarse mientras cumpla la condicion, es por ello que si no se le da un fin (break) o no se le asigna una variabilidad incremental, puede quedar iterando for ever."
   ]
  },
  {
   "cell_type": "code",
   "execution_count": 51,
   "metadata": {
    "colab": {
     "base_uri": "https://localhost:8080/",
     "height": 85
    },
    "colab_type": "code",
    "executionInfo": {
     "elapsed": 14047,
     "status": "ok",
     "timestamp": 1594011211882,
     "user": {
      "displayName": "Matias Sanchez Gavier",
      "photoUrl": "https://lh3.googleusercontent.com/a-/AOh14GjD7hZiO5eInT5MTbCuYg7k5GwpkxEcRQM1Y9NQ2g=s64",
      "userId": "12001148323871082461"
     },
     "user_tz": 180
    },
    "id": "2hKHNNhptcxc",
    "outputId": "47e74272-9cb4-49cd-9ee0-c1cd247b2255",
    "slideshow": {
     "slide_type": "subslide"
    }
   },
   "outputs": [
    {
     "name": "stdout",
     "output_type": "stream",
     "text": [
      "i es: 1\n",
      "i es: 2\n",
      "i es: 3\n",
      "i es: 4\n"
     ]
    }
   ],
   "source": [
    "i = 1\n",
    "while (i < 5):\n",
    "    print('i es: {}'.format(i))\n",
    "    i = i+1"
   ]
  },
  {
   "cell_type": "markdown",
   "metadata": {
    "colab_type": "text",
    "id": "5Q7J3aoMAIQe",
    "slideshow": {
     "slide_type": "slide"
    }
   },
   "source": [
    "### 🤑 Iteracion con diccionarios\n",
    "\n",
    "\n",
    "---\n",
    "\n",
    "\n",
    "\n",
    "\n",
    "\n",
    "\n",
    "La idea es trabajar sobre diccionarios (mas de uno) y realizar operaciones varias utilizando su información.\n",
    "\n",
    "En la base de datos de una discoteca, contamos con dos diccionarios: \"precio\" y \"cantidad\", para los tragos vendidos durante un fin de semana. Estos almacenan la informacion de precios de los tragos que se venden y su respectiva cantidad. Asi, facilitan el conocimiento y control del ingreso del negocio\n"
   ]
  },
  {
   "cell_type": "code",
   "execution_count": 52,
   "metadata": {
    "colab": {
     "base_uri": "https://localhost:8080/",
     "height": 34
    },
    "colab_type": "code",
    "executionInfo": {
     "elapsed": 13756,
     "status": "ok",
     "timestamp": 1594011211884,
     "user": {
      "displayName": "Matias Sanchez Gavier",
      "photoUrl": "https://lh3.googleusercontent.com/a-/AOh14GjD7hZiO5eInT5MTbCuYg7k5GwpkxEcRQM1Y9NQ2g=s64",
      "userId": "12001148323871082461"
     },
     "user_tz": 180
    },
    "id": "gYI7M2TOCFeC",
    "outputId": "1781ce4f-9730-4516-af36-d54261848af3",
    "slideshow": {
     "slide_type": "subslide"
    }
   },
   "outputs": [
    {
     "name": "stdout",
     "output_type": "stream",
     "text": [
      "331200\n"
     ]
    }
   ],
   "source": [
    "precios = {\"FERNET_COLA\":400, \"VODKA_JUGO\":350, \"CERVEZA\":250, \"CHAMPAGNE\":900, \"GIN_TONIC\":500}\n",
    "\n",
    "cantidad = {\"FERNET_COLA\": 289, \"VODKA_JUGO\": 183, \"CERVEZA\": 251, \"CHAMPAGNE\": 37, \"GIN_TONIC\": 111}\n",
    "\n",
    "\n",
    "ingreso = 0\n",
    "\n",
    "for i in precios:\n",
    "  ingreso = ingreso + (precios[i]*cantidad[i])\n",
    "  \n",
    "print(ingreso)"
   ]
  },
  {
   "cell_type": "code",
   "execution_count": 53,
   "metadata": {
    "colab": {
     "base_uri": "https://localhost:8080/",
     "height": 34
    },
    "colab_type": "code",
    "executionInfo": {
     "elapsed": 13603,
     "status": "ok",
     "timestamp": 1594011211890,
     "user": {
      "displayName": "Matias Sanchez Gavier",
      "photoUrl": "https://lh3.googleusercontent.com/a-/AOh14GjD7hZiO5eInT5MTbCuYg7k5GwpkxEcRQM1Y9NQ2g=s64",
      "userId": "12001148323871082461"
     },
     "user_tz": 180
    },
    "id": "0dBjT7HCF0Lc",
    "outputId": "0e7f1f9b-bf1e-4136-de36-b95827535bda",
    "slideshow": {
     "slide_type": "subslide"
    }
   },
   "outputs": [
    {
     "name": "stdout",
     "output_type": "stream",
     "text": [
      "115600\n"
     ]
    }
   ],
   "source": [
    "ingreso_FERNET = (precios['FERNET_COLA']*cantidad['FERNET_COLA'])\n",
    "\n",
    "print(ingreso_FERNET)"
   ]
  },
  {
   "cell_type": "code",
   "execution_count": 54,
   "metadata": {
    "colab": {
     "base_uri": "https://localhost:8080/",
     "height": 34
    },
    "colab_type": "code",
    "executionInfo": {
     "elapsed": 13404,
     "status": "ok",
     "timestamp": 1594011211893,
     "user": {
      "displayName": "Matias Sanchez Gavier",
      "photoUrl": "https://lh3.googleusercontent.com/a-/AOh14GjD7hZiO5eInT5MTbCuYg7k5GwpkxEcRQM1Y9NQ2g=s64",
      "userId": "12001148323871082461"
     },
     "user_tz": 180
    },
    "id": "qdZQBrESGk27",
    "outputId": "46c3ea14-3b18-490c-f099-568e4c5793a4",
    "slideshow": {
     "slide_type": "subslide"
    }
   },
   "outputs": [
    {
     "name": "stdout",
     "output_type": "stream",
     "text": [
      "62750\n"
     ]
    }
   ],
   "source": [
    "ingreso_CERVEZA = (precios['CERVEZA']*cantidad['CERVEZA'])\n",
    "\n",
    "print(ingreso_CERVEZA)"
   ]
  },
  {
   "cell_type": "markdown",
   "metadata": {
    "colab_type": "text",
    "id": "_gTFEMAQtcxm",
    "slideshow": {
     "slide_type": "slide"
    }
   },
   "source": [
    "### 🚑  Comprensión de Listas\n",
    "\n",
    "\n",
    "---\n",
    "\n",
    "\n",
    "\n",
    "\n",
    "\n",
    "\n",
    "Uno puede armar listas con un for loop(), otro método es usar compresión de listas. "
   ]
  },
  {
   "cell_type": "code",
   "execution_count": 55,
   "metadata": {
    "colab": {
     "base_uri": "https://localhost:8080/",
     "height": 34
    },
    "colab_type": "code",
    "executionInfo": {
     "elapsed": 13206,
     "status": "ok",
     "timestamp": 1594011211895,
     "user": {
      "displayName": "Matias Sanchez Gavier",
      "photoUrl": "https://lh3.googleusercontent.com/a-/AOh14GjD7hZiO5eInT5MTbCuYg7k5GwpkxEcRQM1Y9NQ2g=s64",
      "userId": "12001148323871082461"
     },
     "user_tz": 180
    },
    "id": "5RYuReXptcxo",
    "outputId": "1fbfe1a6-0328-48d1-df2a-f113d06b955a",
    "slideshow": {
     "slide_type": "subslide"
    }
   },
   "outputs": [
    {
     "name": "stdout",
     "output_type": "stream",
     "text": [
      "[1, 4, 9, 16]\n"
     ]
    }
   ],
   "source": [
    "x = [1,2,3,4]\n",
    "out = []\n",
    "\n",
    "for item in x:\n",
    "    out.append(item**2)\n",
    "\n",
    "print(out)"
   ]
  },
  {
   "cell_type": "markdown",
   "metadata": {
    "colab_type": "text",
    "id": "mQ8vOkVotcxp",
    "slideshow": {
     "slide_type": "slide"
    }
   },
   "source": [
    "[**función** for **variable** in **lista**]"
   ]
  },
  {
   "cell_type": "code",
   "execution_count": 56,
   "metadata": {
    "colab": {
     "base_uri": "https://localhost:8080/",
     "height": 34
    },
    "colab_type": "code",
    "executionInfo": {
     "elapsed": 12856,
     "status": "ok",
     "timestamp": 1594011211898,
     "user": {
      "displayName": "Matias Sanchez Gavier",
      "photoUrl": "https://lh3.googleusercontent.com/a-/AOh14GjD7hZiO5eInT5MTbCuYg7k5GwpkxEcRQM1Y9NQ2g=s64",
      "userId": "12001148323871082461"
     },
     "user_tz": 180
    },
    "id": "CSY9Kg1Utcxq",
    "outputId": "51dd427c-2f9d-4cb3-8a93-c3dbc3a42031",
    "slideshow": {
     "slide_type": "subslide"
    }
   },
   "outputs": [
    {
     "data": {
      "text/plain": [
       "[1, 4, 9, 16]"
      ]
     },
     "execution_count": 56,
     "metadata": {},
     "output_type": "execute_result"
    }
   ],
   "source": [
    "[item**2 for item in x]"
   ]
  },
  {
   "cell_type": "markdown",
   "metadata": {
    "colab_type": "text",
    "id": "_FkgTMrZtcxr",
    "slideshow": {
     "slide_type": "subslide"
    }
   },
   "source": [
    "[Vídeo en comprensión de listas](  https://www.youtube.com/watch?v=3dt4OGnU5sM&t=3s)"
   ]
  },
  {
   "cell_type": "markdown",
   "metadata": {
    "colab_type": "text",
    "id": "KIYK36n2tcxr",
    "slideshow": {
     "slide_type": "slide"
    }
   },
   "source": [
    "### 🔥 ¡Funciones!\n",
    "\n",
    "\n",
    "---\n",
    "\n",
    "Las funciones son un bloque de código, la idea es que pueda usar un nombre y puedas aplicar todo es código de una. \n",
    "\n",
    "La Estructura de las funciones es :\n",
    "\n",
    "\n",
    "\n",
    "\n",
    "```\n",
    "# def nombre(parametros_de_default):\n",
    "    bloque de código\n",
    "    return valor\n",
    "```\n",
    "\n",
    "\n",
    "\n",
    "\n",
    "\n"
   ]
  },
  {
   "cell_type": "code",
   "execution_count": 57,
   "metadata": {
    "colab": {},
    "colab_type": "code",
    "executionInfo": {
     "elapsed": 12344,
     "status": "ok",
     "timestamp": 1594011211900,
     "user": {
      "displayName": "Matias Sanchez Gavier",
      "photoUrl": "https://lh3.googleusercontent.com/a-/AOh14GjD7hZiO5eInT5MTbCuYg7k5GwpkxEcRQM1Y9NQ2g=s64",
      "userId": "12001148323871082461"
     },
     "user_tz": 180
    },
    "id": "RUDPBM_Qtcxs",
    "slideshow": {
     "slide_type": "subslide"
    }
   },
   "outputs": [],
   "source": [
    "def my_func(param1='default'):\n",
    "    \"\"\"\n",
    "    Explicación de lo que hace la función \n",
    "    \"\"\"\n",
    "    print(param1)"
   ]
  },
  {
   "cell_type": "code",
   "execution_count": 58,
   "metadata": {
    "colab": {
     "base_uri": "https://localhost:8080/",
     "height": 34
    },
    "colab_type": "code",
    "executionInfo": {
     "elapsed": 12221,
     "status": "ok",
     "timestamp": 1594011211906,
     "user": {
      "displayName": "Matias Sanchez Gavier",
      "photoUrl": "https://lh3.googleusercontent.com/a-/AOh14GjD7hZiO5eInT5MTbCuYg7k5GwpkxEcRQM1Y9NQ2g=s64",
      "userId": "12001148323871082461"
     },
     "user_tz": 180
    },
    "id": "lwg5CW48tcxt",
    "outputId": "2912525c-8072-4a93-f476-65de608d3f2c",
    "slideshow": {
     "slide_type": "subslide"
    }
   },
   "outputs": [
    {
     "name": "stdout",
     "output_type": "stream",
     "text": [
      "default\n"
     ]
    }
   ],
   "source": [
    "my_func()"
   ]
  },
  {
   "cell_type": "code",
   "execution_count": 59,
   "metadata": {
    "colab": {
     "base_uri": "https://localhost:8080/",
     "height": 34
    },
    "colab_type": "code",
    "executionInfo": {
     "elapsed": 12078,
     "status": "ok",
     "timestamp": 1594011211908,
     "user": {
      "displayName": "Matias Sanchez Gavier",
      "photoUrl": "https://lh3.googleusercontent.com/a-/AOh14GjD7hZiO5eInT5MTbCuYg7k5GwpkxEcRQM1Y9NQ2g=s64",
      "userId": "12001148323871082461"
     },
     "user_tz": 180
    },
    "id": "yZQY3Dnttcxv",
    "outputId": "a2d8381c-d220-4201-9929-05d5c1a1db1c",
    "slideshow": {
     "slide_type": "subslide"
    }
   },
   "outputs": [
    {
     "name": "stdout",
     "output_type": "stream",
     "text": [
      "hola soy un parametro\n"
     ]
    }
   ],
   "source": [
    "my_func('hola soy un parametro')"
   ]
  },
  {
   "cell_type": "code",
   "execution_count": 60,
   "metadata": {
    "colab": {},
    "colab_type": "code",
    "executionInfo": {
     "elapsed": 11839,
     "status": "ok",
     "timestamp": 1594011211910,
     "user": {
      "displayName": "Matias Sanchez Gavier",
      "photoUrl": "https://lh3.googleusercontent.com/a-/AOh14GjD7hZiO5eInT5MTbCuYg7k5GwpkxEcRQM1Y9NQ2g=s64",
      "userId": "12001148323871082461"
     },
     "user_tz": 180
    },
    "id": "ax-M8k2qtcxz",
    "slideshow": {
     "slide_type": "subslide"
    }
   },
   "outputs": [],
   "source": [
    "def cuadrado(x):\n",
    "    return x**2"
   ]
  },
  {
   "cell_type": "code",
   "execution_count": 61,
   "metadata": {
    "colab": {
     "base_uri": "https://localhost:8080/",
     "height": 34
    },
    "colab_type": "code",
    "executionInfo": {
     "elapsed": 11656,
     "status": "ok",
     "timestamp": 1594011211913,
     "user": {
      "displayName": "Matias Sanchez Gavier",
      "photoUrl": "https://lh3.googleusercontent.com/a-/AOh14GjD7hZiO5eInT5MTbCuYg7k5GwpkxEcRQM1Y9NQ2g=s64",
      "userId": "12001148323871082461"
     },
     "user_tz": 180
    },
    "id": "YbBpFAyjtcx1",
    "outputId": "40088ef7-608b-4295-cecb-d0b3b6b68328",
    "slideshow": {
     "slide_type": "subslide"
    }
   },
   "outputs": [
    {
     "data": {
      "text/plain": [
       "4"
      ]
     },
     "execution_count": 61,
     "metadata": {},
     "output_type": "execute_result"
    }
   ],
   "source": [
    "cuadrado(2)"
   ]
  },
  {
   "cell_type": "code",
   "execution_count": 62,
   "metadata": {
    "colab": {
     "base_uri": "https://localhost:8080/",
     "height": 34
    },
    "colab_type": "code",
    "executionInfo": {
     "elapsed": 11386,
     "status": "ok",
     "timestamp": 1594011211915,
     "user": {
      "displayName": "Matias Sanchez Gavier",
      "photoUrl": "https://lh3.googleusercontent.com/a-/AOh14GjD7hZiO5eInT5MTbCuYg7k5GwpkxEcRQM1Y9NQ2g=s64",
      "userId": "12001148323871082461"
     },
     "user_tz": 180
    },
    "id": "6lQc2qJKEbPW",
    "outputId": "6f16fe6a-2275-470d-9543-c1c5b03b5b7e",
    "slideshow": {
     "slide_type": "fragment"
    }
   },
   "outputs": [
    {
     "name": "stdout",
     "output_type": "stream",
     "text": [
      "[0, 1, 4, 9, 16, 25, 36, 49, 64, 81]\n"
     ]
    }
   ],
   "source": [
    "resultado = []\n",
    "\n",
    "for i in range(10):\n",
    "  resultado.append(cuadrado(i))\n",
    "\n",
    "print(resultado)"
   ]
  },
  {
   "cell_type": "markdown",
   "metadata": {
    "colab_type": "text",
    "id": "mi5vBG_w1YA7",
    "slideshow": {
     "slide_type": "subslide"
    }
   },
   "source": [
    "#### 🤖 Funciones  con condicionales\n",
    "\n",
    "\n",
    " Esta parte consta de combinar las secuencias \"if\" y las funciones, algo fundamental en la programación .\n",
    " Ejemplo: el profesor de Estadística I, acordó con los alumnos que de sacarse una nota mayor a 8 en los TPs, se les añadiría un punto adicional en el examen final especial. De lo contrario, no."
   ]
  },
  {
   "cell_type": "code",
   "execution_count": 63,
   "metadata": {
    "colab": {},
    "colab_type": "code",
    "executionInfo": {
     "elapsed": 10961,
     "status": "ok",
     "timestamp": 1594011211918,
     "user": {
      "displayName": "Matias Sanchez Gavier",
      "photoUrl": "https://lh3.googleusercontent.com/a-/AOh14GjD7hZiO5eInT5MTbCuYg7k5GwpkxEcRQM1Y9NQ2g=s64",
      "userId": "12001148323871082461"
     },
     "user_tz": 180
    },
    "id": "Oxxgykfg5C7f",
    "slideshow": {
     "slide_type": "subslide"
    }
   },
   "outputs": [],
   "source": [
    "def sumar_1(y):\n",
    "    if y >= 8:\n",
    "        y = y + 1\n",
    "        return y\n",
    "    elif  y <= 4:\n",
    "        y = y - 1\n",
    "        return  y \n",
    "    else: \n",
    "        return  y  "
   ]
  },
  {
   "cell_type": "code",
   "execution_count": 64,
   "metadata": {
    "colab": {
     "base_uri": "https://localhost:8080/",
     "height": 34
    },
    "colab_type": "code",
    "executionInfo": {
     "elapsed": 10640,
     "status": "ok",
     "timestamp": 1594011211919,
     "user": {
      "displayName": "Matias Sanchez Gavier",
      "photoUrl": "https://lh3.googleusercontent.com/a-/AOh14GjD7hZiO5eInT5MTbCuYg7k5GwpkxEcRQM1Y9NQ2g=s64",
      "userId": "12001148323871082461"
     },
     "user_tz": 180
    },
    "id": "ue4C97oG8r-Z",
    "outputId": "bd3631e1-76a3-468a-ec08-eadc756f49b6",
    "slideshow": {
     "slide_type": "subslide"
    }
   },
   "outputs": [
    {
     "data": {
      "text/plain": [
       "10"
      ]
     },
     "execution_count": 64,
     "metadata": {},
     "output_type": "execute_result"
    }
   ],
   "source": [
    "sumar_1(9)"
   ]
  },
  {
   "cell_type": "code",
   "execution_count": 65,
   "metadata": {
    "colab": {
     "base_uri": "https://localhost:8080/",
     "height": 34
    },
    "colab_type": "code",
    "executionInfo": {
     "elapsed": 10499,
     "status": "ok",
     "timestamp": 1594011211923,
     "user": {
      "displayName": "Matias Sanchez Gavier",
      "photoUrl": "https://lh3.googleusercontent.com/a-/AOh14GjD7hZiO5eInT5MTbCuYg7k5GwpkxEcRQM1Y9NQ2g=s64",
      "userId": "12001148323871082461"
     },
     "user_tz": 180
    },
    "id": "5oweAmnf9JyI",
    "outputId": "c081e583-6a71-40d2-ee22-e8a0cc791355",
    "slideshow": {
     "slide_type": "subslide"
    }
   },
   "outputs": [
    {
     "data": {
      "text/plain": [
       "1"
      ]
     },
     "execution_count": 65,
     "metadata": {},
     "output_type": "execute_result"
    }
   ],
   "source": [
    "sumar_1(2)"
   ]
  },
  {
   "cell_type": "code",
   "execution_count": 66,
   "metadata": {
    "colab": {
     "base_uri": "https://localhost:8080/",
     "height": 34
    },
    "colab_type": "code",
    "executionInfo": {
     "elapsed": 10379,
     "status": "ok",
     "timestamp": 1594011211925,
     "user": {
      "displayName": "Matias Sanchez Gavier",
      "photoUrl": "https://lh3.googleusercontent.com/a-/AOh14GjD7hZiO5eInT5MTbCuYg7k5GwpkxEcRQM1Y9NQ2g=s64",
      "userId": "12001148323871082461"
     },
     "user_tz": 180
    },
    "id": "207m5opi9O1Q",
    "outputId": "99db03fe-fdd6-4745-80cc-6486de972d51",
    "slideshow": {
     "slide_type": "subslide"
    }
   },
   "outputs": [
    {
     "data": {
      "text/plain": [
       "5"
      ]
     },
     "execution_count": 66,
     "metadata": {},
     "output_type": "execute_result"
    }
   ],
   "source": [
    "sumar_1(5)"
   ]
  },
  {
   "cell_type": "markdown",
   "metadata": {
    "colab_type": "text",
    "id": "BWaCAZDU_eZR",
    "slideshow": {
     "slide_type": "subslide"
    }
   },
   "source": [
    "#### 👽 Funciones con  condicionales y loops\n",
    "---\n",
    "Para acelerar el conteo de alumnos que van a final, Rodri decide armar una funcion en python que haga eso por el. La idea es crear una variable de aprobados que parta de cero, y que al verificarse ciertas condiciones, cambie sus valores.   "
   ]
  },
  {
   "cell_type": "code",
   "execution_count": 67,
   "metadata": {
    "colab": {},
    "colab_type": "code",
    "executionInfo": {
     "elapsed": 10069,
     "status": "ok",
     "timestamp": 1594011211927,
     "user": {
      "displayName": "Matias Sanchez Gavier",
      "photoUrl": "https://lh3.googleusercontent.com/a-/AOh14GjD7hZiO5eInT5MTbCuYg7k5GwpkxEcRQM1Y9NQ2g=s64",
      "userId": "12001148323871082461"
     },
     "user_tz": 180
    },
    "id": "HZGdlcJCLO0V",
    "slideshow": {
     "slide_type": "subslide"
    }
   },
   "outputs": [],
   "source": [
    "def count(notas):\n",
    "  total_aprobados = 0\n",
    "  for x in notas:\n",
    "    if x > 4:\n",
    "      total_aprobados += 1\n",
    "  return total_aprobados"
   ]
  },
  {
   "cell_type": "code",
   "execution_count": 68,
   "metadata": {
    "colab": {},
    "colab_type": "code",
    "executionInfo": {
     "elapsed": 9850,
     "status": "ok",
     "timestamp": 1594011211931,
     "user": {
      "displayName": "Matias Sanchez Gavier",
      "photoUrl": "https://lh3.googleusercontent.com/a-/AOh14GjD7hZiO5eInT5MTbCuYg7k5GwpkxEcRQM1Y9NQ2g=s64",
      "userId": "12001148323871082461"
     },
     "user_tz": 180
    },
    "id": "fyfuhv4dMRhk",
    "slideshow": {
     "slide_type": "subslide"
    }
   },
   "outputs": [],
   "source": [
    "notas = [9, 8, 9, 5, 2, 2, 1, 3, 4, 2, 2, 8, 4, 3, 1, 7, 7, 1, 2, 10, 4, 6, 2]"
   ]
  },
  {
   "cell_type": "code",
   "execution_count": 69,
   "metadata": {
    "colab": {
     "base_uri": "https://localhost:8080/",
     "height": 34
    },
    "colab_type": "code",
    "executionInfo": {
     "elapsed": 9520,
     "status": "ok",
     "timestamp": 1594011211933,
     "user": {
      "displayName": "Matias Sanchez Gavier",
      "photoUrl": "https://lh3.googleusercontent.com/a-/AOh14GjD7hZiO5eInT5MTbCuYg7k5GwpkxEcRQM1Y9NQ2g=s64",
      "userId": "12001148323871082461"
     },
     "user_tz": 180
    },
    "id": "qECli-0NMsPd",
    "outputId": "f98cb873-09ab-44f8-f108-a363cba87206",
    "slideshow": {
     "slide_type": "subslide"
    }
   },
   "outputs": [
    {
     "data": {
      "text/plain": [
       "9"
      ]
     },
     "execution_count": 69,
     "metadata": {},
     "output_type": "execute_result"
    }
   ],
   "source": [
    "count(notas)"
   ]
  },
  {
   "cell_type": "markdown",
   "metadata": {
    "colab_type": "text",
    "id": "01z8ASVINxxq",
    "slideshow": {
     "slide_type": "slide"
    }
   },
   "source": [
    "## 📦  Programación Orientada a Objetos\n",
    "---\n",
    "**Todo en python es un objeto**\n",
    "\n",
    "Python es un lenguaje orientado a objetos y vamos a hacer provecho de esto.   La idea es dar otra capa de abstracción. POO permite crear estructuras más complejas. \n",
    "\n",
    "Una de las razones que queremos que aprendan sobre esto es porque es  muy útil para entender **las librerias modernas** que vamos a estar utilizando a lo largo del curso. \n",
    "\n",
    "En forma introductoria, definamos unos conceptos: \n",
    "\n",
    "- Una **clase** es como una preescripción general, en la cual se van a basar los objetos.\n",
    "- Un **objeto** es una instancia de una clase, es decir un caso particular. "
   ]
  },
  {
   "cell_type": "code",
   "execution_count": 70,
   "metadata": {
    "colab": {},
    "colab_type": "code",
    "executionInfo": {
     "elapsed": 8919,
     "status": "ok",
     "timestamp": 1594011211936,
     "user": {
      "displayName": "Matias Sanchez Gavier",
      "photoUrl": "https://lh3.googleusercontent.com/a-/AOh14GjD7hZiO5eInT5MTbCuYg7k5GwpkxEcRQM1Y9NQ2g=s64",
      "userId": "12001148323871082461"
     },
     "user_tz": 180
    },
    "id": "NYsdS2VlNxxr",
    "slideshow": {
     "slide_type": "subslide"
    }
   },
   "outputs": [],
   "source": [
    "class Dog:\n",
    "    \n",
    "    #Metodo / funcion asociada a la clase\n",
    "    def molestar(self):\n",
    "        print(\"bauf, bauf, \"*5 )          "
   ]
  },
  {
   "cell_type": "code",
   "execution_count": 71,
   "metadata": {
    "colab": {
     "base_uri": "https://localhost:8080/",
     "height": 34
    },
    "colab_type": "code",
    "executionInfo": {
     "elapsed": 8722,
     "status": "ok",
     "timestamp": 1594011211939,
     "user": {
      "displayName": "Matias Sanchez Gavier",
      "photoUrl": "https://lh3.googleusercontent.com/a-/AOh14GjD7hZiO5eInT5MTbCuYg7k5GwpkxEcRQM1Y9NQ2g=s64",
      "userId": "12001148323871082461"
     },
     "user_tz": 180
    },
    "id": "2B8X2iwINxxs",
    "outputId": "1dd2939f-ecba-4f6d-9501-282e18cba562",
    "slideshow": {
     "slide_type": "subslide"
    }
   },
   "outputs": [
    {
     "name": "stdout",
     "output_type": "stream",
     "text": [
      "bauf, bauf, bauf, bauf, bauf, bauf, bauf, bauf, bauf, bauf, \n"
     ]
    }
   ],
   "source": [
    "# instancia de la clase\n",
    "perro_matias = Dog()\n",
    "\n",
    "# metodo \n",
    "perro_matias.molestar()"
   ]
  },
  {
   "cell_type": "code",
   "execution_count": 72,
   "metadata": {
    "colab": {
     "base_uri": "https://localhost:8080/",
     "height": 34
    },
    "colab_type": "code",
    "executionInfo": {
     "elapsed": 8540,
     "status": "ok",
     "timestamp": 1594011211941,
     "user": {
      "displayName": "Matias Sanchez Gavier",
      "photoUrl": "https://lh3.googleusercontent.com/a-/AOh14GjD7hZiO5eInT5MTbCuYg7k5GwpkxEcRQM1Y9NQ2g=s64",
      "userId": "12001148323871082461"
     },
     "user_tz": 180
    },
    "id": "1osAf_7QNxxu",
    "outputId": "f4df594e-2627-416f-f5be-ceb84c165a5e",
    "slideshow": {
     "slide_type": "subslide"
    }
   },
   "outputs": [
    {
     "name": "stdout",
     "output_type": "stream",
     "text": [
      "bauf, bauf, bauf, bauf, bauf, bauf, bauf, bauf, bauf, bauf, \n"
     ]
    }
   ],
   "source": [
    "#otro ejemplo, otra instancia\n",
    "perro_sofia = Dog()\n",
    "\n",
    "perro_sofia.molestar()"
   ]
  },
  {
   "cell_type": "markdown",
   "metadata": {
    "colab_type": "text",
    "id": "c-cWElUDNxxv",
    "slideshow": {
     "slide_type": "subslide"
    }
   },
   "source": [
    "### 👑 ¿Qué es Self? \n",
    "---\n",
    "Self es una forma de referir a la instancia u objeto. Siempre que uno crea una función dentro de la clase debe de poner como argumento self para que la función funcione correctamente como hicimos arriba. "
   ]
  },
  {
   "cell_type": "markdown",
   "metadata": {
    "colab_type": "text",
    "id": "xbcEAGMfNxxv",
    "slideshow": {
     "slide_type": "subslide"
    }
   },
   "source": [
    "###  🎫 Atributos\n",
    "---\n",
    "Una parte importante de las clases son los atributos. Los atributos son:\n",
    "\n",
    "- Una forma de que el objeto guarde información asociada a la clase y a la instancia.\n",
    "- Esta información se puede acceder \n",
    "- Los atributos tambíen se pueden usar en métodos\n",
    "\n",
    "Para indicar los atributos usamos un método especial **\\__init__\\** que se ejecuta direcamente cuando inicializamos el objeto."
   ]
  },
  {
   "cell_type": "code",
   "execution_count": 73,
   "metadata": {
    "colab": {},
    "colab_type": "code",
    "executionInfo": {
     "elapsed": 8150,
     "status": "ok",
     "timestamp": 1594011211942,
     "user": {
      "displayName": "Matias Sanchez Gavier",
      "photoUrl": "https://lh3.googleusercontent.com/a-/AOh14GjD7hZiO5eInT5MTbCuYg7k5GwpkxEcRQM1Y9NQ2g=s64",
      "userId": "12001148323871082461"
     },
     "user_tz": 180
    },
    "id": "ulI7isaDNxxw",
    "slideshow": {
     "slide_type": "subslide"
    }
   },
   "outputs": [],
   "source": [
    "class Perro:\n",
    "    \n",
    "     # atributos\n",
    "    def __init__(self, nombre):\n",
    "        self.nombre = nombre\n",
    "    \n",
    "    \n",
    "    def molestar(self):\n",
    "        print(\"bauf, bauf, \"*5 )     "
   ]
  },
  {
   "cell_type": "code",
   "execution_count": 74,
   "metadata": {
    "colab": {
     "base_uri": "https://localhost:8080/",
     "height": 35
    },
    "colab_type": "code",
    "executionInfo": {
     "elapsed": 8026,
     "status": "ok",
     "timestamp": 1594011211945,
     "user": {
      "displayName": "Matias Sanchez Gavier",
      "photoUrl": "https://lh3.googleusercontent.com/a-/AOh14GjD7hZiO5eInT5MTbCuYg7k5GwpkxEcRQM1Y9NQ2g=s64",
      "userId": "12001148323871082461"
     },
     "user_tz": 180
    },
    "id": "7ho1cqywNxxy",
    "outputId": "40913c0d-e0e9-4ac7-f431-fdc4d40462a4",
    "slideshow": {
     "slide_type": "subslide"
    }
   },
   "outputs": [
    {
     "data": {
      "text/plain": [
       "'spiderman'"
      ]
     },
     "execution_count": 74,
     "metadata": {},
     "output_type": "execute_result"
    }
   ],
   "source": [
    "miPerro = Perro(nombre = \"spiderman\")\n",
    "\n",
    "#accediendo al atributo\n",
    "miPerro.nombre"
   ]
  },
  {
   "cell_type": "markdown",
   "metadata": {
    "colab_type": "text",
    "id": "qwKV2mcHNxx1",
    "slideshow": {
     "slide_type": "subslide"
    }
   },
   "source": [
    "Si deseamos podemos cambiar los valores de los atributos. "
   ]
  },
  {
   "cell_type": "code",
   "execution_count": 75,
   "metadata": {
    "colab": {},
    "colab_type": "code",
    "executionInfo": {
     "elapsed": 7775,
     "status": "ok",
     "timestamp": 1594011211946,
     "user": {
      "displayName": "Matias Sanchez Gavier",
      "photoUrl": "https://lh3.googleusercontent.com/a-/AOh14GjD7hZiO5eInT5MTbCuYg7k5GwpkxEcRQM1Y9NQ2g=s64",
      "userId": "12001148323871082461"
     },
     "user_tz": 180
    },
    "id": "1NnXGqSdNxx1",
    "slideshow": {
     "slide_type": "subslide"
    }
   },
   "outputs": [],
   "source": [
    "# El ejemplo que todos querían \n",
    "\n",
    "class gato:\n",
    "    \n",
    "     # atributos\n",
    "    def __init__(self, nombre, edad):\n",
    "        self.nombre = nombre\n",
    "        self.edad = edad\n",
    "    \n",
    "    \n",
    "    def molestar(self):\n",
    "        print(\"miau, miau, \"*5 )   \n",
    "        \n",
    "    \n",
    "    "
   ]
  },
  {
   "cell_type": "code",
   "execution_count": 76,
   "metadata": {
    "colab": {
     "base_uri": "https://localhost:8080/",
     "height": 35
    },
    "colab_type": "code",
    "executionInfo": {
     "elapsed": 7623,
     "status": "ok",
     "timestamp": 1594011211948,
     "user": {
      "displayName": "Matias Sanchez Gavier",
      "photoUrl": "https://lh3.googleusercontent.com/a-/AOh14GjD7hZiO5eInT5MTbCuYg7k5GwpkxEcRQM1Y9NQ2g=s64",
      "userId": "12001148323871082461"
     },
     "user_tz": 180
    },
    "id": "ITbBggPlNxx3",
    "outputId": "656b7544-6f7f-4f70-b6a9-a2515257fd01",
    "slideshow": {
     "slide_type": "subslide"
    }
   },
   "outputs": [
    {
     "data": {
      "text/plain": [
       "'Alfonso'"
      ]
     },
     "execution_count": 76,
     "metadata": {},
     "output_type": "execute_result"
    }
   ],
   "source": [
    "X = gato(nombre= \"Gaturro\", edad=2)\n",
    "\n",
    "X.nombre = \"Alfonso\"\n",
    "\n",
    "X.nombre"
   ]
  },
  {
   "cell_type": "code",
   "execution_count": 77,
   "metadata": {
    "colab": {},
    "colab_type": "code",
    "executionInfo": {
     "elapsed": 7417,
     "status": "ok",
     "timestamp": 1594011211950,
     "user": {
      "displayName": "Matias Sanchez Gavier",
      "photoUrl": "https://lh3.googleusercontent.com/a-/AOh14GjD7hZiO5eInT5MTbCuYg7k5GwpkxEcRQM1Y9NQ2g=s64",
      "userId": "12001148323871082461"
     },
     "user_tz": 180
    },
    "id": "6Ev25C0KNxx4",
    "slideshow": {
     "slide_type": "subslide"
    }
   },
   "outputs": [],
   "source": [
    "class estudiante:\n",
    "    \n",
    "    def __init__(self, nombre, edad, nota):\n",
    "        self.nombre = nombre\n",
    "        self.edad = edad\n",
    "        self.nota = nota\n",
    "\n",
    "    def nota(self):\n",
    "        return self.nota    "
   ]
  },
  {
   "cell_type": "code",
   "execution_count": 78,
   "metadata": {
    "colab": {},
    "colab_type": "code",
    "executionInfo": {
     "elapsed": 7257,
     "status": "ok",
     "timestamp": 1594011211951,
     "user": {
      "displayName": "Matias Sanchez Gavier",
      "photoUrl": "https://lh3.googleusercontent.com/a-/AOh14GjD7hZiO5eInT5MTbCuYg7k5GwpkxEcRQM1Y9NQ2g=s64",
      "userId": "12001148323871082461"
     },
     "user_tz": 180
    },
    "id": "AYemdCcnNxx6",
    "slideshow": {
     "slide_type": "subslide"
    }
   },
   "outputs": [],
   "source": [
    "class Curso: \n",
    "    \n",
    "    def __init__(self, nombre, maximo_estudiantes):\n",
    "        self.nombre= nombre\n",
    "        self.maximo_estudiantes = maximo_estudiantes\n",
    "        # atributo no explícito en la inicialización \n",
    "        self.estudiantes = []  \n",
    "    \n",
    "    def agregar_alumno(self, estudiante):\n",
    "        self.estudiantes.append(estudiante)\n",
    "\n",
    "    \n",
    "    def Promedio(self):\n",
    "        prom = 0 \n",
    "        for x in self.estudiantes:\n",
    "            prom += x.nota\n",
    "        return prom/len(self.estudiantes)\n",
    "            "
   ]
  },
  {
   "cell_type": "code",
   "execution_count": 79,
   "metadata": {
    "colab": {},
    "colab_type": "code",
    "executionInfo": {
     "elapsed": 7112,
     "status": "ok",
     "timestamp": 1594011211954,
     "user": {
      "displayName": "Matias Sanchez Gavier",
      "photoUrl": "https://lh3.googleusercontent.com/a-/AOh14GjD7hZiO5eInT5MTbCuYg7k5GwpkxEcRQM1Y9NQ2g=s64",
      "userId": "12001148323871082461"
     },
     "user_tz": 180
    },
    "id": "5WE4v_GtNxx7",
    "slideshow": {
     "slide_type": "subslide"
    }
   },
   "outputs": [],
   "source": [
    "s1 = estudiante(\"Matias\", 21, 10)\n",
    "s2 = estudiante(\"Markov\", 35, 8)\n",
    "s3 = estudiante(\"Valentina\", 18, 7)"
   ]
  },
  {
   "cell_type": "code",
   "execution_count": 80,
   "metadata": {
    "colab": {
     "base_uri": "https://localhost:8080/",
     "height": 68
    },
    "colab_type": "code",
    "executionInfo": {
     "elapsed": 6881,
     "status": "ok",
     "timestamp": 1594011211957,
     "user": {
      "displayName": "Matias Sanchez Gavier",
      "photoUrl": "https://lh3.googleusercontent.com/a-/AOh14GjD7hZiO5eInT5MTbCuYg7k5GwpkxEcRQM1Y9NQ2g=s64",
      "userId": "12001148323871082461"
     },
     "user_tz": 180
    },
    "id": "Unv9p6s1Nxx9",
    "outputId": "f93bd74b-949b-494b-a8a5-aa08990b33f3",
    "slideshow": {
     "slide_type": "subslide"
    }
   },
   "outputs": [
    {
     "data": {
      "text/plain": [
       "[<__main__.estudiante at 0x228f0cac788>,\n",
       " <__main__.estudiante at 0x228f0cacc48>,\n",
       " <__main__.estudiante at 0x228f0b47ac8>]"
      ]
     },
     "execution_count": 80,
     "metadata": {},
     "output_type": "execute_result"
    }
   ],
   "source": [
    "numerico = Curso(\"Analisis Numerico\", 2)\n",
    "\n",
    "numerico.agregar_alumno(s1)\n",
    "numerico.agregar_alumno(s2)\n",
    "numerico.agregar_alumno(s3)\n",
    "\n",
    "numerico.estudiantes"
   ]
  },
  {
   "cell_type": "code",
   "execution_count": 81,
   "metadata": {
    "colab": {
     "base_uri": "https://localhost:8080/",
     "height": 35
    },
    "colab_type": "code",
    "executionInfo": {
     "elapsed": 6742,
     "status": "ok",
     "timestamp": 1594011211959,
     "user": {
      "displayName": "Matias Sanchez Gavier",
      "photoUrl": "https://lh3.googleusercontent.com/a-/AOh14GjD7hZiO5eInT5MTbCuYg7k5GwpkxEcRQM1Y9NQ2g=s64",
      "userId": "12001148323871082461"
     },
     "user_tz": 180
    },
    "id": "YwqcejVyNxx-",
    "outputId": "272fb643-dde1-43ee-f439-838e48893894",
    "slideshow": {
     "slide_type": "subslide"
    }
   },
   "outputs": [
    {
     "data": {
      "text/plain": [
       "'Matias'"
      ]
     },
     "execution_count": 81,
     "metadata": {},
     "output_type": "execute_result"
    }
   ],
   "source": [
    "numerico.estudiantes[0].nombre"
   ]
  },
  {
   "cell_type": "code",
   "execution_count": 82,
   "metadata": {
    "colab": {
     "base_uri": "https://localhost:8080/",
     "height": 34
    },
    "colab_type": "code",
    "executionInfo": {
     "elapsed": 6554,
     "status": "ok",
     "timestamp": 1594011211961,
     "user": {
      "displayName": "Matias Sanchez Gavier",
      "photoUrl": "https://lh3.googleusercontent.com/a-/AOh14GjD7hZiO5eInT5MTbCuYg7k5GwpkxEcRQM1Y9NQ2g=s64",
      "userId": "12001148323871082461"
     },
     "user_tz": 180
    },
    "id": "m3LsQ2KFNxx_",
    "outputId": "ad338c93-e0fb-4548-bf60-72c5ed33af4b",
    "scrolled": false,
    "slideshow": {
     "slide_type": "subslide"
    }
   },
   "outputs": [
    {
     "data": {
      "text/plain": [
       "8.333333333333334"
      ]
     },
     "execution_count": 82,
     "metadata": {},
     "output_type": "execute_result"
    }
   ],
   "source": [
    "numerico.Promedio()"
   ]
  },
  {
   "cell_type": "markdown",
   "metadata": {
    "colab_type": "text",
    "id": "lve_Y-FzNxyA",
    "slideshow": {
     "slide_type": "slide"
    }
   },
   "source": [
    "### 🌅  Herencia \n",
    "---\n",
    "Esto es cuando tenemos una clase _parent_  y creamos _childs_ de la misma. Es decir definimos la mayor generalidad y luego creamos clases mas específicas."
   ]
  },
  {
   "cell_type": "code",
   "execution_count": 83,
   "metadata": {
    "colab": {
     "base_uri": "https://localhost:8080/",
     "height": 34
    },
    "colab_type": "code",
    "executionInfo": {
     "elapsed": 6263,
     "status": "ok",
     "timestamp": 1594011211962,
     "user": {
      "displayName": "Matias Sanchez Gavier",
      "photoUrl": "https://lh3.googleusercontent.com/a-/AOh14GjD7hZiO5eInT5MTbCuYg7k5GwpkxEcRQM1Y9NQ2g=s64",
      "userId": "12001148323871082461"
     },
     "user_tz": 180
    },
    "id": "9wKuzVh2NxyA",
    "outputId": "aa1d54e6-3972-448c-a579-d05515a7befc",
    "slideshow": {
     "slide_type": "subslide"
    }
   },
   "outputs": [
    {
     "name": "stdout",
     "output_type": "stream",
     "text": [
      "Soy bombon, y tengo 10 años de vida.\n"
     ]
    }
   ],
   "source": [
    "#parent class\n",
    "class animal:\n",
    "    def __init__(self, nombre, edad):\n",
    "        self.nombre = nombre\n",
    "        self.edad = edad\n",
    "        \n",
    "    def informacion(self):\n",
    "        print(f\"Soy {self.nombre}, y tengo {self.edad} años de vida.\")\n",
    "    \n",
    "x = animal(\"bombon\", 10)\n",
    "x.informacion()   \n",
    "    "
   ]
  },
  {
   "cell_type": "code",
   "execution_count": 84,
   "metadata": {
    "colab": {
     "base_uri": "https://localhost:8080/",
     "height": 34
    },
    "colab_type": "code",
    "executionInfo": {
     "elapsed": 6085,
     "status": "ok",
     "timestamp": 1594011211965,
     "user": {
      "displayName": "Matias Sanchez Gavier",
      "photoUrl": "https://lh3.googleusercontent.com/a-/AOh14GjD7hZiO5eInT5MTbCuYg7k5GwpkxEcRQM1Y9NQ2g=s64",
      "userId": "12001148323871082461"
     },
     "user_tz": 180
    },
    "id": "77jFs2zwNxyB",
    "outputId": "41441a53-ea64-4321-dcec-ae25485c6867",
    "slideshow": {
     "slide_type": "subslide"
    }
   },
   "outputs": [
    {
     "name": "stdout",
     "output_type": "stream",
     "text": [
      "Soy bombon, y tengo 12 años de vida.\n"
     ]
    }
   ],
   "source": [
    "#child class, agregamos mas cosas\n",
    "\n",
    "\n",
    "class gato(animal):\n",
    "    \n",
    "     # atributos\n",
    "    def __init__(self, nombre, edad, especie):\n",
    "        super().__init__(nombre,edad)\n",
    "        self.especie = especie\n",
    "    \n",
    "\n",
    "    def molestar(self):\n",
    "        print(\"miau, miau, \"*5 )   \n",
    "        \n",
    "\n",
    "gato1  = gato(\"bombon\", 12, \"minino\")\n",
    "\n",
    "#los metodos de la parent class funcionan\n",
    "gato1.informacion()"
   ]
  },
  {
   "cell_type": "markdown",
   "metadata": {
    "colab_type": "text",
    "id": "sAiE8WvaNxyD",
    "slideshow": {
     "slide_type": "slide"
    }
   },
   "source": [
    "### ¡Gracias!  💘\n",
    "---\n",
    "<img src=\"https://media.makeameme.org/created/thats-the-end-ay4b7t.jpg\" alt=\"Italian Trulli\">\n",
    "\n"
   ]
  }
 ],
 "metadata": {
  "colab": {
   "collapsed_sections": [],
   "name": "Clase I Python - Introducción.ipynb",
   "provenance": [],
   "toc_visible": true
  },
  "kernelspec": {
   "display_name": "Python 3",
   "language": "python",
   "name": "python3"
  },
  "language_info": {
   "codemirror_mode": {
    "name": "ipython",
    "version": 3
   },
   "file_extension": ".py",
   "mimetype": "text/x-python",
   "name": "python",
   "nbconvert_exporter": "python",
   "pygments_lexer": "ipython3",
   "version": "3.8.8"
  }
 },
 "nbformat": 4,
 "nbformat_minor": 1
}
