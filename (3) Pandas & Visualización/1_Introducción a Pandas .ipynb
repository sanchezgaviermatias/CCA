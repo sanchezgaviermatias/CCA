{
 "cells": [
  {
   "cell_type": "markdown",
   "metadata": {
    "colab_type": "text",
    "id": "orDXdpZ1HPzF"
   },
   "source": [
    "# 🐼 Pandas\n",
    "## La Libreria de Manejo de Datos\n",
    "\n"
   ]
  },
  {
   "cell_type": "markdown",
   "metadata": {
    "colab_type": "text",
    "id": "QLZCYB-aHPzH"
   },
   "source": [
    "\n",
    "<img src=\"https://upload.wikimedia.org/wikipedia/commons/thumb/e/ed/Pandas_logo.svg/1200px-Pandas_logo.svg.png\" alt=\"Drawing\" style=\"width: 350px;\"/>\n"
   ]
  },
  {
   "cell_type": "markdown",
   "metadata": {
    "colab_type": "text",
    "id": "2SeckBlEHPzI"
   },
   "source": [
    "\n",
    "\n",
    "En esta clase vamos a aprender como usar la libreria de pandas para análisis de datos. Podes pensar a Pandas como una versión extremadamente poderosa de Excel, con un monton más de posibilidades. Los Temas que vamos a ver son los siguientes:\n",
    "\n",
    "__Crognograma__\n",
    "\n",
    "* Librerias\n",
    "* Manejo de Directorio (OS)\n",
    "* Análisis Introductorio\n",
    "* Selección de Filas y Columnas\n",
    "* Filtering, Selección Condicionada\n",
    "* Reslover NaN Values\n",
    "* Operaciones con DataFrames\n",
    "* Concadenar\n",
    "* Exportar Archivos \n",
    "* Gráficos con Pandas\n",
    "***"
   ]
  },
  {
   "cell_type": "markdown",
   "metadata": {},
   "source": [
    "Para más información acerca de pandas  te recomendamos que visites estas páginas: \n",
    "- [User Guide Pandas]( https://pandas.pydata.org/docs/user_guide/index.html)\n",
    "\n",
    "- [Tutorial Pandas ](https://pandas.pydata.org/docs/getting_started/intro_tutorials/01_table_oriented.html)"
   ]
  },
  {
   "cell_type": "markdown",
   "metadata": {
    "colab_type": "text",
    "id": "ENxFHZv4HPzK"
   },
   "source": [
    "## 📕 Introducción a las Librerias\n",
    "---\n",
    "Las librerias son básicamente código externo que podemos utilizar. Esto es clave y es una de la razones para usar python. Mientras más famoso un lenguaje mejores librerias uno dispone.  **Pandas es una libreria** que se centra en el manejo de datos, y es lo que vamos a explorar en este notebook . A continuación instalamos algunas librerias. \n",
    "\n"
   ]
  },
  {
   "cell_type": "code",
   "execution_count": null,
   "metadata": {
    "colab": {},
    "colab_type": "code",
    "id": "xOXq0n0yHPzK",
    "outputId": "42d72dd0-3afb-48eb-f7a3-17a325f7bc26"
   },
   "outputs": [],
   "source": [
    "#Instalar si es necesario \n",
    "# Formato: !pip install Nombre_de_libreria\n",
    "!pip install numpy\n",
    "!pip install pandas "
   ]
  },
  {
   "cell_type": "markdown",
   "metadata": {
    "colab_type": "text",
    "id": "OuGnNBW79Fcx"
   },
   "source": [
    "El símbolo **!**  permite ejecutar como si estubieras en la terminal. "
   ]
  },
  {
   "cell_type": "markdown",
   "metadata": {
    "colab_type": "text",
    "id": "Z90NTbpOMESl"
   },
   "source": [
    "### ☎️ Importar librerias\n",
    "\n",
    "---\n",
    "\n",
    "Hay varias formas de importar, pero en general cada librería tiene una forma **tradicional o popular** de importarse, en el sentido de que la mayoría de la gente lo hace de la misma forma. "
   ]
  },
  {
   "cell_type": "code",
   "execution_count": 1,
   "metadata": {
    "colab": {},
    "colab_type": "code",
    "id": "ufMmgW38MJJi"
   },
   "outputs": [],
   "source": [
    "# Importando pandas y numpy\n",
    "import pandas as pd\n",
    "import numpy as np"
   ]
  },
  {
   "cell_type": "markdown",
   "metadata": {
    "colab_type": "text",
    "id": "Aky6ZH7KHPzW"
   },
   "source": [
    "## 📁  Lectura de Archivos\n",
    "---"
   ]
  },
  {
   "cell_type": "markdown",
   "metadata": {
    "colab_type": "text",
    "id": "vMkFK3ThPE4D"
   },
   "source": [
    "Vamos a utilizar el archivo pokemon.csv del github. Vamos a utilizar la función **read_csv()**, hay dos formas de indicarle que archivo leer:\n",
    "\n",
    "*   Dar un link al archivo csv\n",
    "*   Indicar el \"path\" al archivo en nuestra computadora\n",
    "\n",
    "Si uno esta usando colab se esta manejando con la compu de google, la nuestra no la registra google.  \n",
    "\n"
   ]
  },
  {
   "cell_type": "code",
   "execution_count": 2,
   "metadata": {
    "colab": {},
    "colab_type": "code",
    "id": "BOeLi4QNHPzX"
   },
   "outputs": [],
   "source": [
    "#Leer con URL \n",
    "url = \"./Datos/delitos_2019 .csv\"\n",
    "df = pd.read_csv(url, delimiter=\",\")"
   ]
  },
  {
   "cell_type": "markdown",
   "metadata": {},
   "source": [
    "_Fuente:_  \n",
    "https://data.buenosaires.gob.ar/dataset?page=3"
   ]
  },
  {
   "cell_type": "markdown",
   "metadata": {
    "colab_type": "text",
    "id": "KNAPs7T9HPzZ"
   },
   "source": [
    "CSV es un tipo especial de archivo. Otros tipos de archivos comunes son: \n",
    "- JSON Files\n",
    "- HTML Files\n",
    "- SQL Files\n",
    "\n",
    "Puede probar **pd.read**  y apretar tab para ver otras opciones (en Colab solo tiene que esperar y le va a aparecer mas opciones)."
   ]
  },
  {
   "cell_type": "code",
   "execution_count": null,
   "metadata": {
    "colab": {},
    "colab_type": "code",
    "id": "47EXbqLox_Bb"
   },
   "outputs": [],
   "source": [
    "# Ejemplos de funciones para leer datos:\n",
    "#pd.read_csv()\n",
    "#pd.read_excel()\n",
    "#pd.read_html()\n",
    "#pd.read_json()\n",
    "#pd.read_sql()\n",
    "#pd.read_sas()\n",
    "#pd.read_pickle()"
   ]
  },
  {
   "cell_type": "markdown",
   "metadata": {
    "colab_type": "text",
    "id": "BNrxSGF4RtjX"
   },
   "source": [
    "### 🗂️ Manejo de Archivos  (Solo usuarios en Colab)\n",
    "---"
   ]
  },
  {
   "cell_type": "code",
   "execution_count": null,
   "metadata": {
    "colab": {},
    "colab_type": "code",
    "id": "tvaryenvPQIm"
   },
   "outputs": [],
   "source": [
    "#Inidica los archivos en el directorio actual\n",
    "!ls "
   ]
  },
  {
   "cell_type": "code",
   "execution_count": null,
   "metadata": {
    "colab": {},
    "colab_type": "code",
    "id": "GD7wsncTOzsc"
   },
   "outputs": [],
   "source": [
    "# En google colab puede subir archivos con esta función\n",
    "from google.colab import files\n",
    "uploaded = files.upload()"
   ]
  },
  {
   "cell_type": "markdown",
   "metadata": {
    "colab_type": "text",
    "id": "6rnPOkiaypdV"
   },
   "source": [
    "### 📀  Libreria OS (Opcional)\n",
    "---\n",
    "Una libreria que le puede interesar para el manejo de Directorios y Paths (Carpetas) es la libreria OS, para mas  infor visite: \n",
    "- [Tutorial - OS](https://stackabuse.com/introduction-to-python-os-module/)\n",
    "- [Youtube - OS ](https://www.youtube.com/watch?v=tJxcKyFMTGo)\n",
    "\n",
    "Es como usar la **terminal de la computadora**.\n",
    "Se suele ver cuando se ve notebooks o proyectos de otras personas. "
   ]
  },
  {
   "cell_type": "code",
   "execution_count": null,
   "metadata": {
    "colab": {
     "base_uri": "https://localhost:8080/",
     "height": 108
    },
    "colab_type": "code",
    "executionInfo": {
     "elapsed": 2511,
     "status": "ok",
     "timestamp": 1593993691406,
     "user": {
      "displayName": "Matias Sanchez Gavier",
      "photoUrl": "https://lh3.googleusercontent.com/a-/AOh14GjD7hZiO5eInT5MTbCuYg7k5GwpkxEcRQM1Y9NQ2g=s64",
      "userId": "12001148323871082461"
     },
     "user_tz": 180
    },
    "id": "cDEgRRSMysbw",
    "outputId": "7f292ebb-8b18-4909-c4b0-f22932996cff"
   },
   "outputs": [],
   "source": [
    "#Principales Usos:\n",
    "import os \n",
    "\n",
    "# Directorio Actual\n",
    "print(os.getcwd()) \n",
    "\n",
    "\n",
    "# Mostrar Archivos en el directorio Actual\n",
    "print(os.listdir())\n",
    "\n",
    "# crear carpeta\n",
    "os.mkdir('carpeta')\n",
    "print(os.listdir())\n",
    "\n",
    "#Cambiar Directorio \n",
    "os.chdir('carpeta')\n",
    "print(os.listdir())\n",
    "\n",
    "# Cambiar Directorio\n",
    "os.chdir(\"../\")\n",
    "print(os.listdir())\n",
    "\n",
    "\n",
    "# Elimino la Carpeta \n",
    "os.rmdir('carpeta')"
   ]
  },
  {
   "cell_type": "markdown",
   "metadata": {
    "colab_type": "text",
    "id": "37c26OxU6tNE"
   },
   "source": [
    "La función **walk()** de la libreria os realiza un \"search\" de arriba hacia abajo de todo el sistema de archivos, partiendo desde el path que le indicas. Devuelve un tuple de tamaño 3 indicando el path (dirección), directorios(Carpetas) en ese path, y archivos en ese path, sucesivamente hasta que llega a la útlima carpeta.\n"
   ]
  },
  {
   "cell_type": "code",
   "execution_count": null,
   "metadata": {
    "colab": {},
    "colab_type": "code",
    "id": "F5hdxysI6UmX"
   },
   "outputs": [],
   "source": [
    "for dirpath, dirnames, filnames in os.walk(os.getcwd()):\n",
    "  print(f\"directorio: {dirpath}\")\n",
    "  print(f\"Carpetas: {dirnames}\")\n",
    "  print(f\"filnames:{filnames}\")\n",
    "  print()"
   ]
  },
  {
   "cell_type": "markdown",
   "metadata": {
    "colab_type": "text",
    "id": "mg1ZlhZ5HPza"
   },
   "source": [
    "## 📹 Análisis Introductorio\n",
    "---"
   ]
  },
  {
   "cell_type": "markdown",
   "metadata": {},
   "source": [
    "### Funciones escenciales para reconocer la data que vamos a manejar:\n",
    "\n",
    "* **Head**: Por default te devuelve las 5 primerias filas de nuestros data set (el encabezado). si usaramos la funcion .tail() nos mostraria las ultimas 5\n",
    "* **Shape**: por cuantas filas y columnas esta compuesto nuestro data set\n",
    "* **Info**: Nos devuelve columna por columna, cual es su 'Type' y cuantos datos son No Nulos. Tambien nos da informacion sobre cuanta memoria RAM estamos utilizando para correr este set de datos\n",
    "* **Columns**: lista de todas nuestras columnas separadas por ,\n",
    "* **Describe**: Nos devuelve informacion de estadistica descriptiva de todas las columnas numericas (cantidad de registros no nulos, media, desvio, cuantiles, etc)\n",
    "\n"
   ]
  },
  {
   "cell_type": "code",
   "execution_count": null,
   "metadata": {},
   "outputs": [],
   "source": [
    "df = pd.read_csv(url, delimiter=\",\")"
   ]
  },
  {
   "cell_type": "code",
   "execution_count": null,
   "metadata": {},
   "outputs": [],
   "source": [
    "# Dataframes\n",
    "# Series\n",
    "#ambas tienen un índice"
   ]
  },
  {
   "cell_type": "code",
   "execution_count": null,
   "metadata": {},
   "outputs": [],
   "source": [
    "type(df)"
   ]
  },
  {
   "cell_type": "code",
   "execution_count": null,
   "metadata": {
    "colab": {},
    "colab_type": "code",
    "id": "dz4hUQomHPzb",
    "outputId": "8c52a98a-c511-4bcb-8fa9-9650bf950685"
   },
   "outputs": [],
   "source": [
    "df.head()"
   ]
  },
  {
   "cell_type": "code",
   "execution_count": null,
   "metadata": {},
   "outputs": [],
   "source": [
    "df[\"fecha\"] = pd.to_datetime(df[\"fecha\"])"
   ]
  },
  {
   "cell_type": "code",
   "execution_count": null,
   "metadata": {},
   "outputs": [],
   "source": [
    "df.dtypes"
   ]
  },
  {
   "cell_type": "code",
   "execution_count": null,
   "metadata": {
    "colab": {},
    "colab_type": "code",
    "id": "Q00xe3sIHPzd",
    "outputId": "b482544c-8cbb-441e-c3fb-6701d15bd012"
   },
   "outputs": [],
   "source": [
    "# Devuelve (filas, columnas)\n",
    "df.shape"
   ]
  },
  {
   "cell_type": "code",
   "execution_count": null,
   "metadata": {
    "colab": {},
    "colab_type": "code",
    "id": "LELPs7saHPzg",
    "outputId": "e49f8e7c-e0c3-4cfa-d232-aafce263d6a3"
   },
   "outputs": [],
   "source": [
    "#Lista de Columnas\n",
    "df.columns"
   ]
  },
  {
   "cell_type": "code",
   "execution_count": null,
   "metadata": {
    "colab": {},
    "colab_type": "code",
    "id": "hE62uqToHPzi",
    "outputId": "6fd82ab9-10af-4f6a-e276-eeee44560309"
   },
   "outputs": [],
   "source": [
    "df.info()"
   ]
  },
  {
   "cell_type": "code",
   "execution_count": null,
   "metadata": {
    "colab": {},
    "colab_type": "code",
    "id": "yPJvfMmfHPzl",
    "outputId": "bbd4e2f7-6fba-4851-bb60-7b09989cbaa6"
   },
   "outputs": [],
   "source": [
    "#Estadísticas \n",
    "round(df.describe(percentiles=(0.01,0.1,0.9,0.99)),2)"
   ]
  },
  {
   "cell_type": "code",
   "execution_count": null,
   "metadata": {},
   "outputs": [],
   "source": [
    "df.sample(5)"
   ]
  },
  {
   "cell_type": "markdown",
   "metadata": {
    "colab_type": "text",
    "id": "XbaZZpF8eicV"
   },
   "source": [
    "## 👬 Diferencia entre Series y Data Frames\n",
    "---\n",
    "\n",
    "Hay una sútil diferencia cuando trabajamos con una **columna (Series)** o multiples (Data Frames).  Como son diferentes objetos, hay cosas que se pueden hacer en uno y en otros no.\n",
    "\n",
    "\n",
    "\n",
    "\n",
    "\n"
   ]
  },
  {
   "cell_type": "code",
   "execution_count": null,
   "metadata": {
    "colab": {
     "base_uri": "https://localhost:8080/",
     "height": 54
    },
    "colab_type": "code",
    "executionInfo": {
     "elapsed": 680,
     "status": "ok",
     "timestamp": 1593558461542,
     "user": {
      "displayName": "Matias Sanchez Gavier",
      "photoUrl": "https://lh3.googleusercontent.com/a-/AOh14GjD7hZiO5eInT5MTbCuYg7k5GwpkxEcRQM1Y9NQ2g=s64",
      "userId": "12001148323871082461"
     },
     "user_tz": 180
    },
    "id": "UeDLAe-Ce9zw",
    "outputId": "8cfc7b63-b23f-4faf-fc37-10aba8a7e1e6"
   },
   "outputs": [],
   "source": [
    "print(type(df[\"comuna\"])) # Serie\n",
    "\n",
    "type(df) # Data Frame"
   ]
  },
  {
   "cell_type": "markdown",
   "metadata": {
    "colab_type": "text",
    "id": "9x_IvfbhfEys"
   },
   "source": [
    "### 🦘 Dtype "
   ]
  },
  {
   "cell_type": "markdown",
   "metadata": {
    "colab_type": "text",
    "id": "Mjt4Ojord-RB"
   },
   "source": [
    "Cada Serie tiene **su propio tipo de dato**, denominado **Dtype**, estos son en general:\n",
    "\n",
    "- int64 (número entero)\n",
    "- float (número real)\n",
    "- object (String, texto)\n",
    "- bool (verdadero o falso)"
   ]
  },
  {
   "cell_type": "code",
   "execution_count": null,
   "metadata": {
    "colab": {
     "base_uri": "https://localhost:8080/",
     "height": 381
    },
    "colab_type": "code",
    "executionInfo": {
     "elapsed": 775,
     "status": "ok",
     "timestamp": 1593575310469,
     "user": {
      "displayName": "Matias Sanchez Gavier",
      "photoUrl": "https://lh3.googleusercontent.com/a-/AOh14GjD7hZiO5eInT5MTbCuYg7k5GwpkxEcRQM1Y9NQ2g=s64",
      "userId": "12001148323871082461"
     },
     "user_tz": 180
    },
    "id": "pTUIIbv5dikI",
    "outputId": "fa552d16-1303-47b1-cf1e-f691824128a4"
   },
   "outputs": [],
   "source": [
    "# Con info() podemos ver el Dtype de cada Serie\n",
    "df.info()"
   ]
  },
  {
   "cell_type": "markdown",
   "metadata": {
    "colab_type": "text",
    "id": "2Z3Lc-p-HPzv"
   },
   "source": [
    "## 🍧 Selección de Filas y Columnas  \n",
    "---"
   ]
  },
  {
   "cell_type": "markdown",
   "metadata": {
    "colab_type": "text",
    "id": "nxbbdyp5HPzw"
   },
   "source": [
    "###  Selección de  Columnas\n",
    "---"
   ]
  },
  {
   "cell_type": "code",
   "execution_count": null,
   "metadata": {
    "colab": {},
    "colab_type": "code",
    "id": "HjEmFXGvHPzw",
    "outputId": "02e411a0-985d-4752-adcf-6f12edd805e2"
   },
   "outputs": [],
   "source": [
    "df[\"barrio\"]"
   ]
  },
  {
   "cell_type": "code",
   "execution_count": null,
   "metadata": {
    "colab": {},
    "colab_type": "code",
    "id": "VP5Im2irHPzy",
    "outputId": "319b96fe-70cf-4cf9-d4c5-2a6de951f664"
   },
   "outputs": [],
   "source": [
    "#seleccion de multiples columnas\n",
    "columnas = [\"barrio\",\"comuna\"]\n",
    "df[columnas].head()"
   ]
  },
  {
   "cell_type": "code",
   "execution_count": null,
   "metadata": {},
   "outputs": [],
   "source": [
    "df.index"
   ]
  },
  {
   "cell_type": "markdown",
   "metadata": {
    "colab_type": "text",
    "id": "3LR75gHdHPz1"
   },
   "source": [
    "### Selección de  Filas y Columnas\n",
    "---\n",
    "\n",
    "seleccion con **LOC** , debemos pasarles \"Nombres\" , es decir, tanto de filas como columnas, indicarle Qué posicion, hasta donde, o a partir de donde, pero siempre pidiendole con el nombre: `colname` o `rowname` tanto de la fila como de la columna `(fila,columna)`"
   ]
  },
  {
   "cell_type": "code",
   "execution_count": null,
   "metadata": {
    "colab": {},
    "colab_type": "code",
    "id": "CrjNGD9LHPz2",
    "outputId": "094ccbca-0f1e-466b-8e2d-d13c42864abd"
   },
   "outputs": [],
   "source": [
    "df.loc[:3,:'barrio']"
   ]
  },
  {
   "cell_type": "markdown",
   "metadata": {},
   "source": [
    "en este caso le pasamos numeros en las \"filas\" dado que el `ìndex` es el que Pandas nos da por default del 0 hasta n.\n",
    "\n",
    "Si quisieramos tomar filas en particular, deberiamos pasarlas en forma de Lista`[1,2,10,232]`"
   ]
  },
  {
   "cell_type": "code",
   "execution_count": null,
   "metadata": {
    "colab": {},
    "colab_type": "code",
    "id": "UB0Bg4QtHPz4",
    "outputId": "54244dd1-3cde-4bf8-863e-49d7bc6859ff"
   },
   "outputs": [],
   "source": [
    "df.loc[0:4, \"tipo_delito\"] "
   ]
  },
  {
   "cell_type": "markdown",
   "metadata": {
    "colab_type": "text",
    "id": "R7zY4sLxw0-u"
   },
   "source": [
    "con **ILOC** buscamos en términos de la `posición` , no le importa el nombre de las filas o columnas."
   ]
  },
  {
   "cell_type": "code",
   "execution_count": null,
   "metadata": {
    "colab": {},
    "colab_type": "code",
    "id": "SPGDcXPyHP0F",
    "outputId": "36255b18-93db-49f6-811a-8173f8309093"
   },
   "outputs": [],
   "source": [
    "df.iloc[:6,:5]"
   ]
  },
  {
   "cell_type": "markdown",
   "metadata": {
    "colab_type": "text",
    "id": "vo31om-IHP0N"
   },
   "source": [
    "### 🍫  Selección Condicionada\n",
    "---"
   ]
  },
  {
   "cell_type": "markdown",
   "metadata": {
    "colab_type": "text",
    "id": "WAA51snKHP0N"
   },
   "source": [
    "**Simbolos y su Sígnificado:**\n",
    "  \n",
    "* No   **-**\n",
    "* Y   **&**\n",
    "* O   **|**\n",
    "* son iguales?    **==**\n",
    "* mayor, menor ... **>, <, >=, <=** \n"
   ]
  },
  {
   "cell_type": "code",
   "execution_count": null,
   "metadata": {},
   "outputs": [],
   "source": [
    "df[\"barrio\"] == \"Villa del Parque\""
   ]
  },
  {
   "cell_type": "code",
   "execution_count": null,
   "metadata": {
    "colab": {},
    "colab_type": "code",
    "id": "bRKzqh_-HP0N",
    "outputId": "431765aa-2912-4882-d6f2-39a3b000ce97"
   },
   "outputs": [],
   "source": [
    "df.loc[df[\"barrio\"] == \"Villa del Parque\"].head()"
   ]
  },
  {
   "cell_type": "markdown",
   "metadata": {},
   "source": [
    "¿Que pasa cuando tenemos que pasarle mas de 1 condicion?"
   ]
  },
  {
   "cell_type": "code",
   "execution_count": null,
   "metadata": {
    "colab": {},
    "colab_type": "code",
    "id": "Bp7ibh7xHP0P",
    "outputId": "aa389287-571b-4bf4-ae2c-1f6cee3e6ae3"
   },
   "outputs": [],
   "source": [
    "df.loc[(df[\"barrio\"] == \"Villa del Parque\") & \n",
    "       (df[\"tipo_delito\"]=='Robo (con violencia)') & \n",
    "       (df['subtipo_delito'] == 'Robo Automotor')].head()"
   ]
  },
  {
   "cell_type": "markdown",
   "metadata": {
    "colab_type": "text",
    "id": "PYSkgLPjw0-l"
   },
   "source": [
    "si a la seleccion la `asignamos` a alguna variable, con el **LOC** podemos reutilizarla para realizar una sub-seleccion\n"
   ]
  },
  {
   "cell_type": "code",
   "execution_count": null,
   "metadata": {
    "colab": {},
    "colab_type": "code",
    "id": "ivQbkb5bHP0S",
    "outputId": "bff3808f-e7b2-472b-9395-5bdc453b486f"
   },
   "outputs": [],
   "source": [
    "mask = (df[\"fecha\"] == \"2019-12-30\") & (df[\"comuna\"]== 11) & -(df[\"barrio\"]=='Villa del Parque')\n",
    "\n",
    "df.loc[mask, :'barrio'].head()"
   ]
  },
  {
   "cell_type": "markdown",
   "metadata": {},
   "source": [
    "_Otro ejemplo:_"
   ]
  },
  {
   "cell_type": "code",
   "execution_count": null,
   "metadata": {
    "colab": {},
    "colab_type": "code",
    "id": "-szvB7diHP0U",
    "outputId": "afabe351-c39e-4929-83ef-60f47d5178b0"
   },
   "outputs": [],
   "source": [
    "mask =  (df[\"barrio\"].isin([\"Villa Devoto\", \"Villa Gral. Mitre\"]))\n",
    "df.loc[ mask, : ].head()"
   ]
  },
  {
   "cell_type": "markdown",
   "metadata": {
    "colab_type": "text",
    "id": "P4q9Ce6Jfets"
   },
   "source": [
    "## ☕ Index\n",
    "---\n",
    "\n",
    "cuando le pedimos a Pandas que nos devuelva los indices de nuestro DF nos va devolver como estan guardados (parecidos los rangos que vimos anteriormente)"
   ]
  },
  {
   "cell_type": "code",
   "execution_count": null,
   "metadata": {
    "colab": {
     "base_uri": "https://localhost:8080/",
     "height": 35
    },
    "colab_type": "code",
    "executionInfo": {
     "elapsed": 816,
     "status": "ok",
     "timestamp": 1593575332603,
     "user": {
      "displayName": "Matias Sanchez Gavier",
      "photoUrl": "https://lh3.googleusercontent.com/a-/AOh14GjD7hZiO5eInT5MTbCuYg7k5GwpkxEcRQM1Y9NQ2g=s64",
      "userId": "12001148323871082461"
     },
     "user_tz": 180
    },
    "id": "Ezs6OPOyfYmy",
    "outputId": "26551108-06d0-4227-8f5c-7862ac4fdb5c"
   },
   "outputs": [],
   "source": [
    "df.index"
   ]
  },
  {
   "cell_type": "markdown",
   "metadata": {},
   "source": [
    "### 💾 Setear Index\n",
    "\n",
    "Podemos **Redefinir** el Indice que tuvimos por default utilizando la siguiente funcion:"
   ]
  },
  {
   "cell_type": "code",
   "execution_count": null,
   "metadata": {
    "colab": {},
    "colab_type": "code",
    "id": "D1TG0KuEHPz7",
    "outputId": "c360a177-4fd0-4d96-fff4-7cd7f413bdc0"
   },
   "outputs": [],
   "source": [
    "# le indicamos una columna para que sea el índice\n",
    "# no mutan los objetos \n",
    "\n",
    "df.set_index(\"id\", inplace=True)"
   ]
  },
  {
   "cell_type": "code",
   "execution_count": null,
   "metadata": {
    "colab": {},
    "colab_type": "code",
    "id": "6IKC0ezHw0-e",
    "outputId": "dbf32993-9a0c-4b0c-9813-a9bff2e07252"
   },
   "outputs": [],
   "source": [
    "df.reset_index(inplace=True)"
   ]
  },
  {
   "cell_type": "markdown",
   "metadata": {
    "colab_type": "text",
    "id": "73Y97HdEw0-c"
   },
   "source": [
    "El cambio que hicimos **no se guardo!** Esto es muy común con pandas.\n",
    "\n",
    "Cuando hacemos cambios que afectan el dataset los cambios no se suelen guardar. "
   ]
  },
  {
   "cell_type": "markdown",
   "metadata": {
    "colab_type": "text",
    "id": "mebENn3Uw0-h"
   },
   "source": [
    "Para que los cambios tengan efecto permanente usamos el parámetro `inplace=True`"
   ]
  },
  {
   "cell_type": "code",
   "execution_count": null,
   "metadata": {
    "colab": {},
    "colab_type": "code",
    "id": "egaQQLBzHPz9"
   },
   "outputs": [],
   "source": [
    "df.set_index(\"id\", inplace=True)"
   ]
  },
  {
   "cell_type": "code",
   "execution_count": null,
   "metadata": {
    "colab": {},
    "colab_type": "code",
    "id": "aRrygqrsw0-j",
    "outputId": "83456913-8bd9-4033-95fb-4b5cb5a909da"
   },
   "outputs": [],
   "source": [
    "df.head()"
   ]
  },
  {
   "cell_type": "markdown",
   "metadata": {},
   "source": [
    "Ahora si, cuando utilicemos la funcion **LOC** vamos a tener que pasarle el nuevo Index (ya no es mas de 0 a n)"
   ]
  },
  {
   "cell_type": "code",
   "execution_count": null,
   "metadata": {
    "colab": {},
    "colab_type": "code",
    "id": "Vd4mFKCFHPz_",
    "outputId": "3c998724-1780-4ab3-d6bb-070b7c5b58c0"
   },
   "outputs": [],
   "source": [
    "df.loc[425359, : ]"
   ]
  },
  {
   "cell_type": "code",
   "execution_count": null,
   "metadata": {
    "colab": {},
    "colab_type": "code",
    "id": "CxQwgOSLHP0D",
    "outputId": "2ffcbf8c-85ff-49f4-c834-3dd2f1921e3a"
   },
   "outputs": [],
   "source": [
    "df.loc[[371604,425359], :]"
   ]
  },
  {
   "cell_type": "markdown",
   "metadata": {},
   "source": [
    "### 🕰 ReSetear Index\n",
    "---\n",
    "\n"
   ]
  },
  {
   "cell_type": "code",
   "execution_count": null,
   "metadata": {},
   "outputs": [],
   "source": [
    "df.reset_index().head()"
   ]
  },
  {
   "cell_type": "code",
   "execution_count": null,
   "metadata": {},
   "outputs": [],
   "source": [
    "df.head()"
   ]
  },
  {
   "cell_type": "markdown",
   "metadata": {},
   "source": [
    "Nos volvio a pasar lo mismo, esto es porque cuando hacemos un `reseteo` del Index, Pandas va a pisar a nuestro indice actual y lo va a eliminar de nuestro DF "
   ]
  },
  {
   "cell_type": "markdown",
   "metadata": {
    "colab_type": "text",
    "id": "a3WNr-AXHP0W"
   },
   "source": [
    "## 🐾 Resolver NaN \n",
    "---\n",
    "Significa Not a Number, es lo que generalmente conocemos como `Nulo, Null` o en excel es simplemente una celda sin datos. \n",
    "\n",
    "Es importante que no haya NaN, ya que estos nos pueden generar problemas (existen ciertos algoritmos que pueden sortearlos pero no es recomendable tenerlos)."
   ]
  },
  {
   "cell_type": "markdown",
   "metadata": {
    "colab_type": "text",
    "id": "j4DvbeX6HP0W"
   },
   "source": [
    "Hay 3 opciones:\n",
    " - Eliminar filas con NaN\n",
    " - Eliminar Calumnas con NaN\n",
    " - Reemplzar NaN con Otros Valores"
   ]
  },
  {
   "cell_type": "markdown",
   "metadata": {
    "colab_type": "text",
    "id": "-C_b7osbHP0X"
   },
   "source": [
    "### 🔊 Detectar NaN values"
   ]
  },
  {
   "cell_type": "code",
   "execution_count": null,
   "metadata": {
    "colab": {},
    "colab_type": "code",
    "id": "ezNCJIfyHP0X",
    "outputId": "7312bea6-0d4e-460c-bcce-87575ff64c57"
   },
   "outputs": [],
   "source": [
    "# Primer Método\n",
    "df.info()"
   ]
  },
  {
   "cell_type": "code",
   "execution_count": null,
   "metadata": {
    "colab": {},
    "colab_type": "code",
    "id": "knKSRVtWHP0Z",
    "outputId": "9d512f46-04fb-408d-d5c3-55602f634ded"
   },
   "outputs": [],
   "source": [
    "#Segundo  Método, Recomendado\n",
    "df.isnull().sum()\n",
    "#isna"
   ]
  },
  {
   "cell_type": "code",
   "execution_count": null,
   "metadata": {
    "colab": {
     "base_uri": "https://localhost:8080/",
     "height": 272
    },
    "colab_type": "code",
    "executionInfo": {
     "elapsed": 452,
     "status": "ok",
     "timestamp": 1593554991034,
     "user": {
      "displayName": "Matias Sanchez Gavier",
      "photoUrl": "https://lh3.googleusercontent.com/a-/AOh14GjD7hZiO5eInT5MTbCuYg7k5GwpkxEcRQM1Y9NQ2g=s64",
      "userId": "12001148323871082461"
     },
     "user_tz": 180
    },
    "id": "L8QtOfHrJYXG",
    "outputId": "edf152bd-ee30-41b4-86e7-3dd999814999"
   },
   "outputs": [],
   "source": [
    "# Ordenamos de mayor a menor\n",
    "df.isnull().sum().sort_values(ascending=False)"
   ]
  },
  {
   "cell_type": "markdown",
   "metadata": {
    "colab_type": "text",
    "id": "eyhS57olHP0d"
   },
   "source": [
    "### 📴 Eliminar NaN Values\n",
    "---\n",
    "\n",
    "Eliminar columnas o eliminar filas? Depende el tipo de data set que tengamos podremos determinar que conviene. Regularmente _**eliminar filas**_ es mucho mas practico, dado que todas las columnas pueden ser de valor, pero...\n",
    "\n",
    "Cuando tenemos un caso como este, donde una columna tiene casi todos sus registros Nulos, eliminando las filas perderiamos casi todo el potencial del data set, aqui SI conviene _**eliminar una columna**_ que aporta pocos atributos.\n"
   ]
  },
  {
   "cell_type": "code",
   "execution_count": null,
   "metadata": {},
   "outputs": [],
   "source": [
    "df.head()"
   ]
  },
  {
   "cell_type": "code",
   "execution_count": null,
   "metadata": {
    "colab": {},
    "colab_type": "code",
    "id": "PCTGDsqUHP0d"
   },
   "outputs": [],
   "source": [
    "#eliminar columna 'Axis=1, Columnas'\n",
    "df.drop(\"subtipo_delito\", axis=1).head()"
   ]
  },
  {
   "cell_type": "markdown",
   "metadata": {},
   "source": [
    "Que pasaria si borrasemos todas las filas con `Nulos`??"
   ]
  },
  {
   "cell_type": "code",
   "execution_count": null,
   "metadata": {
    "colab": {},
    "colab_type": "code",
    "id": "rMvf5YUWHP0h"
   },
   "outputs": [],
   "source": [
    "#Eliminar Filas\n",
    "y = df.dropna()\n",
    "print(y.shape, df.shape)"
   ]
  },
  {
   "cell_type": "markdown",
   "metadata": {},
   "source": [
    "#### Variables Numericas"
   ]
  },
  {
   "cell_type": "code",
   "execution_count": null,
   "metadata": {},
   "outputs": [],
   "source": [
    "df.mean()"
   ]
  },
  {
   "cell_type": "code",
   "execution_count": null,
   "metadata": {
    "colab": {},
    "colab_type": "code",
    "id": "HmRf8rjVHP0i"
   },
   "outputs": [],
   "source": [
    "# Reemplzar valores NaN\n",
    "df.fillna(df.mean())"
   ]
  },
  {
   "cell_type": "markdown",
   "metadata": {},
   "source": [
    "**Sugerencia:** En estos casos donde hay pocas variables numericas, podemos reemplazar cada una por su propia Media `mean()`"
   ]
  },
  {
   "cell_type": "code",
   "execution_count": null,
   "metadata": {},
   "outputs": [],
   "source": [
    "df['long'].fillna(df['long'].mean(), inplace = True)"
   ]
  },
  {
   "cell_type": "code",
   "execution_count": null,
   "metadata": {
    "colab": {},
    "colab_type": "code",
    "id": "mobYyMaZJYXO"
   },
   "outputs": [],
   "source": [
    "# Ordenamos de mayor a menor\n",
    "df.isna().sum().sort_values(ascending=False)"
   ]
  },
  {
   "cell_type": "markdown",
   "metadata": {
    "colab_type": "text",
    "id": "M4ZtgTWjw0_S"
   },
   "source": [
    "Los métodos más comunes para reemplzar NaN son :\n",
    "\n",
    "- Variables **Continuas** --> Media, Mediana, Modo\n",
    "\n",
    "\n",
    "- Variables **Categóricas** --> Modo, Su propia Categoría  NaN\n",
    "\n",
    "Tambíen se pueden usar modelos estadísticos para intentar predecir los valores desconocidos. "
   ]
  },
  {
   "cell_type": "markdown",
   "metadata": {},
   "source": [
    "## 🕹Transformación de Variables\n",
    "---\n",
    "\n",
    "#### Qué pasa cuando tenemos valores que queremos descartar, pero no son Nan?"
   ]
  },
  {
   "cell_type": "code",
   "execution_count": 5,
   "metadata": {},
   "outputs": [
    {
     "data": {
      "text/plain": [
       "1.0     18874\n",
       "3.0     11135\n",
       "4.0      9920\n",
       "14.0     9559\n",
       "7.0      7768\n",
       "13.0     7275\n",
       "15.0     6836\n",
       "5.0      6720\n",
       "9.0      6083\n",
       "8.0      6075\n",
       "12.0     5919\n",
       "2.0      5589\n",
       "11.0     5194\n",
       "10.0     5155\n",
       "6.0      4962\n",
       "Name: comuna, dtype: int64"
      ]
     },
     "execution_count": 5,
     "metadata": {},
     "output_type": "execute_result"
    }
   ],
   "source": [
    "df['comuna'].value_counts()"
   ]
  },
  {
   "cell_type": "markdown",
   "metadata": {},
   "source": [
    "Nos vamos a guardar los `Index` de todas las filas que contengan ese \"S/D\" que hace que una columna Numerica sea un String"
   ]
  },
  {
   "cell_type": "code",
   "execution_count": null,
   "metadata": {},
   "outputs": [],
   "source": [
    "h = df[(df.franja_horaria == 'S/D')].index"
   ]
  },
  {
   "cell_type": "code",
   "execution_count": null,
   "metadata": {},
   "outputs": [],
   "source": [
    "h.unique()"
   ]
  },
  {
   "cell_type": "markdown",
   "metadata": {},
   "source": [
    "Como ya sabemos, con la funcion **DROP** vamos a poder eliminar _Filas con NaN_"
   ]
  },
  {
   "cell_type": "code",
   "execution_count": null,
   "metadata": {},
   "outputs": [],
   "source": [
    "df.drop(h, inplace = True)"
   ]
  },
  {
   "cell_type": "code",
   "execution_count": null,
   "metadata": {},
   "outputs": [],
   "source": [
    "df.franja_horaria.value_counts().tail()"
   ]
  },
  {
   "cell_type": "code",
   "execution_count": null,
   "metadata": {},
   "outputs": [],
   "source": [
    "df.info()"
   ]
  },
  {
   "cell_type": "code",
   "execution_count": null,
   "metadata": {},
   "outputs": [],
   "source": [
    "df.franja_horaria = pd.to_numeric(df.franja_horaria).astype('Int64')"
   ]
  },
  {
   "cell_type": "code",
   "execution_count": null,
   "metadata": {},
   "outputs": [],
   "source": [
    "df.info()"
   ]
  },
  {
   "cell_type": "markdown",
   "metadata": {
    "colab_type": "text",
    "id": "6CoigPAMHP1B"
   },
   "source": [
    "## 🛡️  Group By\n",
    "----\n",
    "¿Que es un Group By?"
   ]
  },
  {
   "cell_type": "markdown",
   "metadata": {},
   "source": [
    "\n",
    "\n",
    "![Image of Yaktocat](https://data36.com/wp-content/uploads/2017/06/SQL-GROUP-BY-clause-1024x720.png)"
   ]
  },
  {
   "cell_type": "code",
   "execution_count": 6,
   "metadata": {
    "colab": {},
    "colab_type": "code",
    "id": "HZizlL8gJYX3"
   },
   "outputs": [
    {
     "data": {
      "text/plain": [
       "array(['Nueva Pompeya', 'Liniers', 'Chacarita', 'Floresta',\n",
       "       'Parque Patricios', 'Boca', 'Villa Pueyrredón', 'Barracas',\n",
       "       'Almagro', 'Palermo', 'Parque Avellaneda', 'Parque Chacabuco',\n",
       "       'Villa Devoto', 'San Cristóbal', 'Villa Lugano', 'Retiro',\n",
       "       'Mataderos', 'Villa Crespo', 'Balvanera', 'Recoleta',\n",
       "       'Villa Soldati', 'Constitución', 'Villa Urquiza', 'Flores',\n",
       "       'San Telmo', 'Caballito', 'Nuñez', 'Villa Luro', 'Belgrano',\n",
       "       'Saavedra', 'Puerto Madero', 'Villa Ortuzar', 'San Nicolás',\n",
       "       'Boedo', 'Monserrat', 'Colegiales', 'Villa del Parque', 'Coghlan',\n",
       "       'Villa Santa Rita', nan, 'Monte Castro', 'Villa Riachuelo',\n",
       "       'Villa Gral. Mitre', 'Paternal', 'Agronomía', 'Vélez Sársfield',\n",
       "       'Parque Chas', 'Villa Real', 'Versalles'], dtype=object)"
      ]
     },
     "execution_count": 6,
     "metadata": {},
     "output_type": "execute_result"
    }
   ],
   "source": [
    "df[\"barrio\"].unique()"
   ]
  },
  {
   "cell_type": "code",
   "execution_count": 16,
   "metadata": {},
   "outputs": [],
   "source": [
    "robo_con_violencia= df.loc[df[\"tipo_delito\"] == \"Robo (con violencia)\"]"
   ]
  },
  {
   "cell_type": "code",
   "execution_count": null,
   "metadata": {},
   "outputs": [],
   "source": []
  },
  {
   "cell_type": "code",
   "execution_count": 17,
   "metadata": {},
   "outputs": [
    {
     "data": {
      "text/plain": [
       "Balvanera            7.806230\n",
       "Palermo              7.502070\n",
       "Flores               4.998726\n",
       "Almagro              4.726416\n",
       "Recoleta             4.559208\n",
       "Caballito            4.175425\n",
       "Barracas             3.957258\n",
       "Constitución         3.748646\n",
       "San Nicolás          3.700873\n",
       "Villa Lugano         3.646729\n",
       "Retiro               3.391936\n",
       "Belgrano             3.127588\n",
       "Villa Crespo         2.855277\n",
       "Nueva Pompeya        2.788394\n",
       "Parque Chacabuco     2.318619\n",
       "Monserrat            2.181668\n",
       "Mataderos            2.119562\n",
       "Villa Urquiza        1.915727\n",
       "Villa Soldati        1.758074\n",
       "San Cristóbal        1.724632\n",
       "Parque Patricios     1.681636\n",
       "Boca                 1.646602\n",
       "Parque Avellaneda    1.613160\n",
       "Boedo                1.598828\n",
       "Saavedra             1.512835\n",
       "Nuñez                1.468246\n",
       "Liniers              1.425250\n",
       "Villa Devoto         1.387031\n",
       "Floresta             1.294668\n",
       "Chacarita            1.262819\n",
       "San Telmo            1.258042\n",
       "Colegiales           1.216638\n",
       "Villa del Parque     1.060577\n",
       "Villa Gral. Mitre    0.879037\n",
       "Villa Pueyrredón     0.879037\n",
       "Villa Santa Rita     0.844003\n",
       "Vélez Sársfield      0.777120\n",
       "Villa Luro           0.765972\n",
       "Monte Castro         0.737308\n",
       "Paternal             0.555768\n",
       "Villa Ortuzar        0.535066\n",
       "Villa Riachuelo      0.412447\n",
       "Coghlan              0.386967\n",
       "Parque Chas          0.383782\n",
       "Agronomía            0.380597\n",
       "Versalles            0.310529\n",
       "Villa Real           0.286642\n",
       "Puerto Madero        0.202242\n",
       "Name: barrio, dtype: float64"
      ]
     },
     "execution_count": 17,
     "metadata": {},
     "output_type": "execute_result"
    }
   ],
   "source": [
    "(robo_con_violencia[\"barrio\"].value_counts()/robo_con_violencia[\"barrio\"].shape[0])*100"
   ]
  },
  {
   "cell_type": "code",
   "execution_count": 20,
   "metadata": {},
   "outputs": [
    {
     "data": {
      "text/html": [
       "<div>\n",
       "<style scoped>\n",
       "    .dataframe tbody tr th:only-of-type {\n",
       "        vertical-align: middle;\n",
       "    }\n",
       "\n",
       "    .dataframe tbody tr th {\n",
       "        vertical-align: top;\n",
       "    }\n",
       "\n",
       "    .dataframe thead th {\n",
       "        text-align: right;\n",
       "    }\n",
       "</style>\n",
       "<table border=\"1\" class=\"dataframe\">\n",
       "  <thead>\n",
       "    <tr style=\"text-align: right;\">\n",
       "      <th></th>\n",
       "      <th>id</th>\n",
       "      <th>fecha</th>\n",
       "      <th>franja_horaria</th>\n",
       "      <th>tipo_delito</th>\n",
       "      <th>subtipo_delito</th>\n",
       "      <th>cantidad_registrada</th>\n",
       "      <th>comuna</th>\n",
       "      <th>barrio</th>\n",
       "      <th>lat</th>\n",
       "      <th>long</th>\n",
       "    </tr>\n",
       "  </thead>\n",
       "  <tbody>\n",
       "    <tr>\n",
       "      <th>0</th>\n",
       "      <td>374556</td>\n",
       "      <td>2019-01-01</td>\n",
       "      <td>12</td>\n",
       "      <td>Lesiones</td>\n",
       "      <td>Siniestro Vial</td>\n",
       "      <td>1.0</td>\n",
       "      <td>4.0</td>\n",
       "      <td>Nueva Pompeya</td>\n",
       "      <td>-34.648387</td>\n",
       "      <td>-58.404748</td>\n",
       "    </tr>\n",
       "    <tr>\n",
       "      <th>1</th>\n",
       "      <td>426152</td>\n",
       "      <td>2019-01-01</td>\n",
       "      <td>6</td>\n",
       "      <td>Robo (con violencia)</td>\n",
       "      <td>NaN</td>\n",
       "      <td>1.0</td>\n",
       "      <td>9.0</td>\n",
       "      <td>Liniers</td>\n",
       "      <td>-34.649827</td>\n",
       "      <td>-58.513859</td>\n",
       "    </tr>\n",
       "    <tr>\n",
       "      <th>2</th>\n",
       "      <td>371604</td>\n",
       "      <td>2019-01-01</td>\n",
       "      <td>8</td>\n",
       "      <td>Lesiones</td>\n",
       "      <td>Siniestro Vial</td>\n",
       "      <td>1.0</td>\n",
       "      <td>15.0</td>\n",
       "      <td>Chacarita</td>\n",
       "      <td>-34.588108</td>\n",
       "      <td>-58.439392</td>\n",
       "    </tr>\n",
       "    <tr>\n",
       "      <th>3</th>\n",
       "      <td>425359</td>\n",
       "      <td>2019-01-01</td>\n",
       "      <td>16</td>\n",
       "      <td>Hurto (sin violencia)</td>\n",
       "      <td>Hurto Automotor</td>\n",
       "      <td>1.0</td>\n",
       "      <td>10.0</td>\n",
       "      <td>Floresta</td>\n",
       "      <td>-34.631877</td>\n",
       "      <td>-58.483975</td>\n",
       "    </tr>\n",
       "    <tr>\n",
       "      <th>4</th>\n",
       "      <td>437571</td>\n",
       "      <td>2019-01-01</td>\n",
       "      <td>2</td>\n",
       "      <td>Robo (con violencia)</td>\n",
       "      <td>Robo Automotor</td>\n",
       "      <td>1.0</td>\n",
       "      <td>4.0</td>\n",
       "      <td>Parque Patricios</td>\n",
       "      <td>-34.633161</td>\n",
       "      <td>-58.397123</td>\n",
       "    </tr>\n",
       "    <tr>\n",
       "      <th>...</th>\n",
       "      <td>...</td>\n",
       "      <td>...</td>\n",
       "      <td>...</td>\n",
       "      <td>...</td>\n",
       "      <td>...</td>\n",
       "      <td>...</td>\n",
       "      <td>...</td>\n",
       "      <td>...</td>\n",
       "      <td>...</td>\n",
       "      <td>...</td>\n",
       "    </tr>\n",
       "    <tr>\n",
       "      <th>117656</th>\n",
       "      <td>486770</td>\n",
       "      <td>2019-12-31</td>\n",
       "      <td>18</td>\n",
       "      <td>Robo (con violencia)</td>\n",
       "      <td>Robo Automotor</td>\n",
       "      <td>1.0</td>\n",
       "      <td>8.0</td>\n",
       "      <td>Villa Riachuelo</td>\n",
       "      <td>-34.692347</td>\n",
       "      <td>-58.472299</td>\n",
       "    </tr>\n",
       "    <tr>\n",
       "      <th>117657</th>\n",
       "      <td>486678</td>\n",
       "      <td>2019-12-31</td>\n",
       "      <td>4</td>\n",
       "      <td>Robo (con violencia)</td>\n",
       "      <td>Robo Automotor</td>\n",
       "      <td>1.0</td>\n",
       "      <td>5.0</td>\n",
       "      <td>Boedo</td>\n",
       "      <td>-34.626424</td>\n",
       "      <td>-58.422846</td>\n",
       "    </tr>\n",
       "    <tr>\n",
       "      <th>117658</th>\n",
       "      <td>486668</td>\n",
       "      <td>2019-12-31</td>\n",
       "      <td>1</td>\n",
       "      <td>Robo (con violencia)</td>\n",
       "      <td>Robo Automotor</td>\n",
       "      <td>1.0</td>\n",
       "      <td>1.0</td>\n",
       "      <td>Monserrat</td>\n",
       "      <td>-34.615892</td>\n",
       "      <td>-58.370573</td>\n",
       "    </tr>\n",
       "    <tr>\n",
       "      <th>117659</th>\n",
       "      <td>486750</td>\n",
       "      <td>2019-12-31</td>\n",
       "      <td>14</td>\n",
       "      <td>Robo (con violencia)</td>\n",
       "      <td>Robo Automotor</td>\n",
       "      <td>1.0</td>\n",
       "      <td>15.0</td>\n",
       "      <td>Villa Crespo</td>\n",
       "      <td>-34.602577</td>\n",
       "      <td>-58.433145</td>\n",
       "    </tr>\n",
       "    <tr>\n",
       "      <th>117660</th>\n",
       "      <td>486683</td>\n",
       "      <td>2019-12-31</td>\n",
       "      <td>7</td>\n",
       "      <td>Robo (con violencia)</td>\n",
       "      <td>Robo Automotor</td>\n",
       "      <td>1.0</td>\n",
       "      <td>8.0</td>\n",
       "      <td>Villa Lugano</td>\n",
       "      <td>-34.674789</td>\n",
       "      <td>-58.466394</td>\n",
       "    </tr>\n",
       "  </tbody>\n",
       "</table>\n",
       "<p>117661 rows × 10 columns</p>\n",
       "</div>"
      ],
      "text/plain": [
       "            id       fecha franja_horaria            tipo_delito  \\\n",
       "0       374556  2019-01-01             12               Lesiones   \n",
       "1       426152  2019-01-01              6   Robo (con violencia)   \n",
       "2       371604  2019-01-01              8               Lesiones   \n",
       "3       425359  2019-01-01             16  Hurto (sin violencia)   \n",
       "4       437571  2019-01-01              2   Robo (con violencia)   \n",
       "...        ...         ...            ...                    ...   \n",
       "117656  486770  2019-12-31             18   Robo (con violencia)   \n",
       "117657  486678  2019-12-31              4   Robo (con violencia)   \n",
       "117658  486668  2019-12-31              1   Robo (con violencia)   \n",
       "117659  486750  2019-12-31             14   Robo (con violencia)   \n",
       "117660  486683  2019-12-31              7   Robo (con violencia)   \n",
       "\n",
       "         subtipo_delito  cantidad_registrada  comuna            barrio  \\\n",
       "0        Siniestro Vial                  1.0     4.0     Nueva Pompeya   \n",
       "1                   NaN                  1.0     9.0           Liniers   \n",
       "2        Siniestro Vial                  1.0    15.0         Chacarita   \n",
       "3       Hurto Automotor                  1.0    10.0          Floresta   \n",
       "4        Robo Automotor                  1.0     4.0  Parque Patricios   \n",
       "...                 ...                  ...     ...               ...   \n",
       "117656   Robo Automotor                  1.0     8.0   Villa Riachuelo   \n",
       "117657   Robo Automotor                  1.0     5.0             Boedo   \n",
       "117658   Robo Automotor                  1.0     1.0         Monserrat   \n",
       "117659   Robo Automotor                  1.0    15.0      Villa Crespo   \n",
       "117660   Robo Automotor                  1.0     8.0      Villa Lugano   \n",
       "\n",
       "              lat       long  \n",
       "0      -34.648387 -58.404748  \n",
       "1      -34.649827 -58.513859  \n",
       "2      -34.588108 -58.439392  \n",
       "3      -34.631877 -58.483975  \n",
       "4      -34.633161 -58.397123  \n",
       "...           ...        ...  \n",
       "117656 -34.692347 -58.472299  \n",
       "117657 -34.626424 -58.422846  \n",
       "117658 -34.615892 -58.370573  \n",
       "117659 -34.602577 -58.433145  \n",
       "117660 -34.674789 -58.466394  \n",
       "\n",
       "[117661 rows x 10 columns]"
      ]
     },
     "execution_count": 20,
     "metadata": {},
     "output_type": "execute_result"
    }
   ],
   "source": [
    "df"
   ]
  },
  {
   "cell_type": "code",
   "execution_count": 18,
   "metadata": {
    "colab": {},
    "colab_type": "code",
    "id": "YdHPtNM-HP1B"
   },
   "outputs": [
    {
     "data": {
      "text/plain": [
       "<pandas.core.groupby.generic.DataFrameGroupBy object at 0x7f0f442e07f0>"
      ]
     },
     "execution_count": 18,
     "metadata": {},
     "output_type": "execute_result"
    }
   ],
   "source": [
    "#Group By por si solo no hace nada\n",
    "group_barrio = df.groupby(by=[\"barrio\"])\n",
    "group_barrio"
   ]
  },
  {
   "cell_type": "code",
   "execution_count": 23,
   "metadata": {
    "colab": {},
    "colab_type": "code",
    "id": "ssSTT8cHJYYG"
   },
   "outputs": [
    {
     "data": {
      "text/html": [
       "<div>\n",
       "<style scoped>\n",
       "    .dataframe tbody tr th:only-of-type {\n",
       "        vertical-align: middle;\n",
       "    }\n",
       "\n",
       "    .dataframe tbody tr th {\n",
       "        vertical-align: top;\n",
       "    }\n",
       "\n",
       "    .dataframe thead th {\n",
       "        text-align: right;\n",
       "    }\n",
       "</style>\n",
       "<table border=\"1\" class=\"dataframe\">\n",
       "  <thead>\n",
       "    <tr style=\"text-align: right;\">\n",
       "      <th></th>\n",
       "      <th>id</th>\n",
       "      <th>cantidad_registrada</th>\n",
       "      <th>comuna</th>\n",
       "      <th>lat</th>\n",
       "      <th>long</th>\n",
       "    </tr>\n",
       "    <tr>\n",
       "      <th>barrio</th>\n",
       "      <th></th>\n",
       "      <th></th>\n",
       "      <th></th>\n",
       "      <th></th>\n",
       "      <th></th>\n",
       "    </tr>\n",
       "  </thead>\n",
       "  <tbody>\n",
       "    <tr>\n",
       "      <th>Agronomía</th>\n",
       "      <td>194344238</td>\n",
       "      <td>454.0</td>\n",
       "      <td>6810.0</td>\n",
       "      <td>-15705.102362</td>\n",
       "      <td>-26555.316130</td>\n",
       "    </tr>\n",
       "    <tr>\n",
       "      <th>Almagro</th>\n",
       "      <td>2130169083</td>\n",
       "      <td>4914.0</td>\n",
       "      <td>24570.0</td>\n",
       "      <td>-170062.074568</td>\n",
       "      <td>-287079.940828</td>\n",
       "    </tr>\n",
       "    <tr>\n",
       "      <th>Balvanera</th>\n",
       "      <td>3971160690</td>\n",
       "      <td>9239.0</td>\n",
       "      <td>27717.0</td>\n",
       "      <td>-319739.612695</td>\n",
       "      <td>-539589.215498</td>\n",
       "    </tr>\n",
       "    <tr>\n",
       "      <th>Barracas</th>\n",
       "      <td>1625925539</td>\n",
       "      <td>3711.0</td>\n",
       "      <td>14840.0</td>\n",
       "      <td>-128533.457658</td>\n",
       "      <td>-216603.890702</td>\n",
       "    </tr>\n",
       "    <tr>\n",
       "      <th>Belgrano</th>\n",
       "      <td>1712561126</td>\n",
       "      <td>4003.0</td>\n",
       "      <td>52039.0</td>\n",
       "      <td>-138341.451388</td>\n",
       "      <td>-233995.774080</td>\n",
       "    </tr>\n",
       "    <tr>\n",
       "      <th>Boca</th>\n",
       "      <td>730481441</td>\n",
       "      <td>1683.0</td>\n",
       "      <td>6732.0</td>\n",
       "      <td>-58289.150027</td>\n",
       "      <td>-98223.740979</td>\n",
       "    </tr>\n",
       "    <tr>\n",
       "      <th>Boedo</th>\n",
       "      <td>778065508</td>\n",
       "      <td>1806.0</td>\n",
       "      <td>9030.0</td>\n",
       "      <td>-62540.266586</td>\n",
       "      <td>-105504.330988</td>\n",
       "    </tr>\n",
       "    <tr>\n",
       "      <th>Caballito</th>\n",
       "      <td>2128523264</td>\n",
       "      <td>4962.0</td>\n",
       "      <td>29772.0</td>\n",
       "      <td>-171772.226632</td>\n",
       "      <td>-289985.200222</td>\n",
       "    </tr>\n",
       "    <tr>\n",
       "      <th>Chacarita</th>\n",
       "      <td>623170230</td>\n",
       "      <td>1452.0</td>\n",
       "      <td>21765.0</td>\n",
       "      <td>-50185.379177</td>\n",
       "      <td>-84812.263770</td>\n",
       "    </tr>\n",
       "    <tr>\n",
       "      <th>Coghlan</th>\n",
       "      <td>204326482</td>\n",
       "      <td>476.0</td>\n",
       "      <td>5712.0</td>\n",
       "      <td>-16450.944837</td>\n",
       "      <td>-27833.714673</td>\n",
       "    </tr>\n",
       "    <tr>\n",
       "      <th>Colegiales</th>\n",
       "      <td>630252516</td>\n",
       "      <td>1468.0</td>\n",
       "      <td>19084.0</td>\n",
       "      <td>-50754.390826</td>\n",
       "      <td>-85804.575211</td>\n",
       "    </tr>\n",
       "    <tr>\n",
       "      <th>Constitución</th>\n",
       "      <td>1570493179</td>\n",
       "      <td>3592.0</td>\n",
       "      <td>3592.0</td>\n",
       "      <td>-124374.212039</td>\n",
       "      <td>-209713.421052</td>\n",
       "    </tr>\n",
       "    <tr>\n",
       "      <th>Flores</th>\n",
       "      <td>2381955466</td>\n",
       "      <td>5518.0</td>\n",
       "      <td>38626.0</td>\n",
       "      <td>-191108.803742</td>\n",
       "      <td>-322581.666748</td>\n",
       "    </tr>\n",
       "    <tr>\n",
       "      <th>Floresta</th>\n",
       "      <td>667991754</td>\n",
       "      <td>1555.0</td>\n",
       "      <td>15550.0</td>\n",
       "      <td>-53848.593824</td>\n",
       "      <td>-90938.763578</td>\n",
       "    </tr>\n",
       "    <tr>\n",
       "      <th>Liniers</th>\n",
       "      <td>763451463</td>\n",
       "      <td>1783.0</td>\n",
       "      <td>16047.0</td>\n",
       "      <td>-61767.933319</td>\n",
       "      <td>-104344.655807</td>\n",
       "    </tr>\n",
       "    <tr>\n",
       "      <th>Mataderos</th>\n",
       "      <td>1070049335</td>\n",
       "      <td>2497.0</td>\n",
       "      <td>22473.0</td>\n",
       "      <td>-86542.325462</td>\n",
       "      <td>-146080.110732</td>\n",
       "    </tr>\n",
       "    <tr>\n",
       "      <th>Monserrat</th>\n",
       "      <td>1369816942</td>\n",
       "      <td>3227.0</td>\n",
       "      <td>3226.0</td>\n",
       "      <td>-111658.574696</td>\n",
       "      <td>-188332.175034</td>\n",
       "    </tr>\n",
       "    <tr>\n",
       "      <th>Monte Castro</th>\n",
       "      <td>393133078</td>\n",
       "      <td>919.0</td>\n",
       "      <td>9190.0</td>\n",
       "      <td>-31815.523167</td>\n",
       "      <td>-53767.837015</td>\n",
       "    </tr>\n",
       "    <tr>\n",
       "      <th>Nueva Pompeya</th>\n",
       "      <td>1158071304</td>\n",
       "      <td>2652.0</td>\n",
       "      <td>10608.0</td>\n",
       "      <td>-91891.100278</td>\n",
       "      <td>-154923.041126</td>\n",
       "    </tr>\n",
       "    <tr>\n",
       "      <th>Nuñez</th>\n",
       "      <td>772531116</td>\n",
       "      <td>1804.0</td>\n",
       "      <td>23452.0</td>\n",
       "      <td>-62323.045779</td>\n",
       "      <td>-105470.502220</td>\n",
       "    </tr>\n",
       "    <tr>\n",
       "      <th>Palermo</th>\n",
       "      <td>4097234628</td>\n",
       "      <td>9560.0</td>\n",
       "      <td>133826.0</td>\n",
       "      <td>-330571.396944</td>\n",
       "      <td>-558471.184878</td>\n",
       "    </tr>\n",
       "    <tr>\n",
       "      <th>Parque Avellaneda</th>\n",
       "      <td>777669117</td>\n",
       "      <td>1805.0</td>\n",
       "      <td>16227.0</td>\n",
       "      <td>-62470.869927</td>\n",
       "      <td>-105434.755894</td>\n",
       "    </tr>\n",
       "    <tr>\n",
       "      <th>Parque Chacabuco</th>\n",
       "      <td>980867071</td>\n",
       "      <td>2250.0</td>\n",
       "      <td>15750.0</td>\n",
       "      <td>-77931.562539</td>\n",
       "      <td>-131486.040453</td>\n",
       "    </tr>\n",
       "    <tr>\n",
       "      <th>Parque Chas</th>\n",
       "      <td>205510402</td>\n",
       "      <td>482.0</td>\n",
       "      <td>7230.0</td>\n",
       "      <td>-16669.950061</td>\n",
       "      <td>-28186.724168</td>\n",
       "    </tr>\n",
       "    <tr>\n",
       "      <th>Parque Patricios</th>\n",
       "      <td>808686676</td>\n",
       "      <td>1875.0</td>\n",
       "      <td>7500.0</td>\n",
       "      <td>-64943.422221</td>\n",
       "      <td>-109502.296831</td>\n",
       "    </tr>\n",
       "    <tr>\n",
       "      <th>Paternal</th>\n",
       "      <td>283464574</td>\n",
       "      <td>660.0</td>\n",
       "      <td>9900.0</td>\n",
       "      <td>-22835.463502</td>\n",
       "      <td>-38588.139828</td>\n",
       "    </tr>\n",
       "    <tr>\n",
       "      <th>Puerto Madero</th>\n",
       "      <td>120097043</td>\n",
       "      <td>283.0</td>\n",
       "      <td>283.0</td>\n",
       "      <td>-9795.479535</td>\n",
       "      <td>-16516.314947</td>\n",
       "    </tr>\n",
       "    <tr>\n",
       "      <th>Recoleta</th>\n",
       "      <td>2392568250</td>\n",
       "      <td>5589.0</td>\n",
       "      <td>11178.0</td>\n",
       "      <td>-193337.770399</td>\n",
       "      <td>-326396.164679</td>\n",
       "    </tr>\n",
       "    <tr>\n",
       "      <th>Retiro</th>\n",
       "      <td>1693777983</td>\n",
       "      <td>3933.0</td>\n",
       "      <td>3932.0</td>\n",
       "      <td>-136013.303072</td>\n",
       "      <td>-229541.499015</td>\n",
       "    </tr>\n",
       "    <tr>\n",
       "      <th>Saavedra</th>\n",
       "      <td>782274696</td>\n",
       "      <td>1830.0</td>\n",
       "      <td>21960.0</td>\n",
       "      <td>-63225.301550</td>\n",
       "      <td>-107024.428746</td>\n",
       "    </tr>\n",
       "    <tr>\n",
       "      <th>San Cristóbal</th>\n",
       "      <td>817459925</td>\n",
       "      <td>1896.0</td>\n",
       "      <td>5688.0</td>\n",
       "      <td>-65646.454389</td>\n",
       "      <td>-110728.119398</td>\n",
       "    </tr>\n",
       "    <tr>\n",
       "      <th>San Nicolás</th>\n",
       "      <td>2633939051</td>\n",
       "      <td>6246.0</td>\n",
       "      <td>6246.0</td>\n",
       "      <td>-216134.576617</td>\n",
       "      <td>-364641.468482</td>\n",
       "    </tr>\n",
       "    <tr>\n",
       "      <th>San Telmo</th>\n",
       "      <td>682706139</td>\n",
       "      <td>1595.0</td>\n",
       "      <td>1595.0</td>\n",
       "      <td>-55220.127929</td>\n",
       "      <td>-93103.076527</td>\n",
       "    </tr>\n",
       "    <tr>\n",
       "      <th>Versalles</th>\n",
       "      <td>167287422</td>\n",
       "      <td>392.0</td>\n",
       "      <td>3920.0</td>\n",
       "      <td>-13575.177124</td>\n",
       "      <td>-22940.797513</td>\n",
       "    </tr>\n",
       "    <tr>\n",
       "      <th>Villa Crespo</th>\n",
       "      <td>1356069657</td>\n",
       "      <td>3144.0</td>\n",
       "      <td>47160.0</td>\n",
       "      <td>-108778.355007</td>\n",
       "      <td>-183737.541612</td>\n",
       "    </tr>\n",
       "    <tr>\n",
       "      <th>Villa Devoto</th>\n",
       "      <td>773872216</td>\n",
       "      <td>1821.0</td>\n",
       "      <td>20031.0</td>\n",
       "      <td>-63011.738292</td>\n",
       "      <td>-106553.647942</td>\n",
       "    </tr>\n",
       "    <tr>\n",
       "      <th>Villa Gral. Mitre</th>\n",
       "      <td>453159532</td>\n",
       "      <td>1059.0</td>\n",
       "      <td>11649.0</td>\n",
       "      <td>-36652.228853</td>\n",
       "      <td>-61918.184552</td>\n",
       "    </tr>\n",
       "    <tr>\n",
       "      <th>Villa Lugano</th>\n",
       "      <td>1666058708</td>\n",
       "      <td>3839.0</td>\n",
       "      <td>30712.0</td>\n",
       "      <td>-133118.725786</td>\n",
       "      <td>-224488.242492</td>\n",
       "    </tr>\n",
       "    <tr>\n",
       "      <th>Villa Luro</th>\n",
       "      <td>403076922</td>\n",
       "      <td>943.0</td>\n",
       "      <td>9430.0</td>\n",
       "      <td>-32663.084743</td>\n",
       "      <td>-55167.651294</td>\n",
       "    </tr>\n",
       "    <tr>\n",
       "      <th>Villa Ortuzar</th>\n",
       "      <td>275052994</td>\n",
       "      <td>645.0</td>\n",
       "      <td>9675.0</td>\n",
       "      <td>-22304.597724</td>\n",
       "      <td>-37712.096310</td>\n",
       "    </tr>\n",
       "    <tr>\n",
       "      <th>Villa Pueyrredón</th>\n",
       "      <td>467126425</td>\n",
       "      <td>1094.0</td>\n",
       "      <td>13128.0</td>\n",
       "      <td>-37833.133904</td>\n",
       "      <td>-64002.040275</td>\n",
       "    </tr>\n",
       "    <tr>\n",
       "      <th>Villa Real</th>\n",
       "      <td>146728195</td>\n",
       "      <td>343.0</td>\n",
       "      <td>3430.0</td>\n",
       "      <td>-11874.468361</td>\n",
       "      <td>-20074.398987</td>\n",
       "    </tr>\n",
       "    <tr>\n",
       "      <th>Villa Riachuelo</th>\n",
       "      <td>221557225</td>\n",
       "      <td>520.0</td>\n",
       "      <td>4160.0</td>\n",
       "      <td>-18039.084062</td>\n",
       "      <td>-30404.854843</td>\n",
       "    </tr>\n",
       "    <tr>\n",
       "      <th>Villa Santa Rita</th>\n",
       "      <td>428533184</td>\n",
       "      <td>1002.0</td>\n",
       "      <td>11022.0</td>\n",
       "      <td>-34685.649993</td>\n",
       "      <td>-58598.841684</td>\n",
       "    </tr>\n",
       "    <tr>\n",
       "      <th>Villa Soldati</th>\n",
       "      <td>749117575</td>\n",
       "      <td>1716.0</td>\n",
       "      <td>13728.0</td>\n",
       "      <td>-59481.097782</td>\n",
       "      <td>-100294.289204</td>\n",
       "    </tr>\n",
       "    <tr>\n",
       "      <th>Villa Urquiza</th>\n",
       "      <td>1072916878</td>\n",
       "      <td>2519.0</td>\n",
       "      <td>30228.0</td>\n",
       "      <td>-87087.926542</td>\n",
       "      <td>-147328.900133</td>\n",
       "    </tr>\n",
       "    <tr>\n",
       "      <th>Villa del Parque</th>\n",
       "      <td>560457694</td>\n",
       "      <td>1312.0</td>\n",
       "      <td>14432.0</td>\n",
       "      <td>-45400.411143</td>\n",
       "      <td>-76739.592378</td>\n",
       "    </tr>\n",
       "    <tr>\n",
       "      <th>Vélez Sársfield</th>\n",
       "      <td>428277844</td>\n",
       "      <td>1003.0</td>\n",
       "      <td>10030.0</td>\n",
       "      <td>-34736.017313</td>\n",
       "      <td>-58667.668684</td>\n",
       "    </tr>\n",
       "  </tbody>\n",
       "</table>\n",
       "</div>"
      ],
      "text/plain": [
       "                           id  cantidad_registrada    comuna            lat  \\\n",
       "barrio                                                                        \n",
       "Agronomía           194344238                454.0    6810.0  -15705.102362   \n",
       "Almagro            2130169083               4914.0   24570.0 -170062.074568   \n",
       "Balvanera          3971160690               9239.0   27717.0 -319739.612695   \n",
       "Barracas           1625925539               3711.0   14840.0 -128533.457658   \n",
       "Belgrano           1712561126               4003.0   52039.0 -138341.451388   \n",
       "Boca                730481441               1683.0    6732.0  -58289.150027   \n",
       "Boedo               778065508               1806.0    9030.0  -62540.266586   \n",
       "Caballito          2128523264               4962.0   29772.0 -171772.226632   \n",
       "Chacarita           623170230               1452.0   21765.0  -50185.379177   \n",
       "Coghlan             204326482                476.0    5712.0  -16450.944837   \n",
       "Colegiales          630252516               1468.0   19084.0  -50754.390826   \n",
       "Constitución       1570493179               3592.0    3592.0 -124374.212039   \n",
       "Flores             2381955466               5518.0   38626.0 -191108.803742   \n",
       "Floresta            667991754               1555.0   15550.0  -53848.593824   \n",
       "Liniers             763451463               1783.0   16047.0  -61767.933319   \n",
       "Mataderos          1070049335               2497.0   22473.0  -86542.325462   \n",
       "Monserrat          1369816942               3227.0    3226.0 -111658.574696   \n",
       "Monte Castro        393133078                919.0    9190.0  -31815.523167   \n",
       "Nueva Pompeya      1158071304               2652.0   10608.0  -91891.100278   \n",
       "Nuñez               772531116               1804.0   23452.0  -62323.045779   \n",
       "Palermo            4097234628               9560.0  133826.0 -330571.396944   \n",
       "Parque Avellaneda   777669117               1805.0   16227.0  -62470.869927   \n",
       "Parque Chacabuco    980867071               2250.0   15750.0  -77931.562539   \n",
       "Parque Chas         205510402                482.0    7230.0  -16669.950061   \n",
       "Parque Patricios    808686676               1875.0    7500.0  -64943.422221   \n",
       "Paternal            283464574                660.0    9900.0  -22835.463502   \n",
       "Puerto Madero       120097043                283.0     283.0   -9795.479535   \n",
       "Recoleta           2392568250               5589.0   11178.0 -193337.770399   \n",
       "Retiro             1693777983               3933.0    3932.0 -136013.303072   \n",
       "Saavedra            782274696               1830.0   21960.0  -63225.301550   \n",
       "San Cristóbal       817459925               1896.0    5688.0  -65646.454389   \n",
       "San Nicolás        2633939051               6246.0    6246.0 -216134.576617   \n",
       "San Telmo           682706139               1595.0    1595.0  -55220.127929   \n",
       "Versalles           167287422                392.0    3920.0  -13575.177124   \n",
       "Villa Crespo       1356069657               3144.0   47160.0 -108778.355007   \n",
       "Villa Devoto        773872216               1821.0   20031.0  -63011.738292   \n",
       "Villa Gral. Mitre   453159532               1059.0   11649.0  -36652.228853   \n",
       "Villa Lugano       1666058708               3839.0   30712.0 -133118.725786   \n",
       "Villa Luro          403076922                943.0    9430.0  -32663.084743   \n",
       "Villa Ortuzar       275052994                645.0    9675.0  -22304.597724   \n",
       "Villa Pueyrredón    467126425               1094.0   13128.0  -37833.133904   \n",
       "Villa Real          146728195                343.0    3430.0  -11874.468361   \n",
       "Villa Riachuelo     221557225                520.0    4160.0  -18039.084062   \n",
       "Villa Santa Rita    428533184               1002.0   11022.0  -34685.649993   \n",
       "Villa Soldati       749117575               1716.0   13728.0  -59481.097782   \n",
       "Villa Urquiza      1072916878               2519.0   30228.0  -87087.926542   \n",
       "Villa del Parque    560457694               1312.0   14432.0  -45400.411143   \n",
       "Vélez Sársfield     428277844               1003.0   10030.0  -34736.017313   \n",
       "\n",
       "                            long  \n",
       "barrio                            \n",
       "Agronomía          -26555.316130  \n",
       "Almagro           -287079.940828  \n",
       "Balvanera         -539589.215498  \n",
       "Barracas          -216603.890702  \n",
       "Belgrano          -233995.774080  \n",
       "Boca               -98223.740979  \n",
       "Boedo             -105504.330988  \n",
       "Caballito         -289985.200222  \n",
       "Chacarita          -84812.263770  \n",
       "Coghlan            -27833.714673  \n",
       "Colegiales         -85804.575211  \n",
       "Constitución      -209713.421052  \n",
       "Flores            -322581.666748  \n",
       "Floresta           -90938.763578  \n",
       "Liniers           -104344.655807  \n",
       "Mataderos         -146080.110732  \n",
       "Monserrat         -188332.175034  \n",
       "Monte Castro       -53767.837015  \n",
       "Nueva Pompeya     -154923.041126  \n",
       "Nuñez             -105470.502220  \n",
       "Palermo           -558471.184878  \n",
       "Parque Avellaneda -105434.755894  \n",
       "Parque Chacabuco  -131486.040453  \n",
       "Parque Chas        -28186.724168  \n",
       "Parque Patricios  -109502.296831  \n",
       "Paternal           -38588.139828  \n",
       "Puerto Madero      -16516.314947  \n",
       "Recoleta          -326396.164679  \n",
       "Retiro            -229541.499015  \n",
       "Saavedra          -107024.428746  \n",
       "San Cristóbal     -110728.119398  \n",
       "San Nicolás       -364641.468482  \n",
       "San Telmo          -93103.076527  \n",
       "Versalles          -22940.797513  \n",
       "Villa Crespo      -183737.541612  \n",
       "Villa Devoto      -106553.647942  \n",
       "Villa Gral. Mitre  -61918.184552  \n",
       "Villa Lugano      -224488.242492  \n",
       "Villa Luro         -55167.651294  \n",
       "Villa Ortuzar      -37712.096310  \n",
       "Villa Pueyrredón   -64002.040275  \n",
       "Villa Real         -20074.398987  \n",
       "Villa Riachuelo    -30404.854843  \n",
       "Villa Santa Rita   -58598.841684  \n",
       "Villa Soldati     -100294.289204  \n",
       "Villa Urquiza     -147328.900133  \n",
       "Villa del Parque   -76739.592378  \n",
       "Vélez Sársfield    -58667.668684  "
      ]
     },
     "execution_count": 23,
     "metadata": {},
     "output_type": "execute_result"
    }
   ],
   "source": [
    "# Devuelve la media para cada variable \n",
    "group_barrio.sum()"
   ]
  },
  {
   "cell_type": "code",
   "execution_count": null,
   "metadata": {
    "colab": {},
    "colab_type": "code",
    "id": "K2PJq6AHJYYI"
   },
   "outputs": [],
   "source": [
    "group_barrio.mean()[\"franja_horaria\"].sort_values(ascending=False).head()"
   ]
  },
  {
   "cell_type": "code",
   "execution_count": null,
   "metadata": {
    "colab": {},
    "colab_type": "code",
    "id": "xPsSXOuqHP1C"
   },
   "outputs": [],
   "source": [
    "group_barrio.std()[\"comuna\"].head()"
   ]
  },
  {
   "cell_type": "code",
   "execution_count": null,
   "metadata": {
    "colab": {},
    "colab_type": "code",
    "id": "aji8vSOIHP1F"
   },
   "outputs": [],
   "source": [
    "group_barrio.describe()[\"cantidad_registrada\"].sort_values(by='count',ascending=False).head()"
   ]
  },
  {
   "cell_type": "markdown",
   "metadata": {},
   "source": [
    "## 🎯Merge\n",
    "---\n",
    "\n",
    "Es una funcion que nos permite **UNIR** dos Data Frames. \n",
    "\n",
    "Esta _Union_ se va a llevar a cabo de diferentes maneras:\n",
    " - Inner\n",
    " - Left\n",
    " - Right\n",
    " - Outer\n",
    "\n",
    "![Image of Yaktocat](https://miro.medium.com/max/1200/1*9eH1_7VbTZPZd9jBiGIyNA.png)\n"
   ]
  },
  {
   "cell_type": "code",
   "execution_count": 26,
   "metadata": {},
   "outputs": [],
   "source": [
    "data1 = { 'Nombres': ['Juan','Rosa','Pepe', 'Maria'], \n",
    "        'Color': ['Verde','Rojo','Azul','Negro'],\n",
    "        'Numeros': [5,8,8,9]}\n",
    "\n",
    "data2 = { 'Nombres': ['Juan','Rosa','Pepe'], \n",
    "        'Color': ['Verde','Rojo','Azul'],\n",
    "        'Numeros': [5,8,8]}\n",
    "\n",
    "data3 = { 'Nombres': ['Juan','Tini','Pepe', 'Maria'], \n",
    "        'Color': ['Verde','Negro','Azul','Negro'],\n",
    "        'Numeros': [5,20,8,9]}\n",
    "\n"
   ]
  },
  {
   "cell_type": "code",
   "execution_count": 27,
   "metadata": {},
   "outputs": [
    {
     "name": "stdout",
     "output_type": "stream",
     "text": [
      "  Nombres  Color  Numeros\n",
      "0    Juan  Verde        5\n",
      "1    Rosa   Rojo        8\n",
      "2    Pepe   Azul        8\n",
      "3   Maria  Negro        9\n",
      "  Nombres  Color  Numeros\n",
      "0    Juan  Verde        5\n",
      "1    Rosa   Rojo        8\n",
      "2    Pepe   Azul        8\n",
      "  Nombres  Color  Numeros\n",
      "0    Juan  Verde        5\n",
      "1    Tini  Negro       20\n",
      "2    Pepe   Azul        8\n",
      "3   Maria  Negro        9\n"
     ]
    }
   ],
   "source": [
    "df1 = pd.DataFrame(data1)\n",
    "df2 = pd.DataFrame(data2)\n",
    "df3 = pd.DataFrame(data3)\n",
    "print(df1)\n",
    "print(df2)\n",
    "print(df3)"
   ]
  },
  {
   "cell_type": "code",
   "execution_count": 28,
   "metadata": {},
   "outputs": [
    {
     "data": {
      "text/html": [
       "<div>\n",
       "<style scoped>\n",
       "    .dataframe tbody tr th:only-of-type {\n",
       "        vertical-align: middle;\n",
       "    }\n",
       "\n",
       "    .dataframe tbody tr th {\n",
       "        vertical-align: top;\n",
       "    }\n",
       "\n",
       "    .dataframe thead th {\n",
       "        text-align: right;\n",
       "    }\n",
       "</style>\n",
       "<table border=\"1\" class=\"dataframe\">\n",
       "  <thead>\n",
       "    <tr style=\"text-align: right;\">\n",
       "      <th></th>\n",
       "      <th>Nombres</th>\n",
       "      <th>Color_x</th>\n",
       "      <th>Numeros_x</th>\n",
       "      <th>Color_y</th>\n",
       "      <th>Numeros_y</th>\n",
       "    </tr>\n",
       "  </thead>\n",
       "  <tbody>\n",
       "    <tr>\n",
       "      <th>0</th>\n",
       "      <td>Juan</td>\n",
       "      <td>Verde</td>\n",
       "      <td>5</td>\n",
       "      <td>Verde</td>\n",
       "      <td>5</td>\n",
       "    </tr>\n",
       "    <tr>\n",
       "      <th>1</th>\n",
       "      <td>Rosa</td>\n",
       "      <td>Rojo</td>\n",
       "      <td>8</td>\n",
       "      <td>Rojo</td>\n",
       "      <td>8</td>\n",
       "    </tr>\n",
       "    <tr>\n",
       "      <th>2</th>\n",
       "      <td>Pepe</td>\n",
       "      <td>Azul</td>\n",
       "      <td>8</td>\n",
       "      <td>Azul</td>\n",
       "      <td>8</td>\n",
       "    </tr>\n",
       "  </tbody>\n",
       "</table>\n",
       "</div>"
      ],
      "text/plain": [
       "  Nombres Color_x  Numeros_x Color_y  Numeros_y\n",
       "0    Juan   Verde          5   Verde          5\n",
       "1    Rosa    Rojo          8    Rojo          8\n",
       "2    Pepe    Azul          8    Azul          8"
      ]
     },
     "execution_count": 28,
     "metadata": {},
     "output_type": "execute_result"
    }
   ],
   "source": [
    "df1.merge(df2,on='Nombres')    #default = inner  "
   ]
  },
  {
   "cell_type": "code",
   "execution_count": 29,
   "metadata": {},
   "outputs": [
    {
     "data": {
      "text/html": [
       "<div>\n",
       "<style scoped>\n",
       "    .dataframe tbody tr th:only-of-type {\n",
       "        vertical-align: middle;\n",
       "    }\n",
       "\n",
       "    .dataframe tbody tr th {\n",
       "        vertical-align: top;\n",
       "    }\n",
       "\n",
       "    .dataframe thead th {\n",
       "        text-align: right;\n",
       "    }\n",
       "</style>\n",
       "<table border=\"1\" class=\"dataframe\">\n",
       "  <thead>\n",
       "    <tr style=\"text-align: right;\">\n",
       "      <th></th>\n",
       "      <th>Nombres</th>\n",
       "      <th>Color_x</th>\n",
       "      <th>Numeros_x</th>\n",
       "      <th>Color_y</th>\n",
       "      <th>Numeros_y</th>\n",
       "    </tr>\n",
       "  </thead>\n",
       "  <tbody>\n",
       "    <tr>\n",
       "      <th>0</th>\n",
       "      <td>Juan</td>\n",
       "      <td>Verde</td>\n",
       "      <td>5</td>\n",
       "      <td>Verde</td>\n",
       "      <td>5</td>\n",
       "    </tr>\n",
       "    <tr>\n",
       "      <th>1</th>\n",
       "      <td>Rosa</td>\n",
       "      <td>Rojo</td>\n",
       "      <td>8</td>\n",
       "      <td>Rojo</td>\n",
       "      <td>8</td>\n",
       "    </tr>\n",
       "    <tr>\n",
       "      <th>2</th>\n",
       "      <td>Pepe</td>\n",
       "      <td>Azul</td>\n",
       "      <td>8</td>\n",
       "      <td>Azul</td>\n",
       "      <td>8</td>\n",
       "    </tr>\n",
       "  </tbody>\n",
       "</table>\n",
       "</div>"
      ],
      "text/plain": [
       "  Nombres Color_x  Numeros_x Color_y  Numeros_y\n",
       "0    Juan   Verde          5   Verde          5\n",
       "1    Rosa    Rojo          8    Rojo          8\n",
       "2    Pepe    Azul          8    Azul          8"
      ]
     },
     "execution_count": 29,
     "metadata": {},
     "output_type": "execute_result"
    }
   ],
   "source": [
    "df1.merge(df2,on='Nombres',how='left')\n",
    "df1.merge(df2,on='Nombres',how='right')"
   ]
  },
  {
   "cell_type": "code",
   "execution_count": 30,
   "metadata": {},
   "outputs": [
    {
     "data": {
      "text/html": [
       "<div>\n",
       "<style scoped>\n",
       "    .dataframe tbody tr th:only-of-type {\n",
       "        vertical-align: middle;\n",
       "    }\n",
       "\n",
       "    .dataframe tbody tr th {\n",
       "        vertical-align: top;\n",
       "    }\n",
       "\n",
       "    .dataframe thead th {\n",
       "        text-align: right;\n",
       "    }\n",
       "</style>\n",
       "<table border=\"1\" class=\"dataframe\">\n",
       "  <thead>\n",
       "    <tr style=\"text-align: right;\">\n",
       "      <th></th>\n",
       "      <th>Nombres</th>\n",
       "      <th>Color_x</th>\n",
       "      <th>Numeros_x</th>\n",
       "      <th>Color_y</th>\n",
       "      <th>Numeros_y</th>\n",
       "    </tr>\n",
       "  </thead>\n",
       "  <tbody>\n",
       "    <tr>\n",
       "      <th>0</th>\n",
       "      <td>Juan</td>\n",
       "      <td>Verde</td>\n",
       "      <td>5</td>\n",
       "      <td>Verde</td>\n",
       "      <td>5</td>\n",
       "    </tr>\n",
       "    <tr>\n",
       "      <th>1</th>\n",
       "      <td>Pepe</td>\n",
       "      <td>Azul</td>\n",
       "      <td>8</td>\n",
       "      <td>Azul</td>\n",
       "      <td>8</td>\n",
       "    </tr>\n",
       "  </tbody>\n",
       "</table>\n",
       "</div>"
      ],
      "text/plain": [
       "  Nombres Color_x  Numeros_x Color_y  Numeros_y\n",
       "0    Juan   Verde          5   Verde          5\n",
       "1    Pepe    Azul          8    Azul          8"
      ]
     },
     "execution_count": 30,
     "metadata": {},
     "output_type": "execute_result"
    }
   ],
   "source": [
    "df2.merge(df3,on='Nombres',how='inner')"
   ]
  },
  {
   "cell_type": "code",
   "execution_count": 31,
   "metadata": {},
   "outputs": [
    {
     "data": {
      "text/html": [
       "<div>\n",
       "<style scoped>\n",
       "    .dataframe tbody tr th:only-of-type {\n",
       "        vertical-align: middle;\n",
       "    }\n",
       "\n",
       "    .dataframe tbody tr th {\n",
       "        vertical-align: top;\n",
       "    }\n",
       "\n",
       "    .dataframe thead th {\n",
       "        text-align: right;\n",
       "    }\n",
       "</style>\n",
       "<table border=\"1\" class=\"dataframe\">\n",
       "  <thead>\n",
       "    <tr style=\"text-align: right;\">\n",
       "      <th></th>\n",
       "      <th>Nombres</th>\n",
       "      <th>Color_x</th>\n",
       "      <th>Numeros_x</th>\n",
       "      <th>Color_y</th>\n",
       "      <th>Numeros_y</th>\n",
       "    </tr>\n",
       "  </thead>\n",
       "  <tbody>\n",
       "    <tr>\n",
       "      <th>0</th>\n",
       "      <td>Juan</td>\n",
       "      <td>Verde</td>\n",
       "      <td>5.0</td>\n",
       "      <td>Verde</td>\n",
       "      <td>5.0</td>\n",
       "    </tr>\n",
       "    <tr>\n",
       "      <th>1</th>\n",
       "      <td>Tini</td>\n",
       "      <td>Negro</td>\n",
       "      <td>20.0</td>\n",
       "      <td>NaN</td>\n",
       "      <td>NaN</td>\n",
       "    </tr>\n",
       "    <tr>\n",
       "      <th>2</th>\n",
       "      <td>Pepe</td>\n",
       "      <td>Azul</td>\n",
       "      <td>8.0</td>\n",
       "      <td>Azul</td>\n",
       "      <td>8.0</td>\n",
       "    </tr>\n",
       "    <tr>\n",
       "      <th>3</th>\n",
       "      <td>Maria</td>\n",
       "      <td>Negro</td>\n",
       "      <td>9.0</td>\n",
       "      <td>NaN</td>\n",
       "      <td>NaN</td>\n",
       "    </tr>\n",
       "    <tr>\n",
       "      <th>4</th>\n",
       "      <td>Rosa</td>\n",
       "      <td>NaN</td>\n",
       "      <td>NaN</td>\n",
       "      <td>Rojo</td>\n",
       "      <td>8.0</td>\n",
       "    </tr>\n",
       "  </tbody>\n",
       "</table>\n",
       "</div>"
      ],
      "text/plain": [
       "  Nombres Color_x  Numeros_x Color_y  Numeros_y\n",
       "0    Juan   Verde        5.0   Verde        5.0\n",
       "1    Tini   Negro       20.0     NaN        NaN\n",
       "2    Pepe    Azul        8.0    Azul        8.0\n",
       "3   Maria   Negro        9.0     NaN        NaN\n",
       "4    Rosa     NaN        NaN    Rojo        8.0"
      ]
     },
     "execution_count": 31,
     "metadata": {},
     "output_type": "execute_result"
    }
   ],
   "source": [
    "df3.merge(df2,on='Nombres',how='outer')"
   ]
  },
  {
   "cell_type": "code",
   "execution_count": 32,
   "metadata": {},
   "outputs": [
    {
     "data": {
      "text/html": [
       "<div>\n",
       "<style scoped>\n",
       "    .dataframe tbody tr th:only-of-type {\n",
       "        vertical-align: middle;\n",
       "    }\n",
       "\n",
       "    .dataframe tbody tr th {\n",
       "        vertical-align: top;\n",
       "    }\n",
       "\n",
       "    .dataframe thead th {\n",
       "        text-align: right;\n",
       "    }\n",
       "</style>\n",
       "<table border=\"1\" class=\"dataframe\">\n",
       "  <thead>\n",
       "    <tr style=\"text-align: right;\">\n",
       "      <th></th>\n",
       "      <th>Nombres</th>\n",
       "      <th>Color</th>\n",
       "      <th>Numeros_x</th>\n",
       "      <th>Numeros_y</th>\n",
       "    </tr>\n",
       "  </thead>\n",
       "  <tbody>\n",
       "    <tr>\n",
       "      <th>0</th>\n",
       "      <td>Juan</td>\n",
       "      <td>Verde</td>\n",
       "      <td>5</td>\n",
       "      <td>5.0</td>\n",
       "    </tr>\n",
       "    <tr>\n",
       "      <th>1</th>\n",
       "      <td>Rosa</td>\n",
       "      <td>Rojo</td>\n",
       "      <td>8</td>\n",
       "      <td>8.0</td>\n",
       "    </tr>\n",
       "    <tr>\n",
       "      <th>2</th>\n",
       "      <td>Pepe</td>\n",
       "      <td>Azul</td>\n",
       "      <td>8</td>\n",
       "      <td>8.0</td>\n",
       "    </tr>\n",
       "    <tr>\n",
       "      <th>3</th>\n",
       "      <td>Maria</td>\n",
       "      <td>Negro</td>\n",
       "      <td>9</td>\n",
       "      <td>NaN</td>\n",
       "    </tr>\n",
       "  </tbody>\n",
       "</table>\n",
       "</div>"
      ],
      "text/plain": [
       "  Nombres  Color  Numeros_x  Numeros_y\n",
       "0    Juan  Verde          5        5.0\n",
       "1    Rosa   Rojo          8        8.0\n",
       "2    Pepe   Azul          8        8.0\n",
       "3   Maria  Negro          9        NaN"
      ]
     },
     "execution_count": 32,
     "metadata": {},
     "output_type": "execute_result"
    }
   ],
   "source": [
    "df1.merge(df2,on=['Nombres','Color'],how='left')"
   ]
  },
  {
   "cell_type": "code",
   "execution_count": 33,
   "metadata": {},
   "outputs": [
    {
     "data": {
      "text/html": [
       "<div>\n",
       "<style scoped>\n",
       "    .dataframe tbody tr th:only-of-type {\n",
       "        vertical-align: middle;\n",
       "    }\n",
       "\n",
       "    .dataframe tbody tr th {\n",
       "        vertical-align: top;\n",
       "    }\n",
       "\n",
       "    .dataframe thead th {\n",
       "        text-align: right;\n",
       "    }\n",
       "</style>\n",
       "<table border=\"1\" class=\"dataframe\">\n",
       "  <thead>\n",
       "    <tr style=\"text-align: right;\">\n",
       "      <th></th>\n",
       "      <th>Nombres</th>\n",
       "      <th>Color_x</th>\n",
       "      <th>Numeros_x</th>\n",
       "      <th>Color_y</th>\n",
       "      <th>Numeros_y</th>\n",
       "    </tr>\n",
       "  </thead>\n",
       "  <tbody>\n",
       "    <tr>\n",
       "      <th>0</th>\n",
       "      <td>Juan</td>\n",
       "      <td>Verde</td>\n",
       "      <td>5.0</td>\n",
       "      <td>Verde</td>\n",
       "      <td>5.0</td>\n",
       "    </tr>\n",
       "    <tr>\n",
       "      <th>1</th>\n",
       "      <td>Tini</td>\n",
       "      <td>Negro</td>\n",
       "      <td>20.0</td>\n",
       "      <td>NaN</td>\n",
       "      <td>NaN</td>\n",
       "    </tr>\n",
       "    <tr>\n",
       "      <th>2</th>\n",
       "      <td>Pepe</td>\n",
       "      <td>Azul</td>\n",
       "      <td>8.0</td>\n",
       "      <td>Azul</td>\n",
       "      <td>8.0</td>\n",
       "    </tr>\n",
       "    <tr>\n",
       "      <th>3</th>\n",
       "      <td>Maria</td>\n",
       "      <td>Negro</td>\n",
       "      <td>9.0</td>\n",
       "      <td>NaN</td>\n",
       "      <td>NaN</td>\n",
       "    </tr>\n",
       "    <tr>\n",
       "      <th>4</th>\n",
       "      <td>Rosa</td>\n",
       "      <td>NaN</td>\n",
       "      <td>NaN</td>\n",
       "      <td>Rojo</td>\n",
       "      <td>8.0</td>\n",
       "    </tr>\n",
       "  </tbody>\n",
       "</table>\n",
       "</div>"
      ],
      "text/plain": [
       "  Nombres Color_x  Numeros_x Color_y  Numeros_y\n",
       "0    Juan   Verde        5.0   Verde        5.0\n",
       "1    Tini   Negro       20.0     NaN        NaN\n",
       "2    Pepe    Azul        8.0    Azul        8.0\n",
       "3   Maria   Negro        9.0     NaN        NaN\n",
       "4    Rosa     NaN        NaN    Rojo        8.0"
      ]
     },
     "execution_count": 33,
     "metadata": {},
     "output_type": "execute_result"
    }
   ],
   "source": [
    "#Otra forma de escribir la sentencia\n",
    "pd.merge(df3,df2,on='Nombres',how='outer')"
   ]
  },
  {
   "cell_type": "markdown",
   "metadata": {
    "colab_type": "text",
    "id": "mUzj3v21HP1K"
   },
   "source": [
    "## 🧷 Concatenar\n",
    "---"
   ]
  },
  {
   "cell_type": "code",
   "execution_count": 34,
   "metadata": {
    "colab": {},
    "colab_type": "code",
    "id": "hjJ2jUVtHP1L"
   },
   "outputs": [],
   "source": [
    "df1 = pd.DataFrame({'A': ['A0', 'A1', 'A2', 'A3'],\n",
    "                        'B': ['B0', 'B1', 'B2', 'B3'],\n",
    "                        'C': ['C0', 'C1', 'C2', 'C3'],\n",
    "                        'D': ['D0', 'D1', 'D2', 'D3']},\n",
    "                        index=[0, 1, 2, 3])\n",
    "\n",
    "df2 = pd.DataFrame({'A': ['A0', 'A1', 'A2', 'A3'],\n",
    "                        'B': ['B4', 'B5', 'B6', 'B7'],\n",
    "                        'C': ['C4', 'C5', 'C6', 'C7'],\n",
    "                        'D': ['D4', 'D5', 'D6', 'D7']},\n",
    "                         index=[4, 5, 6, 7]) "
   ]
  },
  {
   "cell_type": "code",
   "execution_count": 35,
   "metadata": {},
   "outputs": [
    {
     "data": {
      "text/html": [
       "<div>\n",
       "<style scoped>\n",
       "    .dataframe tbody tr th:only-of-type {\n",
       "        vertical-align: middle;\n",
       "    }\n",
       "\n",
       "    .dataframe tbody tr th {\n",
       "        vertical-align: top;\n",
       "    }\n",
       "\n",
       "    .dataframe thead th {\n",
       "        text-align: right;\n",
       "    }\n",
       "</style>\n",
       "<table border=\"1\" class=\"dataframe\">\n",
       "  <thead>\n",
       "    <tr style=\"text-align: right;\">\n",
       "      <th></th>\n",
       "      <th>A</th>\n",
       "      <th>B</th>\n",
       "      <th>C</th>\n",
       "      <th>D</th>\n",
       "    </tr>\n",
       "  </thead>\n",
       "  <tbody>\n",
       "    <tr>\n",
       "      <th>4</th>\n",
       "      <td>A0</td>\n",
       "      <td>B4</td>\n",
       "      <td>C4</td>\n",
       "      <td>D4</td>\n",
       "    </tr>\n",
       "    <tr>\n",
       "      <th>5</th>\n",
       "      <td>A1</td>\n",
       "      <td>B5</td>\n",
       "      <td>C5</td>\n",
       "      <td>D5</td>\n",
       "    </tr>\n",
       "    <tr>\n",
       "      <th>6</th>\n",
       "      <td>A2</td>\n",
       "      <td>B6</td>\n",
       "      <td>C6</td>\n",
       "      <td>D6</td>\n",
       "    </tr>\n",
       "    <tr>\n",
       "      <th>7</th>\n",
       "      <td>A3</td>\n",
       "      <td>B7</td>\n",
       "      <td>C7</td>\n",
       "      <td>D7</td>\n",
       "    </tr>\n",
       "  </tbody>\n",
       "</table>\n",
       "</div>"
      ],
      "text/plain": [
       "    A   B   C   D\n",
       "4  A0  B4  C4  D4\n",
       "5  A1  B5  C5  D5\n",
       "6  A2  B6  C6  D6\n",
       "7  A3  B7  C7  D7"
      ]
     },
     "execution_count": 35,
     "metadata": {},
     "output_type": "execute_result"
    }
   ],
   "source": [
    "df2"
   ]
  },
  {
   "cell_type": "code",
   "execution_count": 36,
   "metadata": {
    "colab": {},
    "colab_type": "code",
    "id": "WSE5DwbQHP1Q"
   },
   "outputs": [
    {
     "data": {
      "text/html": [
       "<div>\n",
       "<style scoped>\n",
       "    .dataframe tbody tr th:only-of-type {\n",
       "        vertical-align: middle;\n",
       "    }\n",
       "\n",
       "    .dataframe tbody tr th {\n",
       "        vertical-align: top;\n",
       "    }\n",
       "\n",
       "    .dataframe thead th {\n",
       "        text-align: right;\n",
       "    }\n",
       "</style>\n",
       "<table border=\"1\" class=\"dataframe\">\n",
       "  <thead>\n",
       "    <tr style=\"text-align: right;\">\n",
       "      <th></th>\n",
       "      <th>A</th>\n",
       "      <th>B</th>\n",
       "      <th>C</th>\n",
       "      <th>D</th>\n",
       "    </tr>\n",
       "  </thead>\n",
       "  <tbody>\n",
       "    <tr>\n",
       "      <th>0</th>\n",
       "      <td>A0</td>\n",
       "      <td>B0</td>\n",
       "      <td>C0</td>\n",
       "      <td>D0</td>\n",
       "    </tr>\n",
       "    <tr>\n",
       "      <th>1</th>\n",
       "      <td>A1</td>\n",
       "      <td>B1</td>\n",
       "      <td>C1</td>\n",
       "      <td>D1</td>\n",
       "    </tr>\n",
       "    <tr>\n",
       "      <th>2</th>\n",
       "      <td>A2</td>\n",
       "      <td>B2</td>\n",
       "      <td>C2</td>\n",
       "      <td>D2</td>\n",
       "    </tr>\n",
       "    <tr>\n",
       "      <th>3</th>\n",
       "      <td>A3</td>\n",
       "      <td>B3</td>\n",
       "      <td>C3</td>\n",
       "      <td>D3</td>\n",
       "    </tr>\n",
       "    <tr>\n",
       "      <th>4</th>\n",
       "      <td>A0</td>\n",
       "      <td>B4</td>\n",
       "      <td>C4</td>\n",
       "      <td>D4</td>\n",
       "    </tr>\n",
       "    <tr>\n",
       "      <th>5</th>\n",
       "      <td>A1</td>\n",
       "      <td>B5</td>\n",
       "      <td>C5</td>\n",
       "      <td>D5</td>\n",
       "    </tr>\n",
       "    <tr>\n",
       "      <th>6</th>\n",
       "      <td>A2</td>\n",
       "      <td>B6</td>\n",
       "      <td>C6</td>\n",
       "      <td>D6</td>\n",
       "    </tr>\n",
       "    <tr>\n",
       "      <th>7</th>\n",
       "      <td>A3</td>\n",
       "      <td>B7</td>\n",
       "      <td>C7</td>\n",
       "      <td>D7</td>\n",
       "    </tr>\n",
       "  </tbody>\n",
       "</table>\n",
       "</div>"
      ],
      "text/plain": [
       "    A   B   C   D\n",
       "0  A0  B0  C0  D0\n",
       "1  A1  B1  C1  D1\n",
       "2  A2  B2  C2  D2\n",
       "3  A3  B3  C3  D3\n",
       "4  A0  B4  C4  D4\n",
       "5  A1  B5  C5  D5\n",
       "6  A2  B6  C6  D6\n",
       "7  A3  B7  C7  D7"
      ]
     },
     "execution_count": 36,
     "metadata": {},
     "output_type": "execute_result"
    }
   ],
   "source": [
    "pd.concat([df1,df2]) # stockean como blockes de lego"
   ]
  },
  {
   "cell_type": "code",
   "execution_count": null,
   "metadata": {
    "colab": {},
    "colab_type": "code",
    "id": "8h6P-F0yHP1T"
   },
   "outputs": [],
   "source": [
    "pd.concat([df1,df2], axis=1) #Por Default axis=0, se acumulan a la derecha"
   ]
  },
  {
   "cell_type": "markdown",
   "metadata": {},
   "source": [
    "## 🎨Join \n",
    "---\n",
    "\n",
    "Con el joinning buscamos las mismas Keys en tablas diferentes para poder juntar esos datos."
   ]
  },
  {
   "cell_type": "code",
   "execution_count": null,
   "metadata": {},
   "outputs": [],
   "source": [
    "df10 = pd.DataFrame({'A': ['A0', 'A1', 'A2'],\n",
    "                     'B': ['B0', 'B1', 'B2']},\n",
    "                    index=['K0', 'K1', 'K2'])\n",
    "\n",
    "\n",
    "df11 = pd.DataFrame({'B': ['C0', 'C2', 'C3'],\n",
    "                      'D': ['D0', 'D2', 'D3']},\n",
    "                     index=['K0', 'K2', 'K3'])\n",
    "\n",
    "df10\n",
    "df11"
   ]
  },
  {
   "cell_type": "code",
   "execution_count": null,
   "metadata": {},
   "outputs": [],
   "source": [
    "df1.join(df2,\n",
    "          rsuffix='_1',\n",
    "          how='outer')"
   ]
  },
  {
   "cell_type": "markdown",
   "metadata": {},
   "source": [
    "### _**Aplicamos lo aprendido con las ultimas funciones**_"
   ]
  },
  {
   "cell_type": "code",
   "execution_count": null,
   "metadata": {},
   "outputs": [],
   "source": [
    "df_group=pd.concat([df1,df2,df3]).groupby(by=['Nombres','Color']).sum()\n",
    "df_group"
   ]
  },
  {
   "cell_type": "markdown",
   "metadata": {},
   "source": [
    "https://pandas.pydata.org/pandas-docs/stable/user_guide/merging.html"
   ]
  },
  {
   "cell_type": "markdown",
   "metadata": {
    "colab_type": "text",
    "id": "n7YwfNKTHP0k"
   },
   "source": [
    "##  💮  Operaciones \n",
    "---\n",
    "### Operaciones Básicas"
   ]
  },
  {
   "cell_type": "code",
   "execution_count": null,
   "metadata": {
    "colab": {},
    "colab_type": "code",
    "id": "W6ho9jt1HP0l",
    "outputId": "766a6533-8a6f-44ae-8a1d-9f9d9ec511ca"
   },
   "outputs": [],
   "source": [
    "df['cantidad_registrada'].sum()"
   ]
  },
  {
   "cell_type": "code",
   "execution_count": null,
   "metadata": {
    "colab": {},
    "colab_type": "code",
    "id": "byGS3E1gHP0r",
    "outputId": "877bfb69-40aa-4174-e5fb-af80dec3fc52"
   },
   "outputs": [],
   "source": [
    "df['franja_horaria'].mean()"
   ]
  },
  {
   "cell_type": "code",
   "execution_count": null,
   "metadata": {
    "colab": {},
    "colab_type": "code",
    "id": "IbqyIlOjHP0t",
    "outputId": "548a2c07-1fd7-4124-d2ae-931b3a4870ac"
   },
   "outputs": [],
   "source": [
    "df['cantidad_registrada'].std()"
   ]
  },
  {
   "cell_type": "code",
   "execution_count": null,
   "metadata": {},
   "outputs": [],
   "source": [
    "df.nunique().sort_values()"
   ]
  },
  {
   "cell_type": "code",
   "execution_count": null,
   "metadata": {
    "colab": {
     "base_uri": "https://localhost:8080/",
     "height": 35
    },
    "colab_type": "code",
    "executionInfo": {
     "elapsed": 675,
     "status": "ok",
     "timestamp": 1593557112988,
     "user": {
      "displayName": "Matias Sanchez Gavier",
      "photoUrl": "https://lh3.googleusercontent.com/a-/AOh14GjD7hZiO5eInT5MTbCuYg7k5GwpkxEcRQM1Y9NQ2g=s64",
      "userId": "12001148323871082461"
     },
     "user_tz": 180
    },
    "id": "QPTamh97Z8B4",
    "outputId": "3973711b-9576-4bf9-b2f6-164f679c7a0e"
   },
   "outputs": [],
   "source": [
    "df[\"barrio\"].unique()"
   ]
  },
  {
   "cell_type": "code",
   "execution_count": null,
   "metadata": {
    "colab": {},
    "colab_type": "code",
    "id": "KyPpE6Z4HP0_"
   },
   "outputs": [],
   "source": [
    "df[\"tipo_delito\"].apply(len)"
   ]
  },
  {
   "cell_type": "markdown",
   "metadata": {
    "colab_type": "text",
    "id": "K6wZ6uYxw0_e"
   },
   "source": [
    "###  🧱   Operaciones entre Columnas"
   ]
  },
  {
   "cell_type": "code",
   "execution_count": null,
   "metadata": {
    "colab": {},
    "colab_type": "code",
    "id": "lDPQEBGmw0_e",
    "outputId": "b663db76-82c1-4a12-cdf6-8052d24cac0e"
   },
   "outputs": [],
   "source": [
    "df[\"columna_x\"] = df[\"comuna\"]*(1/3) + df[\"franja_horaria\"]*(2/3)\n",
    "df[\"columna_x\"] = round(df[\"columna_x\"])\n",
    "df.head()"
   ]
  },
  {
   "cell_type": "code",
   "execution_count": 37,
   "metadata": {},
   "outputs": [
    {
     "data": {
      "text/html": [
       "<div>\n",
       "<style scoped>\n",
       "    .dataframe tbody tr th:only-of-type {\n",
       "        vertical-align: middle;\n",
       "    }\n",
       "\n",
       "    .dataframe tbody tr th {\n",
       "        vertical-align: top;\n",
       "    }\n",
       "\n",
       "    .dataframe thead th {\n",
       "        text-align: right;\n",
       "    }\n",
       "</style>\n",
       "<table border=\"1\" class=\"dataframe\">\n",
       "  <thead>\n",
       "    <tr style=\"text-align: right;\">\n",
       "      <th></th>\n",
       "      <th>id</th>\n",
       "      <th>fecha</th>\n",
       "      <th>franja_horaria</th>\n",
       "      <th>tipo_delito</th>\n",
       "      <th>subtipo_delito</th>\n",
       "      <th>cantidad_registrada</th>\n",
       "      <th>comuna</th>\n",
       "      <th>barrio</th>\n",
       "      <th>lat</th>\n",
       "      <th>long</th>\n",
       "    </tr>\n",
       "  </thead>\n",
       "  <tbody>\n",
       "    <tr>\n",
       "      <th>0</th>\n",
       "      <td>374556</td>\n",
       "      <td>2019-01-01</td>\n",
       "      <td>12</td>\n",
       "      <td>Lesiones</td>\n",
       "      <td>Siniestro Vial</td>\n",
       "      <td>1.0</td>\n",
       "      <td>4.0</td>\n",
       "      <td>Nueva Pompeya</td>\n",
       "      <td>-34.648387</td>\n",
       "      <td>-58.404748</td>\n",
       "    </tr>\n",
       "    <tr>\n",
       "      <th>1</th>\n",
       "      <td>426152</td>\n",
       "      <td>2019-01-01</td>\n",
       "      <td>6</td>\n",
       "      <td>Robo (con violencia)</td>\n",
       "      <td>NaN</td>\n",
       "      <td>1.0</td>\n",
       "      <td>9.0</td>\n",
       "      <td>Liniers</td>\n",
       "      <td>-34.649827</td>\n",
       "      <td>-58.513859</td>\n",
       "    </tr>\n",
       "    <tr>\n",
       "      <th>2</th>\n",
       "      <td>371604</td>\n",
       "      <td>2019-01-01</td>\n",
       "      <td>8</td>\n",
       "      <td>Lesiones</td>\n",
       "      <td>Siniestro Vial</td>\n",
       "      <td>1.0</td>\n",
       "      <td>15.0</td>\n",
       "      <td>Chacarita</td>\n",
       "      <td>-34.588108</td>\n",
       "      <td>-58.439392</td>\n",
       "    </tr>\n",
       "    <tr>\n",
       "      <th>3</th>\n",
       "      <td>425359</td>\n",
       "      <td>2019-01-01</td>\n",
       "      <td>16</td>\n",
       "      <td>Hurto (sin violencia)</td>\n",
       "      <td>Hurto Automotor</td>\n",
       "      <td>1.0</td>\n",
       "      <td>10.0</td>\n",
       "      <td>Floresta</td>\n",
       "      <td>-34.631877</td>\n",
       "      <td>-58.483975</td>\n",
       "    </tr>\n",
       "    <tr>\n",
       "      <th>4</th>\n",
       "      <td>437571</td>\n",
       "      <td>2019-01-01</td>\n",
       "      <td>2</td>\n",
       "      <td>Robo (con violencia)</td>\n",
       "      <td>Robo Automotor</td>\n",
       "      <td>1.0</td>\n",
       "      <td>4.0</td>\n",
       "      <td>Parque Patricios</td>\n",
       "      <td>-34.633161</td>\n",
       "      <td>-58.397123</td>\n",
       "    </tr>\n",
       "    <tr>\n",
       "      <th>...</th>\n",
       "      <td>...</td>\n",
       "      <td>...</td>\n",
       "      <td>...</td>\n",
       "      <td>...</td>\n",
       "      <td>...</td>\n",
       "      <td>...</td>\n",
       "      <td>...</td>\n",
       "      <td>...</td>\n",
       "      <td>...</td>\n",
       "      <td>...</td>\n",
       "    </tr>\n",
       "    <tr>\n",
       "      <th>117656</th>\n",
       "      <td>486770</td>\n",
       "      <td>2019-12-31</td>\n",
       "      <td>18</td>\n",
       "      <td>Robo (con violencia)</td>\n",
       "      <td>Robo Automotor</td>\n",
       "      <td>1.0</td>\n",
       "      <td>8.0</td>\n",
       "      <td>Villa Riachuelo</td>\n",
       "      <td>-34.692347</td>\n",
       "      <td>-58.472299</td>\n",
       "    </tr>\n",
       "    <tr>\n",
       "      <th>117657</th>\n",
       "      <td>486678</td>\n",
       "      <td>2019-12-31</td>\n",
       "      <td>4</td>\n",
       "      <td>Robo (con violencia)</td>\n",
       "      <td>Robo Automotor</td>\n",
       "      <td>1.0</td>\n",
       "      <td>5.0</td>\n",
       "      <td>Boedo</td>\n",
       "      <td>-34.626424</td>\n",
       "      <td>-58.422846</td>\n",
       "    </tr>\n",
       "    <tr>\n",
       "      <th>117658</th>\n",
       "      <td>486668</td>\n",
       "      <td>2019-12-31</td>\n",
       "      <td>1</td>\n",
       "      <td>Robo (con violencia)</td>\n",
       "      <td>Robo Automotor</td>\n",
       "      <td>1.0</td>\n",
       "      <td>1.0</td>\n",
       "      <td>Monserrat</td>\n",
       "      <td>-34.615892</td>\n",
       "      <td>-58.370573</td>\n",
       "    </tr>\n",
       "    <tr>\n",
       "      <th>117659</th>\n",
       "      <td>486750</td>\n",
       "      <td>2019-12-31</td>\n",
       "      <td>14</td>\n",
       "      <td>Robo (con violencia)</td>\n",
       "      <td>Robo Automotor</td>\n",
       "      <td>1.0</td>\n",
       "      <td>15.0</td>\n",
       "      <td>Villa Crespo</td>\n",
       "      <td>-34.602577</td>\n",
       "      <td>-58.433145</td>\n",
       "    </tr>\n",
       "    <tr>\n",
       "      <th>117660</th>\n",
       "      <td>486683</td>\n",
       "      <td>2019-12-31</td>\n",
       "      <td>7</td>\n",
       "      <td>Robo (con violencia)</td>\n",
       "      <td>Robo Automotor</td>\n",
       "      <td>1.0</td>\n",
       "      <td>8.0</td>\n",
       "      <td>Villa Lugano</td>\n",
       "      <td>-34.674789</td>\n",
       "      <td>-58.466394</td>\n",
       "    </tr>\n",
       "  </tbody>\n",
       "</table>\n",
       "<p>117661 rows × 10 columns</p>\n",
       "</div>"
      ],
      "text/plain": [
       "            id       fecha franja_horaria            tipo_delito  \\\n",
       "0       374556  2019-01-01             12               Lesiones   \n",
       "1       426152  2019-01-01              6   Robo (con violencia)   \n",
       "2       371604  2019-01-01              8               Lesiones   \n",
       "3       425359  2019-01-01             16  Hurto (sin violencia)   \n",
       "4       437571  2019-01-01              2   Robo (con violencia)   \n",
       "...        ...         ...            ...                    ...   \n",
       "117656  486770  2019-12-31             18   Robo (con violencia)   \n",
       "117657  486678  2019-12-31              4   Robo (con violencia)   \n",
       "117658  486668  2019-12-31              1   Robo (con violencia)   \n",
       "117659  486750  2019-12-31             14   Robo (con violencia)   \n",
       "117660  486683  2019-12-31              7   Robo (con violencia)   \n",
       "\n",
       "         subtipo_delito  cantidad_registrada  comuna            barrio  \\\n",
       "0        Siniestro Vial                  1.0     4.0     Nueva Pompeya   \n",
       "1                   NaN                  1.0     9.0           Liniers   \n",
       "2        Siniestro Vial                  1.0    15.0         Chacarita   \n",
       "3       Hurto Automotor                  1.0    10.0          Floresta   \n",
       "4        Robo Automotor                  1.0     4.0  Parque Patricios   \n",
       "...                 ...                  ...     ...               ...   \n",
       "117656   Robo Automotor                  1.0     8.0   Villa Riachuelo   \n",
       "117657   Robo Automotor                  1.0     5.0             Boedo   \n",
       "117658   Robo Automotor                  1.0     1.0         Monserrat   \n",
       "117659   Robo Automotor                  1.0    15.0      Villa Crespo   \n",
       "117660   Robo Automotor                  1.0     8.0      Villa Lugano   \n",
       "\n",
       "              lat       long  \n",
       "0      -34.648387 -58.404748  \n",
       "1      -34.649827 -58.513859  \n",
       "2      -34.588108 -58.439392  \n",
       "3      -34.631877 -58.483975  \n",
       "4      -34.633161 -58.397123  \n",
       "...           ...        ...  \n",
       "117656 -34.692347 -58.472299  \n",
       "117657 -34.626424 -58.422846  \n",
       "117658 -34.615892 -58.370573  \n",
       "117659 -34.602577 -58.433145  \n",
       "117660 -34.674789 -58.466394  \n",
       "\n",
       "[117661 rows x 10 columns]"
      ]
     },
     "execution_count": 37,
     "metadata": {},
     "output_type": "execute_result"
    }
   ],
   "source": [
    "df"
   ]
  },
  {
   "cell_type": "code",
   "execution_count": 44,
   "metadata": {},
   "outputs": [],
   "source": [
    "df[\"nueva_columna\"] = df[\"tipo_delito\"] + \"_\" + df[\"subtipo_delito\"]  "
   ]
  },
  {
   "cell_type": "code",
   "execution_count": 45,
   "metadata": {},
   "outputs": [
    {
     "data": {
      "text/plain": [
       "0                       Lesiones_Siniestro Vial\n",
       "1                                           NaN\n",
       "2                       Lesiones_Siniestro Vial\n",
       "3         Hurto (sin violencia)_Hurto Automotor\n",
       "4           Robo (con violencia)_Robo Automotor\n",
       "                          ...                  \n",
       "117656      Robo (con violencia)_Robo Automotor\n",
       "117657      Robo (con violencia)_Robo Automotor\n",
       "117658      Robo (con violencia)_Robo Automotor\n",
       "117659      Robo (con violencia)_Robo Automotor\n",
       "117660      Robo (con violencia)_Robo Automotor\n",
       "Name: nueva_columna, Length: 117661, dtype: object"
      ]
     },
     "execution_count": 45,
     "metadata": {},
     "output_type": "execute_result"
    }
   ],
   "source": [
    "df[\"nueva_columna\"]"
   ]
  },
  {
   "cell_type": "code",
   "execution_count": null,
   "metadata": {
    "colab": {},
    "colab_type": "code",
    "id": "GcXFXBAYJYXf",
    "outputId": "bc5fd6aa-db7e-46f3-df7b-327c6e8e6ee1"
   },
   "outputs": [],
   "source": [
    "# valor Z !\n",
    "df[\"columna_z\"] =  (df[\"columna_x\"] - df[\"columna_x\"].mean()) / df[\"columna_x\"].std()\n",
    "df.head()"
   ]
  },
  {
   "cell_type": "markdown",
   "metadata": {
    "colab_type": "text",
    "id": "KsAezLQvHP0v"
   },
   "source": [
    "### 🔦 Info en valores únicos "
   ]
  },
  {
   "cell_type": "code",
   "execution_count": null,
   "metadata": {
    "colab": {},
    "colab_type": "code",
    "id": "4fR9sv-nHP0w",
    "outputId": "50df27eb-de4d-45c7-97e1-56ddec134e2b"
   },
   "outputs": [],
   "source": [
    "#Valores únicos\n",
    "df[\"comuna\"].unique()\n",
    "\n",
    "#Cantidad de Valores únicos\n",
    "df['comuna'].nunique()\n",
    "\n",
    "#Frecuencia Absoluta \n",
    "df['comuna'].value_counts()"
   ]
  },
  {
   "cell_type": "markdown",
   "metadata": {
    "colab_type": "text",
    "id": "HPDO-oJYZ3GQ"
   },
   "source": [
    "###  Columnas  Condicionales \n",
    "---\n",
    "\n",
    "Este paso es muy común y es muy usado para realizar **feature engineering**, crear nuevas variables a partir de ya existentes. \n"
   ]
  },
  {
   "cell_type": "markdown",
   "metadata": {
    "colab_type": "text",
    "id": "BCvEOPanZ9wR"
   },
   "source": [
    "Queremos crear una nueva columna donde indiquemos que tan cool es el pokemon basado en la generación.  Entonces usamos esta regla:\n",
    "\n",
    "- Entre 1 y 3 son  Loosers\n",
    "- Entre 4 y 5 son casi Cool\n",
    "- 6 son Instagramers \n",
    "\n",
    "para esto vamos a usar la **selección condicional** que vimos hace un rato.\n",
    "\n"
   ]
  },
  {
   "cell_type": "code",
   "execution_count": 48,
   "metadata": {},
   "outputs": [
    {
     "data": {
      "text/html": [
       "<div>\n",
       "<style scoped>\n",
       "    .dataframe tbody tr th:only-of-type {\n",
       "        vertical-align: middle;\n",
       "    }\n",
       "\n",
       "    .dataframe tbody tr th {\n",
       "        vertical-align: top;\n",
       "    }\n",
       "\n",
       "    .dataframe thead th {\n",
       "        text-align: right;\n",
       "    }\n",
       "</style>\n",
       "<table border=\"1\" class=\"dataframe\">\n",
       "  <thead>\n",
       "    <tr style=\"text-align: right;\">\n",
       "      <th></th>\n",
       "      <th>id</th>\n",
       "      <th>fecha</th>\n",
       "      <th>franja_horaria</th>\n",
       "      <th>tipo_delito</th>\n",
       "      <th>subtipo_delito</th>\n",
       "      <th>cantidad_registrada</th>\n",
       "      <th>comuna</th>\n",
       "      <th>barrio</th>\n",
       "      <th>lat</th>\n",
       "      <th>long</th>\n",
       "      <th>nueva columna</th>\n",
       "      <th>nueva_columna</th>\n",
       "      <th>comuna2</th>\n",
       "    </tr>\n",
       "  </thead>\n",
       "  <tbody>\n",
       "    <tr>\n",
       "      <th>0</th>\n",
       "      <td>374556</td>\n",
       "      <td>2019-01-01</td>\n",
       "      <td>12</td>\n",
       "      <td>Lesiones</td>\n",
       "      <td>Siniestro Vial</td>\n",
       "      <td>1.0</td>\n",
       "      <td>4.0</td>\n",
       "      <td>Nueva Pompeya</td>\n",
       "      <td>-34.648387</td>\n",
       "      <td>-58.404748</td>\n",
       "      <td>LesionesSiniestro Vial</td>\n",
       "      <td>Lesiones_Siniestro Vial</td>\n",
       "      <td>8.0</td>\n",
       "    </tr>\n",
       "    <tr>\n",
       "      <th>1</th>\n",
       "      <td>426152</td>\n",
       "      <td>2019-01-01</td>\n",
       "      <td>6</td>\n",
       "      <td>Robo (con violencia)</td>\n",
       "      <td>NaN</td>\n",
       "      <td>1.0</td>\n",
       "      <td>9.0</td>\n",
       "      <td>Liniers</td>\n",
       "      <td>-34.649827</td>\n",
       "      <td>-58.513859</td>\n",
       "      <td>NaN</td>\n",
       "      <td>NaN</td>\n",
       "      <td>18.0</td>\n",
       "    </tr>\n",
       "    <tr>\n",
       "      <th>2</th>\n",
       "      <td>371604</td>\n",
       "      <td>2019-01-01</td>\n",
       "      <td>8</td>\n",
       "      <td>Lesiones</td>\n",
       "      <td>Siniestro Vial</td>\n",
       "      <td>1.0</td>\n",
       "      <td>15.0</td>\n",
       "      <td>Chacarita</td>\n",
       "      <td>-34.588108</td>\n",
       "      <td>-58.439392</td>\n",
       "      <td>LesionesSiniestro Vial</td>\n",
       "      <td>Lesiones_Siniestro Vial</td>\n",
       "      <td>30.0</td>\n",
       "    </tr>\n",
       "    <tr>\n",
       "      <th>3</th>\n",
       "      <td>425359</td>\n",
       "      <td>2019-01-01</td>\n",
       "      <td>16</td>\n",
       "      <td>Hurto (sin violencia)</td>\n",
       "      <td>Hurto Automotor</td>\n",
       "      <td>1.0</td>\n",
       "      <td>10.0</td>\n",
       "      <td>Floresta</td>\n",
       "      <td>-34.631877</td>\n",
       "      <td>-58.483975</td>\n",
       "      <td>Hurto (sin violencia)Hurto Automotor</td>\n",
       "      <td>Hurto (sin violencia)_Hurto Automotor</td>\n",
       "      <td>20.0</td>\n",
       "    </tr>\n",
       "    <tr>\n",
       "      <th>4</th>\n",
       "      <td>437571</td>\n",
       "      <td>2019-01-01</td>\n",
       "      <td>2</td>\n",
       "      <td>Robo (con violencia)</td>\n",
       "      <td>Robo Automotor</td>\n",
       "      <td>1.0</td>\n",
       "      <td>4.0</td>\n",
       "      <td>Parque Patricios</td>\n",
       "      <td>-34.633161</td>\n",
       "      <td>-58.397123</td>\n",
       "      <td>Robo (con violencia)Robo Automotor</td>\n",
       "      <td>Robo (con violencia)_Robo Automotor</td>\n",
       "      <td>8.0</td>\n",
       "    </tr>\n",
       "    <tr>\n",
       "      <th>...</th>\n",
       "      <td>...</td>\n",
       "      <td>...</td>\n",
       "      <td>...</td>\n",
       "      <td>...</td>\n",
       "      <td>...</td>\n",
       "      <td>...</td>\n",
       "      <td>...</td>\n",
       "      <td>...</td>\n",
       "      <td>...</td>\n",
       "      <td>...</td>\n",
       "      <td>...</td>\n",
       "      <td>...</td>\n",
       "      <td>...</td>\n",
       "    </tr>\n",
       "    <tr>\n",
       "      <th>117656</th>\n",
       "      <td>486770</td>\n",
       "      <td>2019-12-31</td>\n",
       "      <td>18</td>\n",
       "      <td>Robo (con violencia)</td>\n",
       "      <td>Robo Automotor</td>\n",
       "      <td>1.0</td>\n",
       "      <td>8.0</td>\n",
       "      <td>Villa Riachuelo</td>\n",
       "      <td>-34.692347</td>\n",
       "      <td>-58.472299</td>\n",
       "      <td>Robo (con violencia)Robo Automotor</td>\n",
       "      <td>Robo (con violencia)_Robo Automotor</td>\n",
       "      <td>16.0</td>\n",
       "    </tr>\n",
       "    <tr>\n",
       "      <th>117657</th>\n",
       "      <td>486678</td>\n",
       "      <td>2019-12-31</td>\n",
       "      <td>4</td>\n",
       "      <td>Robo (con violencia)</td>\n",
       "      <td>Robo Automotor</td>\n",
       "      <td>1.0</td>\n",
       "      <td>5.0</td>\n",
       "      <td>Boedo</td>\n",
       "      <td>-34.626424</td>\n",
       "      <td>-58.422846</td>\n",
       "      <td>Robo (con violencia)Robo Automotor</td>\n",
       "      <td>Robo (con violencia)_Robo Automotor</td>\n",
       "      <td>10.0</td>\n",
       "    </tr>\n",
       "    <tr>\n",
       "      <th>117658</th>\n",
       "      <td>486668</td>\n",
       "      <td>2019-12-31</td>\n",
       "      <td>1</td>\n",
       "      <td>Robo (con violencia)</td>\n",
       "      <td>Robo Automotor</td>\n",
       "      <td>1.0</td>\n",
       "      <td>1.0</td>\n",
       "      <td>Monserrat</td>\n",
       "      <td>-34.615892</td>\n",
       "      <td>-58.370573</td>\n",
       "      <td>Robo (con violencia)Robo Automotor</td>\n",
       "      <td>Robo (con violencia)_Robo Automotor</td>\n",
       "      <td>2.0</td>\n",
       "    </tr>\n",
       "    <tr>\n",
       "      <th>117659</th>\n",
       "      <td>486750</td>\n",
       "      <td>2019-12-31</td>\n",
       "      <td>14</td>\n",
       "      <td>Robo (con violencia)</td>\n",
       "      <td>Robo Automotor</td>\n",
       "      <td>1.0</td>\n",
       "      <td>15.0</td>\n",
       "      <td>Villa Crespo</td>\n",
       "      <td>-34.602577</td>\n",
       "      <td>-58.433145</td>\n",
       "      <td>Robo (con violencia)Robo Automotor</td>\n",
       "      <td>Robo (con violencia)_Robo Automotor</td>\n",
       "      <td>30.0</td>\n",
       "    </tr>\n",
       "    <tr>\n",
       "      <th>117660</th>\n",
       "      <td>486683</td>\n",
       "      <td>2019-12-31</td>\n",
       "      <td>7</td>\n",
       "      <td>Robo (con violencia)</td>\n",
       "      <td>Robo Automotor</td>\n",
       "      <td>1.0</td>\n",
       "      <td>8.0</td>\n",
       "      <td>Villa Lugano</td>\n",
       "      <td>-34.674789</td>\n",
       "      <td>-58.466394</td>\n",
       "      <td>Robo (con violencia)Robo Automotor</td>\n",
       "      <td>Robo (con violencia)_Robo Automotor</td>\n",
       "      <td>16.0</td>\n",
       "    </tr>\n",
       "  </tbody>\n",
       "</table>\n",
       "<p>117661 rows × 13 columns</p>\n",
       "</div>"
      ],
      "text/plain": [
       "            id       fecha franja_horaria            tipo_delito  \\\n",
       "0       374556  2019-01-01             12               Lesiones   \n",
       "1       426152  2019-01-01              6   Robo (con violencia)   \n",
       "2       371604  2019-01-01              8               Lesiones   \n",
       "3       425359  2019-01-01             16  Hurto (sin violencia)   \n",
       "4       437571  2019-01-01              2   Robo (con violencia)   \n",
       "...        ...         ...            ...                    ...   \n",
       "117656  486770  2019-12-31             18   Robo (con violencia)   \n",
       "117657  486678  2019-12-31              4   Robo (con violencia)   \n",
       "117658  486668  2019-12-31              1   Robo (con violencia)   \n",
       "117659  486750  2019-12-31             14   Robo (con violencia)   \n",
       "117660  486683  2019-12-31              7   Robo (con violencia)   \n",
       "\n",
       "         subtipo_delito  cantidad_registrada  comuna            barrio  \\\n",
       "0        Siniestro Vial                  1.0     4.0     Nueva Pompeya   \n",
       "1                   NaN                  1.0     9.0           Liniers   \n",
       "2        Siniestro Vial                  1.0    15.0         Chacarita   \n",
       "3       Hurto Automotor                  1.0    10.0          Floresta   \n",
       "4        Robo Automotor                  1.0     4.0  Parque Patricios   \n",
       "...                 ...                  ...     ...               ...   \n",
       "117656   Robo Automotor                  1.0     8.0   Villa Riachuelo   \n",
       "117657   Robo Automotor                  1.0     5.0             Boedo   \n",
       "117658   Robo Automotor                  1.0     1.0         Monserrat   \n",
       "117659   Robo Automotor                  1.0    15.0      Villa Crespo   \n",
       "117660   Robo Automotor                  1.0     8.0      Villa Lugano   \n",
       "\n",
       "              lat       long                         nueva columna  \\\n",
       "0      -34.648387 -58.404748                LesionesSiniestro Vial   \n",
       "1      -34.649827 -58.513859                                   NaN   \n",
       "2      -34.588108 -58.439392                LesionesSiniestro Vial   \n",
       "3      -34.631877 -58.483975  Hurto (sin violencia)Hurto Automotor   \n",
       "4      -34.633161 -58.397123    Robo (con violencia)Robo Automotor   \n",
       "...           ...        ...                                   ...   \n",
       "117656 -34.692347 -58.472299    Robo (con violencia)Robo Automotor   \n",
       "117657 -34.626424 -58.422846    Robo (con violencia)Robo Automotor   \n",
       "117658 -34.615892 -58.370573    Robo (con violencia)Robo Automotor   \n",
       "117659 -34.602577 -58.433145    Robo (con violencia)Robo Automotor   \n",
       "117660 -34.674789 -58.466394    Robo (con violencia)Robo Automotor   \n",
       "\n",
       "                                nueva_columna  comuna2  \n",
       "0                     Lesiones_Siniestro Vial      8.0  \n",
       "1                                         NaN     18.0  \n",
       "2                     Lesiones_Siniestro Vial     30.0  \n",
       "3       Hurto (sin violencia)_Hurto Automotor     20.0  \n",
       "4         Robo (con violencia)_Robo Automotor      8.0  \n",
       "...                                       ...      ...  \n",
       "117656    Robo (con violencia)_Robo Automotor     16.0  \n",
       "117657    Robo (con violencia)_Robo Automotor     10.0  \n",
       "117658    Robo (con violencia)_Robo Automotor      2.0  \n",
       "117659    Robo (con violencia)_Robo Automotor     30.0  \n",
       "117660    Robo (con violencia)_Robo Automotor     16.0  \n",
       "\n",
       "[117661 rows x 13 columns]"
      ]
     },
     "execution_count": 48,
     "metadata": {},
     "output_type": "execute_result"
    }
   ],
   "source": [
    "df.pivot_table()"
   ]
  },
  {
   "cell_type": "code",
   "execution_count": null,
   "metadata": {
    "colab": {
     "base_uri": "https://localhost:8080/",
     "height": 198
    },
    "colab_type": "code",
    "executionInfo": {
     "elapsed": 648,
     "status": "ok",
     "timestamp": 1593558055579,
     "user": {
      "displayName": "Matias Sanchez Gavier",
      "photoUrl": "https://lh3.googleusercontent.com/a-/AOh14GjD7hZiO5eInT5MTbCuYg7k5GwpkxEcRQM1Y9NQ2g=s64",
      "userId": "12001148323871082461"
     },
     "user_tz": 180
    },
    "id": "QmGYBdWhaXe8",
    "outputId": "f6d841e0-2bf5-413b-8339-8ca834ec4b4f"
   },
   "outputs": [],
   "source": [
    "df.loc[df['comuna'] <= 4 , 'barrio_clase'] = \"este\"\n",
    "\n",
    "df.loc[(4 < df['comuna']) & (df['comuna'] <=8) , 'barrio_clase'] = \"oeste\"\n",
    "\n",
    "df.loc[df['comuna']>8 , 'barrio_clase'] = \"centro\"\n",
    "\n",
    "df.head()"
   ]
  },
  {
   "cell_type": "code",
   "execution_count": null,
   "metadata": {
    "colab": {
     "base_uri": "https://localhost:8080/",
     "height": 126
    },
    "colab_type": "code",
    "executionInfo": {
     "elapsed": 626,
     "status": "ok",
     "timestamp": 1593558118571,
     "user": {
      "displayName": "Matias Sanchez Gavier",
      "photoUrl": "https://lh3.googleusercontent.com/a-/AOh14GjD7hZiO5eInT5MTbCuYg7k5GwpkxEcRQM1Y9NQ2g=s64",
      "userId": "12001148323871082461"
     },
     "user_tz": 180
    },
    "id": "bnAbAsbkdl37",
    "outputId": "9e7aa029-3393-447e-fc2a-fe38148ba41a"
   },
   "outputs": [],
   "source": [
    "print(df[\"barrio_clase\"].unique())\n",
    "df[\"barrio_clase\"].value_counts()"
   ]
  },
  {
   "cell_type": "markdown",
   "metadata": {
    "colab_type": "text",
    "id": "Hxoo18fIHP07"
   },
   "source": [
    "###  🛠️  Funciones aplicadas a las columnas\n",
    "\n",
    "Vamos a usar el método **apply()**, el cual toma como input una función. La idea es que se va a ejecutar a cada elemento. "
   ]
  },
  {
   "cell_type": "code",
   "execution_count": 46,
   "metadata": {
    "colab": {},
    "colab_type": "code",
    "id": "hmXURGzOHP07"
   },
   "outputs": [],
   "source": [
    "def times2(x):\n",
    "    return x*2"
   ]
  },
  {
   "cell_type": "code",
   "execution_count": 47,
   "metadata": {
    "colab": {},
    "colab_type": "code",
    "id": "CR3AZrT5HP09"
   },
   "outputs": [
    {
     "data": {
      "text/html": [
       "<div>\n",
       "<style scoped>\n",
       "    .dataframe tbody tr th:only-of-type {\n",
       "        vertical-align: middle;\n",
       "    }\n",
       "\n",
       "    .dataframe tbody tr th {\n",
       "        vertical-align: top;\n",
       "    }\n",
       "\n",
       "    .dataframe thead th {\n",
       "        text-align: right;\n",
       "    }\n",
       "</style>\n",
       "<table border=\"1\" class=\"dataframe\">\n",
       "  <thead>\n",
       "    <tr style=\"text-align: right;\">\n",
       "      <th></th>\n",
       "      <th>id</th>\n",
       "      <th>fecha</th>\n",
       "      <th>franja_horaria</th>\n",
       "      <th>tipo_delito</th>\n",
       "      <th>subtipo_delito</th>\n",
       "      <th>cantidad_registrada</th>\n",
       "      <th>comuna</th>\n",
       "      <th>barrio</th>\n",
       "      <th>lat</th>\n",
       "      <th>long</th>\n",
       "      <th>nueva columna</th>\n",
       "      <th>nueva_columna</th>\n",
       "      <th>comuna2</th>\n",
       "    </tr>\n",
       "  </thead>\n",
       "  <tbody>\n",
       "    <tr>\n",
       "      <th>0</th>\n",
       "      <td>374556</td>\n",
       "      <td>2019-01-01</td>\n",
       "      <td>12</td>\n",
       "      <td>Lesiones</td>\n",
       "      <td>Siniestro Vial</td>\n",
       "      <td>1.0</td>\n",
       "      <td>4.0</td>\n",
       "      <td>Nueva Pompeya</td>\n",
       "      <td>-34.648387</td>\n",
       "      <td>-58.404748</td>\n",
       "      <td>LesionesSiniestro Vial</td>\n",
       "      <td>Lesiones_Siniestro Vial</td>\n",
       "      <td>8.0</td>\n",
       "    </tr>\n",
       "    <tr>\n",
       "      <th>1</th>\n",
       "      <td>426152</td>\n",
       "      <td>2019-01-01</td>\n",
       "      <td>6</td>\n",
       "      <td>Robo (con violencia)</td>\n",
       "      <td>NaN</td>\n",
       "      <td>1.0</td>\n",
       "      <td>9.0</td>\n",
       "      <td>Liniers</td>\n",
       "      <td>-34.649827</td>\n",
       "      <td>-58.513859</td>\n",
       "      <td>NaN</td>\n",
       "      <td>NaN</td>\n",
       "      <td>18.0</td>\n",
       "    </tr>\n",
       "    <tr>\n",
       "      <th>2</th>\n",
       "      <td>371604</td>\n",
       "      <td>2019-01-01</td>\n",
       "      <td>8</td>\n",
       "      <td>Lesiones</td>\n",
       "      <td>Siniestro Vial</td>\n",
       "      <td>1.0</td>\n",
       "      <td>15.0</td>\n",
       "      <td>Chacarita</td>\n",
       "      <td>-34.588108</td>\n",
       "      <td>-58.439392</td>\n",
       "      <td>LesionesSiniestro Vial</td>\n",
       "      <td>Lesiones_Siniestro Vial</td>\n",
       "      <td>30.0</td>\n",
       "    </tr>\n",
       "    <tr>\n",
       "      <th>3</th>\n",
       "      <td>425359</td>\n",
       "      <td>2019-01-01</td>\n",
       "      <td>16</td>\n",
       "      <td>Hurto (sin violencia)</td>\n",
       "      <td>Hurto Automotor</td>\n",
       "      <td>1.0</td>\n",
       "      <td>10.0</td>\n",
       "      <td>Floresta</td>\n",
       "      <td>-34.631877</td>\n",
       "      <td>-58.483975</td>\n",
       "      <td>Hurto (sin violencia)Hurto Automotor</td>\n",
       "      <td>Hurto (sin violencia)_Hurto Automotor</td>\n",
       "      <td>20.0</td>\n",
       "    </tr>\n",
       "    <tr>\n",
       "      <th>4</th>\n",
       "      <td>437571</td>\n",
       "      <td>2019-01-01</td>\n",
       "      <td>2</td>\n",
       "      <td>Robo (con violencia)</td>\n",
       "      <td>Robo Automotor</td>\n",
       "      <td>1.0</td>\n",
       "      <td>4.0</td>\n",
       "      <td>Parque Patricios</td>\n",
       "      <td>-34.633161</td>\n",
       "      <td>-58.397123</td>\n",
       "      <td>Robo (con violencia)Robo Automotor</td>\n",
       "      <td>Robo (con violencia)_Robo Automotor</td>\n",
       "      <td>8.0</td>\n",
       "    </tr>\n",
       "  </tbody>\n",
       "</table>\n",
       "</div>"
      ],
      "text/plain": [
       "       id       fecha franja_horaria            tipo_delito   subtipo_delito  \\\n",
       "0  374556  2019-01-01             12               Lesiones   Siniestro Vial   \n",
       "1  426152  2019-01-01              6   Robo (con violencia)              NaN   \n",
       "2  371604  2019-01-01              8               Lesiones   Siniestro Vial   \n",
       "3  425359  2019-01-01             16  Hurto (sin violencia)  Hurto Automotor   \n",
       "4  437571  2019-01-01              2   Robo (con violencia)   Robo Automotor   \n",
       "\n",
       "   cantidad_registrada  comuna            barrio        lat       long  \\\n",
       "0                  1.0     4.0     Nueva Pompeya -34.648387 -58.404748   \n",
       "1                  1.0     9.0           Liniers -34.649827 -58.513859   \n",
       "2                  1.0    15.0         Chacarita -34.588108 -58.439392   \n",
       "3                  1.0    10.0          Floresta -34.631877 -58.483975   \n",
       "4                  1.0     4.0  Parque Patricios -34.633161 -58.397123   \n",
       "\n",
       "                          nueva columna  \\\n",
       "0                LesionesSiniestro Vial   \n",
       "1                                   NaN   \n",
       "2                LesionesSiniestro Vial   \n",
       "3  Hurto (sin violencia)Hurto Automotor   \n",
       "4    Robo (con violencia)Robo Automotor   \n",
       "\n",
       "                           nueva_columna  comuna2  \n",
       "0                Lesiones_Siniestro Vial      8.0  \n",
       "1                                    NaN     18.0  \n",
       "2                Lesiones_Siniestro Vial     30.0  \n",
       "3  Hurto (sin violencia)_Hurto Automotor     20.0  \n",
       "4    Robo (con violencia)_Robo Automotor      8.0  "
      ]
     },
     "execution_count": 47,
     "metadata": {},
     "output_type": "execute_result"
    }
   ],
   "source": [
    "df[\"comuna2\"] = df['comuna'].apply(times2)\n",
    "df.head()"
   ]
  },
  {
   "cell_type": "markdown",
   "metadata": {},
   "source": [
    "**Funcion INSERT**"
   ]
  },
  {
   "cell_type": "code",
   "execution_count": null,
   "metadata": {
    "colab": {
     "base_uri": "https://localhost:8080/",
     "height": 235
    },
    "colab_type": "code",
    "executionInfo": {
     "elapsed": 647,
     "status": "ok",
     "timestamp": 1593558299965,
     "user": {
      "displayName": "Matias Sanchez Gavier",
      "photoUrl": "https://lh3.googleusercontent.com/a-/AOh14GjD7hZiO5eInT5MTbCuYg7k5GwpkxEcRQM1Y9NQ2g=s64",
      "userId": "12001148323871082461"
     },
     "user_tz": 180
    },
    "id": "8t_CTZTRec8R",
    "outputId": "4f8df0fb-2e3a-4860-f051-179b0c567445"
   },
   "outputs": [],
   "source": [
    "h = df['comuna2']\n",
    "df.insert(0,'comuna_nueva',h)\n",
    "df.head()"
   ]
  },
  {
   "cell_type": "markdown",
   "metadata": {
    "colab_type": "text",
    "id": "MrHrR_wYJYYN"
   },
   "source": [
    "### 🤺 Operaciones Summary\n",
    "---\n",
    "Estas son algunas de las funciones que se aplican cuando usamos la **función describe()**\n",
    "\n",
    "Otras operaciones summary son:\n",
    "- .min()\n",
    "- .max()\n",
    "- .count()\n",
    "- .idxmax()\n",
    "- .idxmin()\n",
    "- .quantile()\n",
    "- .skew()\n",
    "- .kurtosis()"
   ]
  },
  {
   "cell_type": "code",
   "execution_count": null,
   "metadata": {
    "colab": {
     "base_uri": "https://localhost:8080/",
     "height": 217
    },
    "colab_type": "code",
    "executionInfo": {
     "elapsed": 772,
     "status": "ok",
     "timestamp": 1593552969147,
     "user": {
      "displayName": "Matias Sanchez Gavier",
      "photoUrl": "https://lh3.googleusercontent.com/a-/AOh14GjD7hZiO5eInT5MTbCuYg7k5GwpkxEcRQM1Y9NQ2g=s64",
      "userId": "12001148323871082461"
     },
     "user_tz": 180
    },
    "id": "PO_lGam_JYYO",
    "outputId": "753da781-5f80-4bc0-b54f-78eafa44e801"
   },
   "outputs": [],
   "source": [
    "print(df[\"comuna\"].min()) # Minimo\n",
    "print(df[\"comuna\"].max()) # Maximo\n",
    "print(df[\"comuna\"].count()) # Cantidad\n",
    "print(df[\"comuna\"].idxmax()) # El índice del valor máximo\n",
    "print(df[\"comuna\"].idxmin()) # El índice del valor mínimo\n",
    "print(df[\"comuna\"].quantile([.25,.5,.75])) # Los quantiles\n",
    "print(df[\"comuna\"].skew()) # Asimetria\n",
    "print(df[\"comuna\"].kurtosis()) # Kurtosis"
   ]
  },
  {
   "cell_type": "markdown",
   "metadata": {
    "colab_type": "text",
    "id": "97WFB7hxHP1K"
   },
   "source": [
    "Se puede Armar Dataframes a partir de Diccionarios "
   ]
  },
  {
   "cell_type": "markdown",
   "metadata": {
    "colab_type": "text",
    "id": "nbZWVCfVJYYY"
   },
   "source": [
    "## 👾 Funciones Con Pandas! WOW\n",
    "---\n",
    "Vamos a ver como crear funciones para automtizar nuestro laburo"
   ]
  },
  {
   "cell_type": "code",
   "execution_count": null,
   "metadata": {
    "colab": {},
    "colab_type": "code",
    "id": "xceHxYqhJYYY",
    "outputId": "1432ae45-55c1-459b-bedc-d129f996f558"
   },
   "outputs": [],
   "source": [
    "def obtener_Z(df, columna):\n",
    "    # valor Z !\n",
    "    df2 = pd.DataFrame([])\n",
    "    df2[f\"Z_{columna}\"] =  (df[columna] - df[columna].mean()) / df[columna].std()\n",
    "    return df2\n",
    "\n",
    "obtener_Z(df, \"comuna\")"
   ]
  },
  {
   "cell_type": "code",
   "execution_count": null,
   "metadata": {
    "colab": {},
    "colab_type": "code",
    "id": "OHcZHhpxJYYZ"
   },
   "outputs": [],
   "source": [
    "# Sacamos los valores Z para Attack \n",
    "\n",
    "Z_comuna = obtener_Z(df, \"comuna\")\n",
    "\n",
    "pd.concat([df, Z_comuna ], axis=1)"
   ]
  },
  {
   "cell_type": "markdown",
   "metadata": {
    "colab_type": "text",
    "id": "WlJp3e8gJYYb"
   },
   "source": [
    "##  💐 Intervalos de Clase\n",
    "---\n",
    "\n",
    "La idea es transformar las variables continuas en discretas, poniendolas en contenedores."
   ]
  },
  {
   "cell_type": "code",
   "execution_count": null,
   "metadata": {
    "colab": {},
    "colab_type": "code",
    "id": "S2pQQxlTQn6N",
    "outputId": "86fa875b-b760-4822-ec7a-0ea3e0a9f75a"
   },
   "outputs": [],
   "source": [
    "df.head()"
   ]
  },
  {
   "cell_type": "code",
   "execution_count": null,
   "metadata": {
    "colab": {},
    "colab_type": "code",
    "id": "4kPikDYqJYYb",
    "outputId": "f381400c-18a9-4f65-f83b-411007693e3c"
   },
   "outputs": [],
   "source": [
    "# Con Cut le indicamos cuanto contenedores queremos\n",
    "pd.cut(df[\"franja_horaria\"], bins=15)"
   ]
  },
  {
   "cell_type": "code",
   "execution_count": null,
   "metadata": {
    "colab": {},
    "colab_type": "code",
    "id": "GU0hjVRMJYYc"
   },
   "outputs": [],
   "source": [
    "# qcut se Basa en quantiles \n",
    "df[\"franja_IC\"] = pd.qcut(df[\"franja_horaria\"],[0,0.25,0.5,0.75,1])\n",
    "df[\"franja_IC\"]"
   ]
  },
  {
   "cell_type": "markdown",
   "metadata": {
    "colab_type": "text",
    "id": "Yvs7O4qOJYYg"
   },
   "source": [
    "## 🤪  Dummy Variables\n",
    "---\n",
    "Es la forma de Transformar variables en discretas en valores numéricos.\n",
    "\n",
    "\n",
    "La variable toma 1 si se cumple la condición y 0 en caso que no."
   ]
  },
  {
   "cell_type": "code",
   "execution_count": null,
   "metadata": {
    "colab": {},
    "colab_type": "code",
    "id": "b_zUEyTlQn6S",
    "outputId": "954c3fb1-9ecd-4e70-84fb-87ad21d4f93d"
   },
   "outputs": [],
   "source": [
    "df.head()"
   ]
  },
  {
   "cell_type": "code",
   "execution_count": null,
   "metadata": {
    "colab": {},
    "colab_type": "code",
    "id": "dch3s9JuJYYh"
   },
   "outputs": [],
   "source": [
    "pd.get_dummies(data = df, columns=[\"subtipo_delito\"], prefix=\"sub_Dummy\", drop_first=True ).head()"
   ]
  },
  {
   "cell_type": "markdown",
   "metadata": {
    "colab_type": "text",
    "id": "6w2XXv0JJYYl"
   },
   "source": [
    "## 💌 Funciones relacionadas al Texto\n",
    "---\n",
    "En general vamos a usar **.str** para indicar que vamos a usar una función relacionada a las strings. "
   ]
  },
  {
   "cell_type": "code",
   "execution_count": null,
   "metadata": {
    "colab": {
     "base_uri": "https://localhost:8080/",
     "height": 235
    },
    "colab_type": "code",
    "executionInfo": {
     "elapsed": 676,
     "status": "ok",
     "timestamp": 1593554869833,
     "user": {
      "displayName": "Matias Sanchez Gavier",
      "photoUrl": "https://lh3.googleusercontent.com/a-/AOh14GjD7hZiO5eInT5MTbCuYg7k5GwpkxEcRQM1Y9NQ2g=s64",
      "userId": "12001148323871082461"
     },
     "user_tz": 180
    },
    "id": "wbQ4tw79JYYn",
    "outputId": "94e6b67e-9c87-4b0f-94f8-9ee4e439840a"
   },
   "outputs": [],
   "source": [
    "df[\"barrio\"].str.lower()"
   ]
  },
  {
   "cell_type": "code",
   "execution_count": null,
   "metadata": {
    "colab": {
     "base_uri": "https://localhost:8080/",
     "height": 168
    },
    "colab_type": "code",
    "executionInfo": {
     "elapsed": 667,
     "status": "ok",
     "timestamp": 1593555162769,
     "user": {
      "displayName": "Matias Sanchez Gavier",
      "photoUrl": "https://lh3.googleusercontent.com/a-/AOh14GjD7hZiO5eInT5MTbCuYg7k5GwpkxEcRQM1Y9NQ2g=s64",
      "userId": "12001148323871082461"
     },
     "user_tz": 180
    },
    "id": "Ll0W8dADJYYo",
    "outputId": "4aec76e6-efba-408c-d363-c68ee2f67272"
   },
   "outputs": [],
   "source": [
    "#mask = df[\"barrio\"].str.contains('vil')\n",
    "#df.loc[mask, :]"
   ]
  },
  {
   "cell_type": "markdown",
   "metadata": {
    "colab_type": "text",
    "id": "jkcfGgHFJYYq"
   },
   "source": [
    "##  👩‍🏫 Cambiar los nombres de Columna \n",
    "---\n",
    "Vamos a usar la función **rename()**."
   ]
  },
  {
   "cell_type": "code",
   "execution_count": null,
   "metadata": {
    "colab": {},
    "colab_type": "code",
    "id": "Lm76sixIJYYr"
   },
   "outputs": [],
   "source": [
    "df.rename(columns = {'barrio':'Barrio', \"comuna\": \"Poligono\"}, inplace=True)\n",
    "df.head()"
   ]
  },
  {
   "cell_type": "code",
   "execution_count": null,
   "metadata": {
    "colab": {},
    "colab_type": "code",
    "id": "hGqB_WPsJYYs"
   },
   "outputs": [],
   "source": [
    "df.columns"
   ]
  },
  {
   "cell_type": "code",
   "execution_count": null,
   "metadata": {
    "colab": {
     "base_uri": "https://localhost:8080/",
     "height": 407
    },
    "colab_type": "code",
    "executionInfo": {
     "elapsed": 916,
     "status": "ok",
     "timestamp": 1593553021878,
     "user": {
      "displayName": "Matias Sanchez Gavier",
      "photoUrl": "https://lh3.googleusercontent.com/a-/AOh14GjD7hZiO5eInT5MTbCuYg7k5GwpkxEcRQM1Y9NQ2g=s64",
      "userId": "12001148323871082461"
     },
     "user_tz": 180
    },
    "id": "vGnceoXxJYYt",
    "outputId": "848d45f2-d45c-445e-c551-8f43ce8c059e"
   },
   "outputs": [],
   "source": [
    "df.columns = [x.lower() for x in df.columns]\n",
    "df"
   ]
  },
  {
   "cell_type": "code",
   "execution_count": null,
   "metadata": {
    "colab": {
     "base_uri": "https://localhost:8080/",
     "height": 198
    },
    "colab_type": "code",
    "executionInfo": {
     "elapsed": 675,
     "status": "ok",
     "timestamp": 1593553112923,
     "user": {
      "displayName": "Matias Sanchez Gavier",
      "photoUrl": "https://lh3.googleusercontent.com/a-/AOh14GjD7hZiO5eInT5MTbCuYg7k5GwpkxEcRQM1Y9NQ2g=s64",
      "userId": "12001148323871082461"
     },
     "user_tz": 180
    },
    "id": "X7azWdgCKWs8",
    "outputId": "9f3b6d3e-18ad-428c-9f3a-8c74b576f663"
   },
   "outputs": [],
   "source": [
    "df.columns.values[1] =\"nombre\"\n",
    "df.head()"
   ]
  },
  {
   "cell_type": "markdown",
   "metadata": {
    "colab_type": "text",
    "id": "9Kukj9BPJYYv"
   },
   "source": [
    "## 👀 Exportando Archivos\n",
    "---"
   ]
  },
  {
   "cell_type": "code",
   "execution_count": null,
   "metadata": {
    "colab": {},
    "colab_type": "code",
    "id": "kXbNO0R8HP1b"
   },
   "outputs": [],
   "source": [
    "#Exportando a CSV\n",
    "df1.to_csv('Ejemplo.csv',index=False)\n",
    "#Exportando a Excel\n",
    "df1.to_excel(\"excel_df.xlsx\", index=False)"
   ]
  },
  {
   "cell_type": "code",
   "execution_count": null,
   "metadata": {
    "colab": {},
    "colab_type": "code",
    "id": "kqE1o2e3HP1e"
   },
   "outputs": [],
   "source": [
    "pd.read_csv(\"Ejemplo.csv\")"
   ]
  },
  {
   "cell_type": "markdown",
   "metadata": {
    "colab_type": "text",
    "id": "OyeV4eQeHP1f"
   },
   "source": [
    "# Felicitaciones por completar esta parte!  "
   ]
  }
 ],
 "metadata": {
  "colab": {
   "collapsed_sections": [],
   "name": "(2) Introducción a Pandas.ipynb",
   "provenance": [],
   "toc_visible": true
  },
  "kernelspec": {
   "display_name": "Python 3 (ipykernel)",
   "language": "python",
   "name": "python3"
  },
  "language_info": {
   "codemirror_mode": {
    "name": "ipython",
    "version": 3
   },
   "file_extension": ".py",
   "mimetype": "text/x-python",
   "name": "python",
   "nbconvert_exporter": "python",
   "pygments_lexer": "ipython3",
   "version": "3.9.7"
  }
 },
 "nbformat": 4,
 "nbformat_minor": 4
}
