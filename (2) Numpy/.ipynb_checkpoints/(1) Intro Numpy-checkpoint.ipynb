{
 "cells": [
  {
   "cell_type": "markdown",
   "metadata": {
    "colab_type": "text",
    "id": "Cc5ILYAE3esd"
   },
   "source": [
    "# 🤖 Numpy\n",
    "---\n",
    "Numpy es una librería de Algebra Lineal en Python. Resulta central para el análisis de datos y aplicaciones estadísticas basicamente porque **casi todas las librerías de Datos del ecosistema Python se basan en numpy**. \n",
    "\n",
    "Para más informaciónle recomendamos [Numpy.org - Learn](https://numpy.org/learn/)"
   ]
  },
  {
   "cell_type": "markdown",
   "metadata": {
    "colab_type": "text",
    "id": "pKJX_ugMJHEl"
   },
   "source": [
    "![texto alternativo](https://i0.wp.com/www.ozgurozkok.com/wp-content/uploads/2019/12/numpy-python.png?fit=765%2C306&ssl=1)"
   ]
  },
  {
   "cell_type": "markdown",
   "metadata": {
    "colab_type": "text",
    "id": "oI8-T3mJ4zsA"
   },
   "source": [
    "# 👮‍♂️ Numpy Arrays \n",
    "\n",
    "El módulo array define una estructura de datos que se parece mucho a list, excepto que todos los miembros tienen que ser del mismo tipo primitivo (todos numéricos)"
   ]
  },
  {
   "cell_type": "code",
   "execution_count": null,
   "metadata": {
    "colab": {},
    "colab_type": "code",
    "id": "CjMHD-x3525s"
   },
   "outputs": [],
   "source": [
    "# importamos la libreria Numpy\n",
    "import numpy as np"
   ]
  },
  {
   "cell_type": "markdown",
   "metadata": {
    "colab_type": "text",
    "id": "HBpqqBpK7toJ"
   },
   "source": [
    "Podemos crear un array directamente convirtiendo una lista o serie de listas. "
   ]
  },
  {
   "cell_type": "code",
   "execution_count": null,
   "metadata": {
    "colab": {
     "base_uri": "https://localhost:8080/",
     "height": 35
    },
    "colab_type": "code",
    "executionInfo": {
     "elapsed": 684,
     "status": "ok",
     "timestamp": 1593636679073,
     "user": {
      "displayName": "Matias Sanchez Gavier",
      "photoUrl": "https://lh3.googleusercontent.com/a-/AOh14GjD7hZiO5eInT5MTbCuYg7k5GwpkxEcRQM1Y9NQ2g=s64",
      "userId": "12001148323871082461"
     },
     "user_tz": 180
    },
    "id": "wWIFpzB877E2",
    "outputId": "4423df6b-f04d-439f-d1d7-dbebb214376c"
   },
   "outputs": [
    {
     "data": {
      "text/plain": [
       "array([1, 2, 3])"
      ]
     },
     "execution_count": 4,
     "metadata": {
      "tags": []
     },
     "output_type": "execute_result"
    }
   ],
   "source": [
    "# lista\n",
    "a = [1, 2, 3 ]\n",
    "\n",
    "# array \n",
    "np.array(a)"
   ]
  },
  {
   "cell_type": "markdown",
   "metadata": {
    "colab_type": "text",
    "id": "8c5vnaeSJt9Q"
   },
   "source": [
    "## 🤸‍♂️ Shape\n",
    "---\n",
    "Este es un método que te permite ver las dimensiones del array.\n",
    "\n",
    "Devuelve una tuple -> filas, columnas"
   ]
  },
  {
   "cell_type": "code",
   "execution_count": null,
   "metadata": {
    "colab": {
     "base_uri": "https://localhost:8080/",
     "height": 126
    },
    "colab_type": "code",
    "executionInfo": {
     "elapsed": 712,
     "status": "ok",
     "timestamp": 1593636788146,
     "user": {
      "displayName": "Matias Sanchez Gavier",
      "photoUrl": "https://lh3.googleusercontent.com/a-/AOh14GjD7hZiO5eInT5MTbCuYg7k5GwpkxEcRQM1Y9NQ2g=s64",
      "userId": "12001148323871082461"
     },
     "user_tz": 180
    },
    "id": "61CY8OR58gvu",
    "outputId": "a3f0ad89-63c2-4fa2-8ce2-59f089372681"
   },
   "outputs": [
    {
     "name": "stdout",
     "output_type": "stream",
     "text": [
      "[[ 1  2  3]\n",
      " [ 4  5  6]\n",
      " [ 7  8  9]\n",
      " [15 16 48]] \n",
      "\n",
      "(4, 3)\n"
     ]
    }
   ],
   "source": [
    "mi_matriz = [[1, 2, 3], \n",
    "             [4, 5, 6], \n",
    "             [7, 8, 9],\n",
    "             [15,16,48]]\n",
    "\n",
    "A  = np.array(mi_matriz)\n",
    "\n",
    "print(A, \"\\n\")\n",
    "\n",
    "print(A.shape)\n"
   ]
  },
  {
   "cell_type": "markdown",
   "metadata": {
    "colab_type": "text",
    "id": "3qjFrwrk9DTP"
   },
   "source": [
    "## 🚣‍♂️ Métodos para Crear Arrays \n",
    "---\n",
    "\n",
    "Los métodos que vamos a ver son:\n",
    "- np.arange() # Equispaciados enteros\n",
    "- np.linspace() # Equispaciados reales\n",
    "- np.zeros() # Matriz de ceros\n",
    "- np.ones()  # Matriz de unos\n",
    "- np.eye()  # Matriz de identidad\n",
    "- np.rand() # Aleatoria uniforme\n",
    "- np.randn() # Aleatoria normal Estandar"
   ]
  },
  {
   "cell_type": "markdown",
   "metadata": {
    "colab_type": "text",
    "id": "Yjbp6Pom9K8o"
   },
   "source": [
    "### 👨‍💼 Arange\n",
    "---\n",
    "Devuelve valores equiespaciados en un intervalo \n",
    "\n",
    "**np.arange(start, stop, step)**\n"
   ]
  },
  {
   "cell_type": "code",
   "execution_count": null,
   "metadata": {
    "colab": {
     "base_uri": "https://localhost:8080/",
     "height": 54
    },
    "colab_type": "code",
    "executionInfo": {
     "elapsed": 850,
     "status": "ok",
     "timestamp": 1593636904995,
     "user": {
      "displayName": "Matias Sanchez Gavier",
      "photoUrl": "https://lh3.googleusercontent.com/a-/AOh14GjD7hZiO5eInT5MTbCuYg7k5GwpkxEcRQM1Y9NQ2g=s64",
      "userId": "12001148323871082461"
     },
     "user_tz": 180
    },
    "id": "lyiK1L7C9XkC",
    "outputId": "15225c20-f5ba-400e-e377-88084aa34110"
   },
   "outputs": [
    {
     "data": {
      "text/plain": [
       "array([20, 21, 22, 23, 24, 25, 26, 27, 28, 29, 30, 31, 32, 33, 34, 35, 36,\n",
       "       37, 38, 39, 40, 41, 42, 43, 44, 45, 46, 47, 48, 49, 50, 51, 52])"
      ]
     },
     "execution_count": 10,
     "metadata": {
      "tags": []
     },
     "output_type": "execute_result"
    }
   ],
   "source": [
    "np.arange(20,53) #no incluye el último "
   ]
  },
  {
   "cell_type": "code",
   "execution_count": null,
   "metadata": {
    "colab": {
     "base_uri": "https://localhost:8080/",
     "height": 34
    },
    "colab_type": "code",
    "executionInfo": {
     "elapsed": 861,
     "status": "ok",
     "timestamp": 1593314791097,
     "user": {
      "displayName": "Antonio Marrazzo",
      "photoUrl": "",
      "userId": "09279458356259982780"
     },
     "user_tz": 180
    },
    "id": "hCyBK0ak9eJf",
    "outputId": "38d2e2ca-2866-4e79-876e-b6c0f9289584"
   },
   "outputs": [
    {
     "data": {
      "text/plain": [
       "array([0, 2, 4, 6, 8])"
      ]
     },
     "execution_count": 9,
     "metadata": {
      "tags": []
     },
     "output_type": "execute_result"
    }
   ],
   "source": [
    "np.arange(0, 10, 2)"
   ]
  },
  {
   "cell_type": "markdown",
   "metadata": {
    "colab_type": "text",
    "id": "ay__Rir7QnQx"
   },
   "source": [
    "### 🚛 linspace\n",
    "---\n",
    "Podemos indicar la cantidad de números intermedios con el parámetro num. \n",
    "\n",
    "**np.linspace(strat, stop, num)**\n"
   ]
  },
  {
   "cell_type": "code",
   "execution_count": null,
   "metadata": {
    "colab": {},
    "colab_type": "code",
    "id": "kUbLk-q-QtQP"
   },
   "outputs": [],
   "source": [
    "a = np.linspace(20, 30, 20)"
   ]
  },
  {
   "cell_type": "code",
   "execution_count": null,
   "metadata": {
    "colab": {
     "base_uri": "https://localhost:8080/",
     "height": 108
    },
    "colab_type": "code",
    "executionInfo": {
     "elapsed": 821,
     "status": "ok",
     "timestamp": 1593638718322,
     "user": {
      "displayName": "Matias Sanchez Gavier",
      "photoUrl": "https://lh3.googleusercontent.com/a-/AOh14GjD7hZiO5eInT5MTbCuYg7k5GwpkxEcRQM1Y9NQ2g=s64",
      "userId": "12001148323871082461"
     },
     "user_tz": 180
    },
    "id": "OLd9y_BnQ40u",
    "outputId": "56596ea7-8579-4026-fe9e-4b563e4d4066"
   },
   "outputs": [
    {
     "data": {
      "text/plain": [
       "array([443.        , 465.38227147, 488.31855956, 511.80886427,\n",
       "       535.8531856 , 560.45152355, 585.60387812, 611.31024931,\n",
       "       637.57063712, 664.38504155, 691.7534626 , 719.67590028,\n",
       "       748.15235457, 777.18282548, 806.76731302, 836.90581717,\n",
       "       867.59833795, 898.84487535, 930.64542936, 963.        ])"
      ]
     },
     "execution_count": 4,
     "metadata": {
      "tags": []
     },
     "output_type": "execute_result"
    }
   ],
   "source": [
    "# Aplicaciónen funciones x^2 + 2x +3\n",
    "def f(x):\n",
    "  return x**2 +2*x +3\n",
    "\n",
    "f(a)"
   ]
  },
  {
   "cell_type": "markdown",
   "metadata": {
    "colab_type": "text",
    "id": "KliabEp49pxK"
   },
   "source": [
    "### 🕵️‍♂️ Matriz de Ceros y Unos\n",
    "---\n",
    "**np.zeros((filas,columnas))**\n",
    "\n",
    "**np.ones((filas, columnas))**"
   ]
  },
  {
   "cell_type": "code",
   "execution_count": null,
   "metadata": {
    "colab": {
     "base_uri": "https://localhost:8080/",
     "height": 90
    },
    "colab_type": "code",
    "executionInfo": {
     "elapsed": 782,
     "status": "ok",
     "timestamp": 1593636969865,
     "user": {
      "displayName": "Matias Sanchez Gavier",
      "photoUrl": "https://lh3.googleusercontent.com/a-/AOh14GjD7hZiO5eInT5MTbCuYg7k5GwpkxEcRQM1Y9NQ2g=s64",
      "userId": "12001148323871082461"
     },
     "user_tz": 180
    },
    "id": "BezMcGLI934u",
    "outputId": "f9636e2e-2d75-447e-f158-b510a52a4d62"
   },
   "outputs": [
    {
     "data": {
      "text/plain": [
       "array([[0., 0., 0., 0., 0., 0.],\n",
       "       [0., 0., 0., 0., 0., 0.],\n",
       "       [0., 0., 0., 0., 0., 0.],\n",
       "       [0., 0., 0., 0., 0., 0.]])"
      ]
     },
     "execution_count": 13,
     "metadata": {
      "tags": []
     },
     "output_type": "execute_result"
    }
   ],
   "source": [
    "np.zeros((4,6))"
   ]
  },
  {
   "cell_type": "code",
   "execution_count": null,
   "metadata": {
    "colab": {
     "base_uri": "https://localhost:8080/",
     "height": 35
    },
    "colab_type": "code",
    "executionInfo": {
     "elapsed": 797,
     "status": "ok",
     "timestamp": 1593636967593,
     "user": {
      "displayName": "Matias Sanchez Gavier",
      "photoUrl": "https://lh3.googleusercontent.com/a-/AOh14GjD7hZiO5eInT5MTbCuYg7k5GwpkxEcRQM1Y9NQ2g=s64",
      "userId": "12001148323871082461"
     },
     "user_tz": 180
    },
    "id": "CV9oxsCo9zXF",
    "outputId": "a48204c7-1c73-49f5-c7ff-f541916874b3"
   },
   "outputs": [
    {
     "data": {
      "text/plain": [
       "array([0., 0., 0., 0.])"
      ]
     },
     "execution_count": 12,
     "metadata": {
      "tags": []
     },
     "output_type": "execute_result"
    }
   ],
   "source": [
    "np.zeros(4)"
   ]
  },
  {
   "cell_type": "code",
   "execution_count": null,
   "metadata": {
    "colab": {
     "base_uri": "https://localhost:8080/",
     "height": 90
    },
    "colab_type": "code",
    "executionInfo": {
     "elapsed": 724,
     "status": "ok",
     "timestamp": 1593636979551,
     "user": {
      "displayName": "Matias Sanchez Gavier",
      "photoUrl": "https://lh3.googleusercontent.com/a-/AOh14GjD7hZiO5eInT5MTbCuYg7k5GwpkxEcRQM1Y9NQ2g=s64",
      "userId": "12001148323871082461"
     },
     "user_tz": 180
    },
    "id": "njCMMWlx-ADi",
    "outputId": "b3c3160a-2dca-450c-dd88-f06f6cc149e5"
   },
   "outputs": [
    {
     "data": {
      "text/plain": [
       "array([[1., 1., 1.],\n",
       "       [1., 1., 1.],\n",
       "       [1., 1., 1.],\n",
       "       [1., 1., 1.]])"
      ]
     },
     "execution_count": 14,
     "metadata": {
      "tags": []
     },
     "output_type": "execute_result"
    }
   ],
   "source": [
    "np.ones((4,3))"
   ]
  },
  {
   "cell_type": "markdown",
   "metadata": {
    "colab_type": "text",
    "id": "fy80tVpA-ah7"
   },
   "source": [
    "### 🧘‍♂️ Matriz Identidad\n",
    "---\n",
    "La matriz identidad es cuadrada, por ende solo hay que indicar la cantidad de filas.\n",
    "\n",
    "**np.eye(filas)**\n"
   ]
  },
  {
   "cell_type": "code",
   "execution_count": null,
   "metadata": {
    "colab": {
     "base_uri": "https://localhost:8080/",
     "height": 126
    },
    "colab_type": "code",
    "executionInfo": {
     "elapsed": 894,
     "status": "ok",
     "timestamp": 1593637045012,
     "user": {
      "displayName": "Matias Sanchez Gavier",
      "photoUrl": "https://lh3.googleusercontent.com/a-/AOh14GjD7hZiO5eInT5MTbCuYg7k5GwpkxEcRQM1Y9NQ2g=s64",
      "userId": "12001148323871082461"
     },
     "user_tz": 180
    },
    "id": "kc83dkfm-fMh",
    "outputId": "049f8c45-84f0-48e3-87b0-3acb6bb352fc"
   },
   "outputs": [
    {
     "data": {
      "text/plain": [
       "array([[1., 0., 0., 0., 0., 0.],\n",
       "       [0., 1., 0., 0., 0., 0.],\n",
       "       [0., 0., 1., 0., 0., 0.],\n",
       "       [0., 0., 0., 1., 0., 0.],\n",
       "       [0., 0., 0., 0., 1., 0.],\n",
       "       [0., 0., 0., 0., 0., 1.]])"
      ]
     },
     "execution_count": 15,
     "metadata": {
      "tags": []
     },
     "output_type": "execute_result"
    }
   ],
   "source": [
    "np.eye(6)"
   ]
  },
  {
   "cell_type": "markdown",
   "metadata": {
    "colab_type": "text",
    "id": "MTpJtPiv-15B"
   },
   "source": [
    "### 🧞‍♂️  Arrays aleatorias\n",
    "---\n",
    "Hay diversas formas de crear arrays aleatorios"
   ]
  },
  {
   "cell_type": "markdown",
   "metadata": {
    "colab_type": "text",
    "id": "HUbitMnD_YpW"
   },
   "source": [
    "#### 🚁 rand\n",
    "---\n",
    "Devuelve arrays con valores aleatorios de una distribución uniforme sobre [0, 1)"
   ]
  },
  {
   "cell_type": "code",
   "execution_count": null,
   "metadata": {
    "colab": {
     "base_uri": "https://localhost:8080/",
     "height": 34
    },
    "colab_type": "code",
    "executionInfo": {
     "elapsed": 704,
     "status": "ok",
     "timestamp": 1593315348822,
     "user": {
      "displayName": "Antonio Marrazzo",
      "photoUrl": "",
      "userId": "09279458356259982780"
     },
     "user_tz": 180
    },
    "id": "cmFQEo2g_e_j",
    "outputId": "912cb0cb-8e31-4813-e0c3-7ef197687b81"
   },
   "outputs": [
    {
     "data": {
      "text/plain": [
       "array([0.14349481, 0.66291496, 0.03725507])"
      ]
     },
     "execution_count": 23,
     "metadata": {
      "tags": []
     },
     "output_type": "execute_result"
    }
   ],
   "source": [
    "np.random.rand(3)"
   ]
  },
  {
   "cell_type": "code",
   "execution_count": null,
   "metadata": {
    "colab": {
     "base_uri": "https://localhost:8080/",
     "height": 85
    },
    "colab_type": "code",
    "executionInfo": {
     "elapsed": 688,
     "status": "ok",
     "timestamp": 1593315368244,
     "user": {
      "displayName": "Antonio Marrazzo",
      "photoUrl": "",
      "userId": "09279458356259982780"
     },
     "user_tz": 180
    },
    "id": "qg5_RbpD_s5B",
    "outputId": "a9c21f5e-c046-47f2-d5ce-51a04f634bf8"
   },
   "outputs": [
    {
     "data": {
      "text/plain": [
       "array([[0.93572302, 0.46559427, 0.16707372, 0.9214074 ],\n",
       "       [0.07051984, 0.67611158, 0.59067892, 0.76426263],\n",
       "       [0.14943689, 0.14794358, 0.38913593, 0.79153957],\n",
       "       [0.28688379, 0.8126091 , 0.58774232, 0.41254027]])"
      ]
     },
     "execution_count": 24,
     "metadata": {
      "tags": []
     },
     "output_type": "execute_result"
    }
   ],
   "source": [
    "np.random.rand(4,4)"
   ]
  },
  {
   "cell_type": "markdown",
   "metadata": {
    "colab_type": "text",
    "id": "YT4jH_Zd_zZ6"
   },
   "source": [
    "#### 🚉 randn\n",
    "----\n",
    "Devuelve arrays con valores aleatorios de una distribución normal estándar"
   ]
  },
  {
   "cell_type": "code",
   "execution_count": null,
   "metadata": {
    "colab": {
     "base_uri": "https://localhost:8080/",
     "height": 34
    },
    "colab_type": "code",
    "executionInfo": {
     "elapsed": 895,
     "status": "ok",
     "timestamp": 1593315447116,
     "user": {
      "displayName": "Antonio Marrazzo",
      "photoUrl": "",
      "userId": "09279458356259982780"
     },
     "user_tz": 180
    },
    "id": "3P0pBUtLACNU",
    "outputId": "ed97859b-fd04-43fc-d160-27b4a805597d"
   },
   "outputs": [
    {
     "data": {
      "text/plain": [
       "array([-0.83109874,  0.57323351, -2.2130809 ])"
      ]
     },
     "execution_count": 25,
     "metadata": {
      "tags": []
     },
     "output_type": "execute_result"
    }
   ],
   "source": [
    "np.random.randn(3)"
   ]
  },
  {
   "cell_type": "code",
   "execution_count": null,
   "metadata": {
    "colab": {
     "base_uri": "https://localhost:8080/",
     "height": 54
    },
    "colab_type": "code",
    "executionInfo": {
     "elapsed": 895,
     "status": "ok",
     "timestamp": 1593637134346,
     "user": {
      "displayName": "Matias Sanchez Gavier",
      "photoUrl": "https://lh3.googleusercontent.com/a-/AOh14GjD7hZiO5eInT5MTbCuYg7k5GwpkxEcRQM1Y9NQ2g=s64",
      "userId": "12001148323871082461"
     },
     "user_tz": 180
    },
    "id": "2PWbk2JgAE10",
    "outputId": "564d0c35-1de1-415b-bde9-12f072d8a23a"
   },
   "outputs": [
    {
     "data": {
      "text/plain": [
       "array([[-0.06038959, -0.18851773],\n",
       "       [ 1.48642566, -0.3391319 ]])"
      ]
     },
     "execution_count": 16,
     "metadata": {
      "tags": []
     },
     "output_type": "execute_result"
    }
   ],
   "source": [
    "np.random.randn(2,2)"
   ]
  },
  {
   "cell_type": "markdown",
   "metadata": {
    "colab_type": "text",
    "id": "ySdt9SL_CExT"
   },
   "source": [
    "## 🦸‍♂️ Indexación y selección en Numpy\n",
    "---\n",
    "Refiere a cómo seleccionar un elemento o grupo de elementos de un array. Es parecido a la selección de listas. \n",
    "\n",
    "En general es:\n",
    "\n",
    "**Matriz[Filas, columnas]**"
   ]
  },
  {
   "cell_type": "code",
   "execution_count": null,
   "metadata": {
    "colab": {
     "base_uri": "https://localhost:8080/",
     "height": 35
    },
    "colab_type": "code",
    "executionInfo": {
     "elapsed": 2402,
     "status": "ok",
     "timestamp": 1593637751137,
     "user": {
      "displayName": "Matias Sanchez Gavier",
      "photoUrl": "https://lh3.googleusercontent.com/a-/AOh14GjD7hZiO5eInT5MTbCuYg7k5GwpkxEcRQM1Y9NQ2g=s64",
      "userId": "12001148323871082461"
     },
     "user_tz": 180
    },
    "id": "2qa_6hXTCWnG",
    "outputId": "89c5912f-b9be-429d-dc37-7e7494340cee"
   },
   "outputs": [
    {
     "data": {
      "text/plain": [
       "array([0, 1, 2, 3, 4, 5, 6, 7, 8, 9])"
      ]
     },
     "execution_count": 41,
     "metadata": {
      "tags": []
     },
     "output_type": "execute_result"
    }
   ],
   "source": [
    "B = np.arange(0, 10)\n",
    "B"
   ]
  },
  {
   "cell_type": "code",
   "execution_count": null,
   "metadata": {
    "colab": {
     "base_uri": "https://localhost:8080/",
     "height": 35
    },
    "colab_type": "code",
    "executionInfo": {
     "elapsed": 730,
     "status": "ok",
     "timestamp": 1593637755756,
     "user": {
      "displayName": "Matias Sanchez Gavier",
      "photoUrl": "https://lh3.googleusercontent.com/a-/AOh14GjD7hZiO5eInT5MTbCuYg7k5GwpkxEcRQM1Y9NQ2g=s64",
      "userId": "12001148323871082461"
     },
     "user_tz": 180
    },
    "id": "khjV0ZpgCsWW",
    "outputId": "2c74645f-e68f-4177-b46f-13ba58297c82"
   },
   "outputs": [
    {
     "data": {
      "text/plain": [
       "5"
      ]
     },
     "execution_count": 42,
     "metadata": {
      "tags": []
     },
     "output_type": "execute_result"
    }
   ],
   "source": [
    "B[5]"
   ]
  },
  {
   "cell_type": "code",
   "execution_count": null,
   "metadata": {
    "colab": {
     "base_uri": "https://localhost:8080/",
     "height": 35
    },
    "colab_type": "code",
    "executionInfo": {
     "elapsed": 831,
     "status": "ok",
     "timestamp": 1593637759224,
     "user": {
      "displayName": "Matias Sanchez Gavier",
      "photoUrl": "https://lh3.googleusercontent.com/a-/AOh14GjD7hZiO5eInT5MTbCuYg7k5GwpkxEcRQM1Y9NQ2g=s64",
      "userId": "12001148323871082461"
     },
     "user_tz": 180
    },
    "id": "iTnRiLnSC1R3",
    "outputId": "abed9e86-838e-4461-fbdd-25ff86d045e0"
   },
   "outputs": [
    {
     "data": {
      "text/plain": [
       "array([1, 2, 3, 4, 5])"
      ]
     },
     "execution_count": 43,
     "metadata": {
      "tags": []
     },
     "output_type": "execute_result"
    }
   ],
   "source": [
    "B[1:6]"
   ]
  },
  {
   "cell_type": "code",
   "execution_count": null,
   "metadata": {
    "colab": {
     "base_uri": "https://localhost:8080/",
     "height": 35
    },
    "colab_type": "code",
    "executionInfo": {
     "elapsed": 752,
     "status": "ok",
     "timestamp": 1593637768123,
     "user": {
      "displayName": "Matias Sanchez Gavier",
      "photoUrl": "https://lh3.googleusercontent.com/a-/AOh14GjD7hZiO5eInT5MTbCuYg7k5GwpkxEcRQM1Y9NQ2g=s64",
      "userId": "12001148323871082461"
     },
     "user_tz": 180
    },
    "id": "AujY_MVMDHho",
    "outputId": "a944f27d-f62c-47d6-badc-2eee2e747d8d"
   },
   "outputs": [
    {
     "data": {
      "text/plain": [
       "array([100, 100, 100, 100, 100,   5,   6,   7,   8,   9])"
      ]
     },
     "execution_count": 44,
     "metadata": {
      "tags": []
     },
     "output_type": "execute_result"
    }
   ],
   "source": [
    "B[0:5] = 100\n",
    "B"
   ]
  },
  {
   "cell_type": "code",
   "execution_count": null,
   "metadata": {
    "colab": {
     "base_uri": "https://localhost:8080/",
     "height": 90
    },
    "colab_type": "code",
    "executionInfo": {
     "elapsed": 861,
     "status": "ok",
     "timestamp": 1593637804582,
     "user": {
      "displayName": "Matias Sanchez Gavier",
      "photoUrl": "https://lh3.googleusercontent.com/a-/AOh14GjD7hZiO5eInT5MTbCuYg7k5GwpkxEcRQM1Y9NQ2g=s64",
      "userId": "12001148323871082461"
     },
     "user_tz": 180
    },
    "id": "NlpVQWkoDf-9",
    "outputId": "90eb2521-b073-4006-994f-9e9e2d0b0182"
   },
   "outputs": [
    {
     "data": {
      "text/plain": [
       "array([[-1.74976547,  0.3426804 ,  1.1530358 , -0.25243604],\n",
       "       [ 0.98132079,  0.51421884,  0.22117967, -1.07004333],\n",
       "       [-0.18949583,  0.25500144, -0.45802699,  0.43516349],\n",
       "       [-0.58359505,  0.81684707,  0.67272081, -0.10441114]])"
      ]
     },
     "execution_count": 48,
     "metadata": {
      "tags": []
     },
     "output_type": "execute_result"
    }
   ],
   "source": [
    "# ¡Ahora con matrices! \n",
    "np.random.seed(100)\n",
    "\n",
    "matrix = np.random.randn(4,4)\n",
    "matrix"
   ]
  },
  {
   "cell_type": "code",
   "execution_count": null,
   "metadata": {
    "colab": {
     "base_uri": "https://localhost:8080/",
     "height": 35
    },
    "colab_type": "code",
    "executionInfo": {
     "elapsed": 712,
     "status": "ok",
     "timestamp": 1593637826144,
     "user": {
      "displayName": "Matias Sanchez Gavier",
      "photoUrl": "https://lh3.googleusercontent.com/a-/AOh14GjD7hZiO5eInT5MTbCuYg7k5GwpkxEcRQM1Y9NQ2g=s64",
      "userId": "12001148323871082461"
     },
     "user_tz": 180
    },
    "id": "i68HFRedDoKb",
    "outputId": "df398f49-f10b-4d74-b567-03543761e648"
   },
   "outputs": [
    {
     "data": {
      "text/plain": [
       "array([-1.74976547,  0.3426804 ,  1.1530358 , -0.25243604])"
      ]
     },
     "execution_count": 51,
     "metadata": {
      "tags": []
     },
     "output_type": "execute_result"
    }
   ],
   "source": [
    "matrix[0, :]"
   ]
  },
  {
   "cell_type": "code",
   "execution_count": null,
   "metadata": {
    "colab": {
     "base_uri": "https://localhost:8080/",
     "height": 35
    },
    "colab_type": "code",
    "executionInfo": {
     "elapsed": 681,
     "status": "ok",
     "timestamp": 1593637848180,
     "user": {
      "displayName": "Matias Sanchez Gavier",
      "photoUrl": "https://lh3.googleusercontent.com/a-/AOh14GjD7hZiO5eInT5MTbCuYg7k5GwpkxEcRQM1Y9NQ2g=s64",
      "userId": "12001148323871082461"
     },
     "user_tz": 180
    },
    "id": "bqFhDYwRD80z",
    "outputId": "bfe0dfc8-a8f7-4aae-89af-33a8342a6252"
   },
   "outputs": [
    {
     "data": {
      "text/plain": [
       "-0.5835950503226648"
      ]
     },
     "execution_count": 52,
     "metadata": {
      "tags": []
     },
     "output_type": "execute_result"
    }
   ],
   "source": [
    "matrix[3,0]"
   ]
  },
  {
   "cell_type": "code",
   "execution_count": null,
   "metadata": {
    "colab": {
     "base_uri": "https://localhost:8080/",
     "height": 54
    },
    "colab_type": "code",
    "executionInfo": {
     "elapsed": 719,
     "status": "ok",
     "timestamp": 1593637905285,
     "user": {
      "displayName": "Matias Sanchez Gavier",
      "photoUrl": "https://lh3.googleusercontent.com/a-/AOh14GjD7hZiO5eInT5MTbCuYg7k5GwpkxEcRQM1Y9NQ2g=s64",
      "userId": "12001148323871082461"
     },
     "user_tz": 180
    },
    "id": "cleAhmC4D_1X",
    "outputId": "716a2992-b69e-4336-9e4c-cdb43aec7787"
   },
   "outputs": [
    {
     "data": {
      "text/plain": [
       "array([[ 0.3426804 ,  1.1530358 , -0.25243604],\n",
       "       [ 0.51421884,  0.22117967, -1.07004333]])"
      ]
     },
     "execution_count": 54,
     "metadata": {
      "tags": []
     },
     "output_type": "execute_result"
    }
   ],
   "source": [
    "matrix[:2, 1:]"
   ]
  },
  {
   "cell_type": "markdown",
   "metadata": {
    "colab_type": "text",
    "id": "zzVVKgSmqaEl"
   },
   "source": [
    "#### 🧟‍♂️ Selección Condicionada\n",
    "---\n",
    "\n",
    "La función **np.where(condicion)**, devuelve los índices donde se cumplen la condición.\n",
    "\n",
    "\n"
   ]
  },
  {
   "cell_type": "code",
   "execution_count": null,
   "metadata": {
    "colab": {
     "base_uri": "https://localhost:8080/",
     "height": 244
    },
    "colab_type": "code",
    "executionInfo": {
     "elapsed": 2273,
     "status": "error",
     "timestamp": 1593992219225,
     "user": {
      "displayName": "Matias Sanchez Gavier",
      "photoUrl": "https://lh3.googleusercontent.com/a-/AOh14GjD7hZiO5eInT5MTbCuYg7k5GwpkxEcRQM1Y9NQ2g=s64",
      "userId": "12001148323871082461"
     },
     "user_tz": 180
    },
    "id": "rreO0i1bq1qj",
    "outputId": "e8379fed-d60d-4d41-f9fa-2a9c95d6e766"
   },
   "outputs": [
    {
     "name": "stdout",
     "output_type": "stream",
     "text": [
      "Mascara: \n",
      " (array([1, 1], dtype=int64), array([1, 2], dtype=int64))\n",
      "\n",
      "Subselección: \n"
     ]
    },
    {
     "data": {
      "text/plain": [
       "array([5, 6])"
      ]
     },
     "execution_count": 3,
     "metadata": {
      "tags": []
     },
     "output_type": "execute_result"
    }
   ],
   "source": [
    "A = np.array([\n",
    "[1, 2, 3],\n",
    "[4, 5, 6]]) \n",
    "\n",
    "\n",
    "#Devuelve indices donde se cumple condición \n",
    "mask = np.where(A>4)\n",
    "print(\"Mascara: \\n\", mask)\n",
    "\n",
    "#Subselección\n",
    "print(\"\\nSubselección: \")\n",
    "A[mask]\n"
   ]
  },
  {
   "cell_type": "markdown",
   "metadata": {
    "colab_type": "text",
    "id": "8NCUpb3VsVGs"
   },
   "source": [
    "Tambíen podemos hacer cambios en base a la condición\n",
    "\n",
    "**np.where(condicion, si verdadero, si falso)**}"
   ]
  },
  {
   "cell_type": "code",
   "execution_count": null,
   "metadata": {
    "colab": {
     "base_uri": "https://localhost:8080/",
     "height": 54
    },
    "colab_type": "code",
    "executionInfo": {
     "elapsed": 718,
     "status": "ok",
     "timestamp": 1593645894737,
     "user": {
      "displayName": "Matias Sanchez Gavier",
      "photoUrl": "https://lh3.googleusercontent.com/a-/AOh14GjD7hZiO5eInT5MTbCuYg7k5GwpkxEcRQM1Y9NQ2g=s64",
      "userId": "12001148323871082461"
     },
     "user_tz": 180
    },
    "id": "wgseS01qsl_h",
    "outputId": "9b634ccc-018c-4e93-cd40-a4bb96f5ee1d"
   },
   "outputs": [
    {
     "data": {
      "text/plain": [
       "array([['Soy chiquito', 'Soy chiquito', 'Soy chiquito'],\n",
       "       ['Soy chiquito', 'Soy Grande', 'Soy Grande']], dtype='<U12')"
      ]
     },
     "execution_count": 139,
     "metadata": {
      "tags": []
     },
     "output_type": "execute_result"
    }
   ],
   "source": [
    "np.where(A>4, \"Soy Grande\" ,\"Soy chiquito\")"
   ]
  },
  {
   "cell_type": "code",
   "execution_count": null,
   "metadata": {
    "colab": {
     "base_uri": "https://localhost:8080/",
     "height": 35
    },
    "colab_type": "code",
    "executionInfo": {
     "elapsed": 650,
     "status": "ok",
     "timestamp": 1593646475421,
     "user": {
      "displayName": "Matias Sanchez Gavier",
      "photoUrl": "https://lh3.googleusercontent.com/a-/AOh14GjD7hZiO5eInT5MTbCuYg7k5GwpkxEcRQM1Y9NQ2g=s64",
      "userId": "12001148323871082461"
     },
     "user_tz": 180
    },
    "id": "e0SB1ivauuoj",
    "outputId": "ed5669b4-8bbf-46f8-aca5-be47a91f21d9"
   },
   "outputs": [
    {
     "data": {
      "text/plain": [
       "array([5, 6])"
      ]
     },
     "execution_count": 162,
     "metadata": {
      "tags": []
     },
     "output_type": "execute_result"
    }
   ],
   "source": [
    "# otro método de seleción condicionada \n",
    "A[A>4]"
   ]
  },
  {
   "cell_type": "markdown",
   "metadata": {
    "colab_type": "text",
    "id": "YdPXj9__AaPT"
   },
   "source": [
    "\n",
    "## 🌌  Métodos Summary\n",
    "Se trata de métodos para encontrar los máximos y mínimos dentro de un array, así como el lugar donde están ubicados\n"
   ]
  },
  {
   "cell_type": "code",
   "execution_count": null,
   "metadata": {
    "colab": {
     "base_uri": "https://localhost:8080/",
     "height": 90
    },
    "colab_type": "code",
    "executionInfo": {
     "elapsed": 950,
     "status": "ok",
     "timestamp": 1593643199131,
     "user": {
      "displayName": "Matias Sanchez Gavier",
      "photoUrl": "https://lh3.googleusercontent.com/a-/AOh14GjD7hZiO5eInT5MTbCuYg7k5GwpkxEcRQM1Y9NQ2g=s64",
      "userId": "12001148323871082461"
     },
     "user_tz": 180
    },
    "id": "CLBL6TyCAnkk",
    "outputId": "e584783e-80b0-4459-8f19-bb1f53fa131d"
   },
   "outputs": [
    {
     "data": {
      "text/plain": [
       "array([[-1.74976547,  0.3426804 ],\n",
       "       [ 1.1530358 , -0.25243604],\n",
       "       [ 0.98132079,  0.51421884],\n",
       "       [ 0.22117967, -1.07004333]])"
      ]
     },
     "execution_count": 88,
     "metadata": {
      "tags": []
     },
     "output_type": "execute_result"
    }
   ],
   "source": [
    "# Seed para mantener el mismo resultado\n",
    "np.random.seed(100)\n",
    "\n",
    "# Matriz Aleatoria Normal\n",
    "A = np.random.randn(4,2)\n",
    "A"
   ]
  },
  {
   "cell_type": "code",
   "execution_count": null,
   "metadata": {
    "colab": {
     "base_uri": "https://localhost:8080/",
     "height": 308
    },
    "colab_type": "code",
    "executionInfo": {
     "elapsed": 712,
     "status": "ok",
     "timestamp": 1593643332148,
     "user": {
      "displayName": "Matias Sanchez Gavier",
      "photoUrl": "https://lh3.googleusercontent.com/a-/AOh14GjD7hZiO5eInT5MTbCuYg7k5GwpkxEcRQM1Y9NQ2g=s64",
      "userId": "12001148323871082461"
     },
     "user_tz": 180
    },
    "id": "aD0Vk7-pBuN6",
    "outputId": "8f29d276-5eb3-4f9f-bdb4-343edd5f121e"
   },
   "outputs": [
    {
     "name": "stdout",
     "output_type": "stream",
     "text": [
      "[[-1.74976547  0.3426804 ]\n",
      " [ 1.1530358  -0.25243604]\n",
      " [ 0.98132079  0.51421884]\n",
      " [ 0.22117967 -1.07004333]]\n",
      "\n",
      " Máximo: \n",
      "1.153035802563644\n",
      "\n",
      " Mínimo\n",
      "-1.7497654730546974\n",
      "\n",
      " Indice del Máximo por columna\n",
      "[1 2]\n",
      "\n",
      " Inidece del Mínimo por columna\n",
      "[0 3]\n"
     ]
    }
   ],
   "source": [
    "print(A)\n",
    "\n",
    "print(\"\\n Máximo: \")\n",
    "print(A.max()) #Máximo de toda la array\n",
    "\n",
    "print(\"\\n Mínimo\")\n",
    "print(A.min()) #Mínimo de toda la array\n",
    "\n",
    "print(\"\\n Indice del Máximo por columna\")\n",
    "print(A.argmax(axis=0)) # índice del máximo, por columna\n",
    "\n",
    "print(\"\\n Inidece del Mínimo por columna\")\n",
    "print(A.argmin(axis=0)) # índice del mínimo, por columna"
   ]
  },
  {
   "cell_type": "code",
   "execution_count": null,
   "metadata": {
    "colab": {
     "base_uri": "https://localhost:8080/",
     "height": 235
    },
    "colab_type": "code",
    "executionInfo": {
     "elapsed": 719,
     "status": "ok",
     "timestamp": 1593643407893,
     "user": {
      "displayName": "Matias Sanchez Gavier",
      "photoUrl": "https://lh3.googleusercontent.com/a-/AOh14GjD7hZiO5eInT5MTbCuYg7k5GwpkxEcRQM1Y9NQ2g=s64",
      "userId": "12001148323871082461"
     },
     "user_tz": 180
    },
    "id": "qUuNrg4Tixrj",
    "outputId": "d8b22c2c-7cf3-4357-ef53-f90ae0680194"
   },
   "outputs": [
    {
     "name": "stdout",
     "output_type": "stream",
     "text": [
      "\n",
      " Media:\n",
      "0.01752383291422248\n",
      "\n",
      " Media por columna:\n",
      "[ 0.1514427  -0.11639503]\n",
      "\n",
      " Desvío General:\n",
      "0.9348256913327037\n",
      "\n",
      " Desvío por columna:\n",
      "[1.04622294 0.70273592 0.23355097 0.6456115 ]\n"
     ]
    }
   ],
   "source": [
    "print(\"\\n Media:\")\n",
    "print(A.mean()) #Media general\n",
    "\n",
    "print(\"\\n Media por columna:\")\n",
    "print(A.mean(axis=0)) #Media por columna\n",
    "\n",
    "print(\"\\n Desvío General:\")\n",
    "print(A.std())\n",
    "\n",
    "print(\"\\n Desvío por columna:\")\n",
    "print(A.std(axis=1))"
   ]
  },
  {
   "cell_type": "markdown",
   "metadata": {
    "colab_type": "text",
    "id": "_dVvrqdoiqcH"
   },
   "source": [
    "### 🚨 Matriz de Covarianza\n",
    "---\n",
    "Se define para un vector de variables aleatorias, en caso de dos variables aleatorias:\n",
    "\n",
    "$$ \\begin{bmatrix}\n",
    "X \\\\\n",
    "Y \n",
    "\\end{bmatrix}$$\n",
    "\n",
    "La matriz de covarinaza es una matriz simétrica $\\Sigma$: \n",
    "$$\\Sigma = \\begin{pmatrix}\n",
    "Cov(X,X) & Cov(X,Y) \\\\\n",
    "Cov(Y,X) & Cov(Y,Y) \n",
    "\\end{pmatrix} $$\n",
    "\n",
    "Recordemos que la covarinza con de una variable con si mismo es su varianza:\n",
    "\n",
    "\n",
    "\n",
    "$$Cov(X,X) = Var(X)$$"
   ]
  },
  {
   "cell_type": "code",
   "execution_count": null,
   "metadata": {
    "colab": {
     "base_uri": "https://localhost:8080/",
     "height": 54
    },
    "colab_type": "code",
    "executionInfo": {
     "elapsed": 712,
     "status": "ok",
     "timestamp": 1593644877199,
     "user": {
      "displayName": "Matias Sanchez Gavier",
      "photoUrl": "https://lh3.googleusercontent.com/a-/AOh14GjD7hZiO5eInT5MTbCuYg7k5GwpkxEcRQM1Y9NQ2g=s64",
      "userId": "12001148323871082461"
     },
     "user_tz": 180
    },
    "id": "IBR_BclqjZM_",
    "outputId": "fbbbed09-7520-41f6-cbeb-ad37259c18f3"
   },
   "outputs": [
    {
     "data": {
      "text/plain": [
       "array([[1.48409633, 2.96819267],\n",
       "       [2.96819267, 5.93638533]])"
      ]
     },
     "execution_count": 118,
     "metadata": {
      "tags": []
     },
     "output_type": "execute_result"
    }
   ],
   "source": [
    "# Variable X, muestra de una normal\n",
    "X = np.random.randn(12)\n",
    "\n",
    "# variable Y, función de X\n",
    "Y = np.array([2*x+3 for x in X])\n",
    "\n",
    "# Estimación de matriz de covarianza\n",
    "np.cov(X,Y)"
   ]
  },
  {
   "cell_type": "markdown",
   "metadata": {
    "colab_type": "text",
    "id": "H0AyfW8Ps_n6"
   },
   "source": [
    "##  💾 Ordenar los Array \n",
    "---\n",
    "\n",
    "Podemos usar la función **np.sort(array , axis= )**\n",
    "\n",
    "\n"
   ]
  },
  {
   "cell_type": "code",
   "execution_count": null,
   "metadata": {
    "colab": {
     "base_uri": "https://localhost:8080/",
     "height": 181
    },
    "colab_type": "code",
    "executionInfo": {
     "elapsed": 703,
     "status": "ok",
     "timestamp": 1593646238156,
     "user": {
      "displayName": "Matias Sanchez Gavier",
      "photoUrl": "https://lh3.googleusercontent.com/a-/AOh14GjD7hZiO5eInT5MTbCuYg7k5GwpkxEcRQM1Y9NQ2g=s64",
      "userId": "12001148323871082461"
     },
     "user_tz": 180
    },
    "id": "r6L9GiCBtGod",
    "outputId": "70a23fce-e942-4bfb-aaed-ba8b6f1d82a5"
   },
   "outputs": [
    {
     "name": "stdout",
     "output_type": "stream",
     "text": [
      "[[9 4 0]\n",
      " [1 9 0]\n",
      " [1 8 9]\n",
      " [0 8 6]] \n",
      "\n"
     ]
    },
    {
     "data": {
      "text/plain": [
       "array([[0, 4, 9],\n",
       "       [0, 1, 9],\n",
       "       [1, 8, 9],\n",
       "       [0, 6, 8]])"
      ]
     },
     "execution_count": 158,
     "metadata": {
      "tags": []
     },
     "output_type": "execute_result"
    }
   ],
   "source": [
    "np.random.seed(10)\n",
    "A = np.random.randint(0,10, size=(4,3) )\n",
    "\n",
    "print(A, \"\\n\")\n",
    "np.sort(A, axis=1)"
   ]
  },
  {
   "cell_type": "markdown",
   "metadata": {
    "colab_type": "text",
    "id": "MFgbVys3vC64"
   },
   "source": [
    "## 🕍 Cambio de dimensiones\n",
    "---\n",
    "\n",
    "Podemos usar el método **.reshape(filas, columnas)** para cambiar las dimensiones de la array.\n",
    "\n",
    "\n"
   ]
  },
  {
   "cell_type": "code",
   "execution_count": null,
   "metadata": {
    "colab": {
     "base_uri": "https://localhost:8080/",
     "height": 145
    },
    "colab_type": "code",
    "executionInfo": {
     "elapsed": 744,
     "status": "ok",
     "timestamp": 1593647125442,
     "user": {
      "displayName": "Matias Sanchez Gavier",
      "photoUrl": "https://lh3.googleusercontent.com/a-/AOh14GjD7hZiO5eInT5MTbCuYg7k5GwpkxEcRQM1Y9NQ2g=s64",
      "userId": "12001148323871082461"
     },
     "user_tz": 180
    },
    "id": "NRj26YfrxB67",
    "outputId": "ff51e31f-c2b7-4bb7-a744-c1ddd03dbcbf"
   },
   "outputs": [
    {
     "name": "stdout",
     "output_type": "stream",
     "text": [
      "[[9 4 0 1 9 0]\n",
      " [1 8 9 0 8 6]] \n",
      "\n",
      "[[9 4 0]\n",
      " [1 9 0]\n",
      " [1 8 9]\n",
      " [0 8 6]]\n"
     ]
    }
   ],
   "source": [
    "np.random.seed(10)\n",
    "A = np.random.randint(0,10, size=(4,3) )\n",
    "\n",
    "print(A.reshape(2,6), \"\\n\")\n",
    "\n",
    "print(A.reshape(4,3))"
   ]
  },
  {
   "cell_type": "markdown",
   "metadata": {
    "colab_type": "text",
    "id": "P0zZR3OkGlYh"
   },
   "source": [
    "# 🚔 Algebra Lineal\n",
    "---\n"
   ]
  },
  {
   "cell_type": "markdown",
   "metadata": {
    "colab_type": "text",
    "id": "VZsNldCqpppF"
   },
   "source": [
    "### 🚒Operaciones Aritméticas\n",
    "---\n",
    "\n",
    "\n"
   ]
  },
  {
   "cell_type": "code",
   "execution_count": null,
   "metadata": {
    "colab": {
     "base_uri": "https://localhost:8080/",
     "height": 54
    },
    "colab_type": "code",
    "executionInfo": {
     "elapsed": 655,
     "status": "ok",
     "timestamp": 1593645275620,
     "user": {
      "displayName": "Matias Sanchez Gavier",
      "photoUrl": "https://lh3.googleusercontent.com/a-/AOh14GjD7hZiO5eInT5MTbCuYg7k5GwpkxEcRQM1Y9NQ2g=s64",
      "userId": "12001148323871082461"
     },
     "user_tz": 180
    },
    "id": "NB-in7b1pzn9",
    "outputId": "fe10cea3-1115-4eb6-d2b8-234a5960ff32"
   },
   "outputs": [
    {
     "data": {
      "text/plain": [
       "array([[0, 0, 0],\n",
       "       [0, 0, 0]])"
      ]
     },
     "execution_count": 129,
     "metadata": {
      "tags": []
     },
     "output_type": "execute_result"
    }
   ],
   "source": [
    "A = np.array([\n",
    "[1, 2, 3],\n",
    "[4, 5, 6]])\n",
    "\n",
    "\n",
    "B = np.array([\n",
    "[1, 2, 3],\n",
    "[4, 5, 6]])\n",
    " \n",
    "# suma\n",
    "A+B\n",
    "\n",
    "# Resta\n",
    "A-B"
   ]
  },
  {
   "cell_type": "markdown",
   "metadata": {
    "colab_type": "text",
    "id": "XqkXhTB4Xv-7"
   },
   "source": [
    "### 🚂  Multiplicación de vectores\n",
    "---"
   ]
  },
  {
   "cell_type": "code",
   "execution_count": null,
   "metadata": {
    "colab": {
     "base_uri": "https://localhost:8080/",
     "height": 54
    },
    "colab_type": "code",
    "executionInfo": {
     "elapsed": 708,
     "status": "ok",
     "timestamp": 1593590331867,
     "user": {
      "displayName": "Matias Sanchez Gavier",
      "photoUrl": "https://lh3.googleusercontent.com/a-/AOh14GjD7hZiO5eInT5MTbCuYg7k5GwpkxEcRQM1Y9NQ2g=s64",
      "userId": "12001148323871082461"
     },
     "user_tz": 180
    },
    "id": "vWCcoBKZXTWu",
    "outputId": "d11953fb-0c2c-4a4a-f1c9-5260e8bd96a2"
   },
   "outputs": [
    {
     "name": "stdout",
     "output_type": "stream",
     "text": [
      "14\n",
      "[1 4 9]\n"
     ]
    }
   ],
   "source": [
    "a = np.array([1, 2, 3])\n",
    "b = np.array([1, 2, 3])\n",
    "\n",
    "# Multiplación Vectores\n",
    "c = a.dot(b)\n",
    "print(c)\n",
    "\n",
    "# Multiplicación 1 a 1\n",
    "d = a*b\n",
    "print(d)"
   ]
  },
  {
   "cell_type": "markdown",
   "metadata": {
    "colab_type": "text",
    "id": "IF_KPa3jYKx3"
   },
   "source": [
    "### 🚎 Multplicación de Matrices\n",
    "---\n",
    "Recuerden que las matrices tienen que coninicider en dimensiones\n",
    "\n",
    "\n",
    "![texto alternativo](https://www.mathsisfun.com/algebra/images/matrix-multiply-a.svg)"
   ]
  },
  {
   "cell_type": "code",
   "execution_count": null,
   "metadata": {
    "colab": {
     "base_uri": "https://localhost:8080/",
     "height": 90
    },
    "colab_type": "code",
    "executionInfo": {
     "elapsed": 690,
     "status": "ok",
     "timestamp": 1593590844059,
     "user": {
      "displayName": "Matias Sanchez Gavier",
      "photoUrl": "https://lh3.googleusercontent.com/a-/AOh14GjD7hZiO5eInT5MTbCuYg7k5GwpkxEcRQM1Y9NQ2g=s64",
      "userId": "12001148323871082461"
     },
     "user_tz": 180
    },
    "id": "1rMRjurnYsJD",
    "outputId": "0161ffb8-240f-49bc-8c36-78156b327ab0"
   },
   "outputs": [
    {
     "name": "stdout",
     "output_type": "stream",
     "text": [
      "[[14 32]\n",
      " [32 77]]\n",
      "[[ 1  4  9]\n",
      " [16 25 36]]\n"
     ]
    }
   ],
   "source": [
    "A = np.array([\n",
    "[1, 2, 3],\n",
    "[4, 5, 6]])\n",
    "\n",
    "\n",
    "B = np.array([\n",
    "[1, 2, 3],\n",
    "[4, 5, 6]])\n",
    "\n",
    "# Multiplicación de Matrices (Dot Product)\n",
    "print(A(B.T.dot)) # 2x3 , 3x2 = 2x2"
   ]
  },
  {
   "cell_type": "markdown",
   "metadata": {
    "colab_type": "text",
    "id": "DoT1EmThcSjN"
   },
   "source": [
    "## 🏍 Hadamard Product \n",
    "---\n",
    "Esto es cuando dos matrices de la misma dimension se multiplican element-wise.\n",
    "\n",
    "\n",
    "\n",
    "\n",
    "![texto alternativo](https://wikimedia.org/api/rest_v1/media/math/render/svg/4eb9bb54b2820fb3583901ec05bc4b474b6d90bc)"
   ]
  },
  {
   "cell_type": "code",
   "execution_count": null,
   "metadata": {
    "colab": {
     "base_uri": "https://localhost:8080/",
     "height": 54
    },
    "colab_type": "code",
    "executionInfo": {
     "elapsed": 980,
     "status": "ok",
     "timestamp": 1593591507209,
     "user": {
      "displayName": "Matias Sanchez Gavier",
      "photoUrl": "https://lh3.googleusercontent.com/a-/AOh14GjD7hZiO5eInT5MTbCuYg7k5GwpkxEcRQM1Y9NQ2g=s64",
      "userId": "12001148323871082461"
     },
     "user_tz": 180
    },
    "id": "2ZMxPKOTc_hB",
    "outputId": "84436c9b-8ae4-4ea7-dd2b-ed4e1544a0d9"
   },
   "outputs": [
    {
     "data": {
      "text/plain": [
       "array([[ 1,  4,  9],\n",
       "       [16, 25, 36]])"
      ]
     },
     "execution_count": 37,
     "metadata": {
      "tags": []
     },
     "output_type": "execute_result"
    }
   ],
   "source": [
    "A = np.array([\n",
    "[1, 2, 3],\n",
    "[4, 5, 6]])\n",
    "\n",
    "B = np.array([\n",
    "[1, 2, 3],\n",
    "[4, 5, 6]])\n",
    "\n",
    "# Hadamard\n",
    "A*B\n"
   ]
  },
  {
   "cell_type": "markdown",
   "metadata": {
    "colab_type": "text",
    "id": "mgfZNgAAa9ua"
   },
   "source": [
    "## 🛸 Multiplicando Matrices con Vectores\n",
    "---\n",
    "\n",
    "En el caso de numpy los vectores  los toma como vectores columna, ejemplo 2x1.\n",
    "\n",
    "\n",
    "$$\\begin{bmatrix}\n",
    "1 & 2 \\\\\n",
    "3 & 4\\\\\n",
    "5 & 6\\\\\n",
    "\\end{bmatrix} \\cdot \\begin{bmatrix}\n",
    "0.5\\\\\n",
    "0.5\\\\\n",
    "\\end{bmatrix} = \\begin{bmatrix}\n",
    "1.5\\\\\n",
    "3.5\\\\\n",
    "5.5\\\\\n",
    "\\end{bmatrix} $$\n",
    "\n",
    "\n"
   ]
  },
  {
   "cell_type": "code",
   "execution_count": null,
   "metadata": {
    "colab": {
     "base_uri": "https://localhost:8080/",
     "height": 54
    },
    "colab_type": "code",
    "executionInfo": {
     "elapsed": 698,
     "status": "ok",
     "timestamp": 1593591561342,
     "user": {
      "displayName": "Matias Sanchez Gavier",
      "photoUrl": "https://lh3.googleusercontent.com/a-/AOh14GjD7hZiO5eInT5MTbCuYg7k5GwpkxEcRQM1Y9NQ2g=s64",
      "userId": "12001148323871082461"
     },
     "user_tz": 180
    },
    "id": "CV3R8LyGbHWU",
    "outputId": "a95aa159-37f4-4266-b11a-2af24999d269"
   },
   "outputs": [
    {
     "name": "stdout",
     "output_type": "stream",
     "text": [
      "(2,)\n",
      "[1.5 3.5 5.5]\n"
     ]
    }
   ],
   "source": [
    "A = np.array([\n",
    "[1, 2],\n",
    "[3, 4],\n",
    "[5, 6]])\n",
    "\n",
    "# Lo toma como vector columna\n",
    "B = array([0.5, 0.5])\n",
    "\n",
    "print(B.shape)\n",
    "\n",
    "C = A.dot(B) # 3x2 , 2x1\n",
    "\n",
    "print(C)\n"
   ]
  },
  {
   "cell_type": "markdown",
   "metadata": {
    "colab_type": "text",
    "id": "_o5ti35-XdnW"
   },
   "source": [
    "## 🌠 Normas\n",
    "---\n",
    "La p-norm es una forma de medir el tamaño de un vector. \n",
    "\n",
    "\n",
    "![texto alternativo](https://wikimedia.org/api/rest_v1/media/math/render/svg/9f2d83bfa397bdf021046004b9a365079cab6a22)\n",
    "\n",
    "\n",
    "\n"
   ]
  },
  {
   "cell_type": "code",
   "execution_count": null,
   "metadata": {
    "colab": {
     "base_uri": "https://localhost:8080/",
     "height": 35
    },
    "colab_type": "code",
    "executionInfo": {
     "elapsed": 711,
     "status": "ok",
     "timestamp": 1593590512553,
     "user": {
      "displayName": "Matias Sanchez Gavier",
      "photoUrl": "https://lh3.googleusercontent.com/a-/AOh14GjD7hZiO5eInT5MTbCuYg7k5GwpkxEcRQM1Y9NQ2g=s64",
      "userId": "12001148323871082461"
     },
     "user_tz": 180
    },
    "id": "Zcibzk72YHPp",
    "outputId": "964da3b4-3179-4171-d78e-cc109600c816"
   },
   "outputs": [
    {
     "data": {
      "text/plain": [
       "3.7416573867739413"
      ]
     },
     "execution_count": 13,
     "metadata": {
      "tags": []
     },
     "output_type": "execute_result"
    }
   ],
   "source": [
    "from numpy.linalg import norm\n",
    "\n",
    "b = np.array([1, 2, 3])\n",
    "\n",
    "p = 2\n",
    "norm(b,  2 )"
   ]
  },
  {
   "cell_type": "markdown",
   "metadata": {
    "colab_type": "text",
    "id": "pj1PTNWyZ06O"
   },
   "source": [
    "![texto alternativo](https://wikimedia.org/api/rest_v1/media/math/render/svg/6d701fe0bf91b2a4931c5a860855e9bbff4ef0c2)"
   ]
  },
  {
   "cell_type": "code",
   "execution_count": null,
   "metadata": {
    "colab": {
     "base_uri": "https://localhost:8080/",
     "height": 35
    },
    "colab_type": "code",
    "executionInfo": {
     "elapsed": 693,
     "status": "ok",
     "timestamp": 1593590625465,
     "user": {
      "displayName": "Matias Sanchez Gavier",
      "photoUrl": "https://lh3.googleusercontent.com/a-/AOh14GjD7hZiO5eInT5MTbCuYg7k5GwpkxEcRQM1Y9NQ2g=s64",
      "userId": "12001148323871082461"
     },
     "user_tz": 180
    },
    "id": "NfyuSHBFZSyZ",
    "outputId": "a5cf8eb2-b4a4-4eca-883d-a3230e819b48"
   },
   "outputs": [
    {
     "name": "stdout",
     "output_type": "stream",
     "text": [
      "3.0\n"
     ]
    }
   ],
   "source": [
    "from math import inf\n",
    "\n",
    "# La norma de p = infinito es igual al máximo de los valores\n",
    "a =  np.array([70, 40, 50])\n",
    "\n",
    "maxnorm = norm(b, inf)\n",
    "print(maxnorm)"
   ]
  },
  {
   "cell_type": "markdown",
   "metadata": {
    "colab_type": "text",
    "id": "RVUNl0B9a2wd"
   },
   "source": [
    "## 🌉 Operaciones De Algebra Lineal\n",
    "---"
   ]
  },
  {
   "cell_type": "code",
   "execution_count": null,
   "metadata": {
    "colab": {
     "base_uri": "https://localhost:8080/",
     "height": 244
    },
    "colab_type": "code",
    "executionInfo": {
     "elapsed": 670,
     "status": "error",
     "timestamp": 1593992629981,
     "user": {
      "displayName": "Matias Sanchez Gavier",
      "photoUrl": "https://lh3.googleusercontent.com/a-/AOh14GjD7hZiO5eInT5MTbCuYg7k5GwpkxEcRQM1Y9NQ2g=s64",
      "userId": "12001148323871082461"
     },
     "user_tz": 180
    },
    "id": "ypkELmA-eSBe",
    "outputId": "b4601cab-e417-4841-b3fd-ff1034c3948a"
   },
   "outputs": [
    {
     "ename": "NameError",
     "evalue": "ignored",
     "output_type": "error",
     "traceback": [
      "\u001b[0;31m---------------------------------------------------------------------------\u001b[0m",
      "\u001b[0;31mNameError\u001b[0m                                 Traceback (most recent call last)",
      "\u001b[0;32m<ipython-input-2-453b3d8a0de1>\u001b[0m in \u001b[0;36m<module>\u001b[0;34m()\u001b[0m\n\u001b[1;32m      4\u001b[0m \u001b[0;34m\u001b[0m\u001b[0m\n\u001b[1;32m      5\u001b[0m \u001b[0;34m\u001b[0m\u001b[0m\n\u001b[0;32m----> 6\u001b[0;31m A = np.array([\n\u001b[0m\u001b[1;32m      7\u001b[0m \u001b[0;34m[\u001b[0m\u001b[0;36m1\u001b[0m\u001b[0;34m,\u001b[0m \u001b[0;36m2\u001b[0m\u001b[0;34m]\u001b[0m\u001b[0;34m,\u001b[0m\u001b[0;34m\u001b[0m\u001b[0;34m\u001b[0m\u001b[0m\n\u001b[1;32m      8\u001b[0m [3, 4]])\n",
      "\u001b[0;31mNameError\u001b[0m: name 'np' is not defined"
     ]
    }
   ],
   "source": [
    "from numpy.linalg import inv\n",
    "from numpy.linalg import det\n",
    "from numpy.linalg import matrix_rank\n",
    "\n",
    "\n",
    "A = np.array([\n",
    "[1, 2],\n",
    "[3, 4]])\n",
    "\n",
    "\n",
    "#Transpuesta\n",
    "print(A.T, \"\\n\")\n",
    "\n",
    "#Inversa, necesita ser cuardada y full rank\n",
    "print(inv(A), \"\\n\")\n",
    "\n",
    "# Traza, suma de Diagonales\n",
    "print(np.trace(A), \"\\n\")\n",
    "\n",
    "\n",
    "# Determinante, si es distinto de cero es full rank\n",
    "print(det(A), \"\\n\") \n",
    "\n",
    "\n",
    "# Rank\n",
    "print(matrix_rank(A))\n",
    "\n"
   ]
  },
  {
   "cell_type": "markdown",
   "metadata": {
    "colab_type": "text",
    "id": "Dn6MYgXJSiKL"
   },
   "source": [
    "## 🏠 Resolución de Ecuaciones\n",
    "---\n",
    "Podemos simbolizar un sistema de ecuaciones con:\n",
    "\n",
    "$$Ax = b$$\n",
    "\n",
    "$$ x = A^{-1}b $$\n",
    "\n"
   ]
  },
  {
   "cell_type": "code",
   "execution_count": null,
   "metadata": {
    "colab": {
     "base_uri": "https://localhost:8080/",
     "height": 35
    },
    "colab_type": "code",
    "executionInfo": {
     "elapsed": 733,
     "status": "ok",
     "timestamp": 1593644693492,
     "user": {
      "displayName": "Matias Sanchez Gavier",
      "photoUrl": "https://lh3.googleusercontent.com/a-/AOh14GjD7hZiO5eInT5MTbCuYg7k5GwpkxEcRQM1Y9NQ2g=s64",
      "userId": "12001148323871082461"
     },
     "user_tz": 180
    },
    "id": "oPzPXJSuSwy5",
    "outputId": "b42bedee-3e71-446f-e053-2f34520cad2a"
   },
   "outputs": [
    {
     "data": {
      "text/plain": [
       "array([3., 1.])"
      ]
     },
     "execution_count": 116,
     "metadata": {
      "tags": []
     },
     "output_type": "execute_result"
    }
   ],
   "source": [
    "A= np.array( [[20, 14],\n",
    "    [3, 4]])\n",
    "\n",
    "b = np.array([3, 1])\n",
    "\n",
    "# Obtenemos x\n",
    "x = inv(A).dot(b)\n",
    "\n",
    "# Comprobamos \n",
    "A.dot(x)"
   ]
  },
  {
   "cell_type": "code",
   "execution_count": null,
   "metadata": {
    "colab": {
     "base_uri": "https://localhost:8080/",
     "height": 35
    },
    "colab_type": "code",
    "executionInfo": {
     "elapsed": 718,
     "status": "ok",
     "timestamp": 1593644696464,
     "user": {
      "displayName": "Matias Sanchez Gavier",
      "photoUrl": "https://lh3.googleusercontent.com/a-/AOh14GjD7hZiO5eInT5MTbCuYg7k5GwpkxEcRQM1Y9NQ2g=s64",
      "userId": "12001148323871082461"
     },
     "user_tz": 180
    },
    "id": "xVdn68V2n6Qa",
    "outputId": "1b78b7ab-2d23-4d4e-fd12-a8782dbaf38b"
   },
   "outputs": [
    {
     "data": {
      "text/plain": [
       "array([3., 1.])"
      ]
     },
     "execution_count": 117,
     "metadata": {
      "tags": []
     },
     "output_type": "execute_result"
    }
   ],
   "source": [
    "# Con numpy directamente, Recomendado\n",
    "x  = np.linalg.solve(A,b)\n",
    "\n",
    "A.dot(x)"
   ]
  },
  {
   "cell_type": "markdown",
   "metadata": {
    "colab_type": "text",
    "id": "KrH1N_E6yORQ"
   },
   "source": [
    "## 🥥 Resolución del Modelo Lineal\n",
    "---\n",
    "\n",
    "EL modelo lineal se puede representar como: \n",
    "$$ y = \\beta_0 + \\beta_1 x_1  + \\dots + \\beta_f x_f   $$\n",
    "\n",
    "\n",
    "El objetivo es minimizar $L$ respecto ${\\beta}$:\n",
    "\n",
    " $$ L = \\sum_{i=1}^n ( \\hat{y} - y)^2$$\n",
    "\n",
    "\n"
   ]
  },
  {
   "cell_type": "markdown",
   "metadata": {
    "colab_type": "text",
    "id": "3r8YcZWC08u3"
   },
   "source": [
    "\n",
    "Si hacemos el desarrollo en forma matricial y encontramos el mínimo de $L$ respecto a $\\beta$, llegamos a :\n",
    "\n",
    "$$θ = (X^T X)^{-1}X^T Y$$\n",
    "\n",
    "Donde: \n",
    "\n",
    "$$\\theta = \\begin{bmatrix}\n",
    "\\beta_0\\\\\n",
    "\\beta_1\\\\\n",
    "\\vdots\\\\\n",
    "\\beta_f\n",
    "\\end{bmatrix}    \\;\\;\n",
    "Y = \\begin{bmatrix}\n",
    "y_0\\\\\n",
    "y_1\\\\\n",
    "\\vdots\\\\\n",
    "y_n\n",
    "\\end{bmatrix}  $$\n",
    "<br>\n",
    "\n",
    "y $X$ es matriz donde cada columna es una variable explicativa (la primera son todos uno por $\\beta_0$) y cada fila una observación."
   ]
  },
  {
   "cell_type": "markdown",
   "metadata": {
    "colab_type": "text",
    "id": "p6525Xva3kFd"
   },
   "source": [
    "**Ejemplo:** Verdadera función \n",
    "\n",
    "$$ Y = 3+ 2 \\cdot x_1 $$\n"
   ]
  },
  {
   "cell_type": "code",
   "execution_count": null,
   "metadata": {
    "colab": {
     "base_uri": "https://localhost:8080/",
     "height": 54
    },
    "colab_type": "code",
    "executionInfo": {
     "elapsed": 769,
     "status": "ok",
     "timestamp": 1593648842884,
     "user": {
      "displayName": "Matias Sanchez Gavier",
      "photoUrl": "https://lh3.googleusercontent.com/a-/AOh14GjD7hZiO5eInT5MTbCuYg7k5GwpkxEcRQM1Y9NQ2g=s64",
      "userId": "12001148323871082461"
     },
     "user_tz": 180
    },
    "id": "NN4D7r-81gYi",
    "outputId": "71031dba-50f8-4b90-be21-8c3de5a71a40"
   },
   "outputs": [
    {
     "data": {
      "text/plain": [
       "array([[3.],\n",
       "       [2.]])"
      ]
     },
     "execution_count": 15,
     "metadata": {
      "tags": []
     },
     "output_type": "execute_result"
    }
   ],
   "source": [
    "from numpy.linalg import inv\n",
    "\n",
    "X = np.random.randn(30,1) # 1 variable, 30 observaciones\n",
    "Y = [2*x + 3  for x in X]\n",
    "\n",
    "# Agregamos columna de Unos\n",
    "unos = np.ones((30,1))\n",
    "X = np.hstack((unos, X))\n",
    "X.shape\n",
    "\n",
    "# Estimación de Betas\n",
    "betas = inv((X.T.dot(X))).dot(X.T).dot(Y) \n",
    "betas"
   ]
  },
  {
   "cell_type": "markdown",
   "metadata": {
    "colab_type": "text",
    "id": "YtxZjJY-x6k9"
   },
   "source": [
    "## 🍑 Tópicos Avanzados de Algebra Lineal\n",
    "---"
   ]
  },
  {
   "cell_type": "markdown",
   "metadata": {
    "colab_type": "text",
    "id": "wv7-3CvagtiT"
   },
   "source": [
    "### 🍿 Singular Value Descompsition\n",
    "---\n",
    "\n",
    "Cualquier matríz puede descomponerse en una multiplicación de dos matrices ortogonales (U, V) y una matriz diagonal $\\Sigma$. \n",
    "\n",
    "\n",
    "$$A = U \\cdot \\Sigma \\cdot V^T $$\n",
    "\n",
    "\n"
   ]
  },
  {
   "cell_type": "code",
   "execution_count": null,
   "metadata": {
    "colab": {
     "base_uri": "https://localhost:8080/",
     "height": 163
    },
    "colab_type": "code",
    "executionInfo": {
     "elapsed": 855,
     "status": "ok",
     "timestamp": 1593643045725,
     "user": {
      "displayName": "Matias Sanchez Gavier",
      "photoUrl": "https://lh3.googleusercontent.com/a-/AOh14GjD7hZiO5eInT5MTbCuYg7k5GwpkxEcRQM1Y9NQ2g=s64",
      "userId": "12001148323871082461"
     },
     "user_tz": 180
    },
    "id": "iXTICgkmhfAU",
    "outputId": "c788fcf4-19fa-462d-e323-6282ae0535fa"
   },
   "outputs": [
    {
     "name": "stdout",
     "output_type": "stream",
     "text": [
      "[[-0.2298477   0.88346102  0.40824829]\n",
      " [-0.52474482  0.24078249 -0.81649658]\n",
      " [-0.81964194 -0.40189603  0.40824829]] \n",
      "\n",
      "[9.52551809 0.51430058] \n",
      "\n",
      "[[-0.61962948 -0.78489445]\n",
      " [-0.78489445  0.61962948]]\n"
     ]
    }
   ],
   "source": [
    "from scipy.linalg import svd\n",
    "\n",
    "A = np.array([\n",
    "[1, 2],\n",
    "[3, 4],\n",
    "[5, 6]])\n",
    "\n",
    "\n",
    "# factorizo\n",
    "U, s, V = svd(A)\n",
    "print(U, \"\\n\")\n",
    "print(s, \"\\n\")\n",
    "print(V)\n"
   ]
  },
  {
   "cell_type": "markdown",
   "metadata": {
    "colab_type": "text",
    "id": "23tZ8Gx_gBnW"
   },
   "source": [
    "### 🧨 Introducción Tensores\n",
    "---\n"
   ]
  },
  {
   "cell_type": "code",
   "execution_count": null,
   "metadata": {
    "colab": {
     "base_uri": "https://localhost:8080/",
     "height": 254
    },
    "colab_type": "code",
    "executionInfo": {
     "elapsed": 716,
     "status": "ok",
     "timestamp": 1593592362978,
     "user": {
      "displayName": "Matias Sanchez Gavier",
      "photoUrl": "https://lh3.googleusercontent.com/a-/AOh14GjD7hZiO5eInT5MTbCuYg7k5GwpkxEcRQM1Y9NQ2g=s64",
      "userId": "12001148323871082461"
     },
     "user_tz": 180
    },
    "id": "LpwXZzjygTIu",
    "outputId": "ae750210-ac1b-4765-8075-9107daad69b3"
   },
   "outputs": [
    {
     "name": "stdout",
     "output_type": "stream",
     "text": [
      "(3, 3, 3) \n",
      "\n",
      "[[[ 1  2  3]\n",
      "  [ 4  5  6]\n",
      "  [ 7  8  9]]\n",
      "\n",
      " [[11 12 13]\n",
      "  [14 15 16]\n",
      "  [17 18 19]]\n",
      "\n",
      " [[21 22 23]\n",
      "  [24 25 26]\n",
      "  [27 28 29]]]\n"
     ]
    }
   ],
   "source": [
    "H = np.array([\n",
    "[[1,2,3], [4,5,6], [7,8,9]],\n",
    "[[11,12,13], [14,15,16], [17,18,19]],\n",
    "[[21,22,23], [24,25,26], [27,28,29]]])\n",
    "\n",
    "print(H.shape, \"\\n\")\n",
    "print(T)\n"
   ]
  },
  {
   "cell_type": "code",
   "execution_count": null,
   "metadata": {
    "colab": {
     "base_uri": "https://localhost:8080/",
     "height": 126
    },
    "colab_type": "code",
    "executionInfo": {
     "elapsed": 770,
     "status": "ok",
     "timestamp": 1593642363939,
     "user": {
      "displayName": "Matias Sanchez Gavier",
      "photoUrl": "https://lh3.googleusercontent.com/a-/AOh14GjD7hZiO5eInT5MTbCuYg7k5GwpkxEcRQM1Y9NQ2g=s64",
      "userId": "12001148323871082461"
     },
     "user_tz": 180
    },
    "id": "o5pzZjPvfBxc",
    "outputId": "c518bca6-a060-481f-9216-e4a2f3fc1b7a"
   },
   "outputs": [
    {
     "name": "stdout",
     "output_type": "stream",
     "text": [
      "[[ 1  2  3  4  5  6  7  8  9 10]\n",
      " [11 12 13 14 15 16 17 18 19 20]\n",
      " [21 22 23 24 25 26 27 28 29 30]]\n",
      "[[ 1.  2.  3.  4.  5.  6.  7.  8.  9. 10.]\n",
      " [11. 12. 13. 14. 15. 16. 17. 18. 19. 20.]\n",
      " [21. 22. 23. 24. 25. 26. 27. 28. 29. 30.]]\n"
     ]
    }
   ],
   "source": [
    "\n",
    "# data reduction with svd\n",
    "from numpy import array\n",
    "from numpy import diag\n",
    "from numpy import zeros\n",
    "from scipy.linalg import svd\n",
    "# define matrix\n",
    "A = array([\n",
    "[1,2,3,4,5,6,7,8,9,10],\n",
    "[11,12,13,14,15,16,17,18,19,20],\n",
    "[21,22,23,24,25,26,27,28,29,30]])\n",
    "print(A)\n",
    "# factorize\n",
    "U, s, V = svd(A)\n",
    "# create m x n Sigma matrix\n",
    "Sigma = zeros((A.shape[0], A.shape[1]))\n",
    "# populate Sigma with n x n diagonal matrix\n",
    "Sigma[:A.shape[0], :A.shape[0]] = diag(s)\n",
    "# select\n",
    "n_elements = 2\n",
    "Sigma = Sigma[:, :n_elements]\n",
    "V = V[:n_elements, :]\n",
    "# reconstruct\n",
    "B = U.dot(Sigma.dot(V))\n",
    "print(B)"
   ]
  },
  {
   "cell_type": "code",
   "execution_count": null,
   "metadata": {
    "colab": {
     "base_uri": "https://localhost:8080/",
     "height": 126
    },
    "colab_type": "code",
    "executionInfo": {
     "elapsed": 674,
     "status": "ok",
     "timestamp": 1593642383862,
     "user": {
      "displayName": "Matias Sanchez Gavier",
      "photoUrl": "https://lh3.googleusercontent.com/a-/AOh14GjD7hZiO5eInT5MTbCuYg7k5GwpkxEcRQM1Y9NQ2g=s64",
      "userId": "12001148323871082461"
     },
     "user_tz": 180
    },
    "id": "BW5R_WD0fCGZ",
    "outputId": "4b6fde8d-7117-47ae-917d-044fda12dd07"
   },
   "outputs": [
    {
     "name": "stdout",
     "output_type": "stream",
     "text": [
      "[[-18.52157747   6.47697214]\n",
      " [-49.81310011   1.91182038]\n",
      " [-81.10462276  -2.65333138]]\n",
      "[[-18.52157747   6.47697214]\n",
      " [-49.81310011   1.91182038]\n",
      " [-81.10462276  -2.65333138]]\n"
     ]
    }
   ],
   "source": [
    "# transform\n",
    "T = U.dot(Sigma)\n",
    "print(T)\n",
    ")"
   ]
  },
  {
   "cell_type": "markdown",
   "metadata": {
    "colab_type": "text",
    "id": "dchWWil1e-V0"
   },
   "source": [
    "## 📦  Matriz Dispersa\n",
    "---"
   ]
  },
  {
   "cell_type": "code",
   "execution_count": null,
   "metadata": {
    "colab": {
     "base_uri": "https://localhost:8080/",
     "height": 181
    },
    "colab_type": "code",
    "executionInfo": {
     "elapsed": 775,
     "status": "ok",
     "timestamp": 1593592264945,
     "user": {
      "displayName": "Matias Sanchez Gavier",
      "photoUrl": "https://lh3.googleusercontent.com/a-/AOh14GjD7hZiO5eInT5MTbCuYg7k5GwpkxEcRQM1Y9NQ2g=s64",
      "userId": "12001148323871082461"
     },
     "user_tz": 180
    },
    "id": "xeG98pBZf8vC",
    "outputId": "741f4af2-9075-4b71-f08d-4490e80bdfa0"
   },
   "outputs": [
    {
     "name": "stdout",
     "output_type": "stream",
     "text": [
      "  (0, 0)\t1\n",
      "  (0, 3)\t1\n",
      "  (1, 2)\t2\n",
      "  (1, 5)\t1\n",
      "  (2, 3)\t2 \n",
      "\n",
      "[[1 0 0 1 0 0]\n",
      " [0 0 2 0 0 1]\n",
      " [0 0 0 2 0 0]]\n"
     ]
    }
   ],
   "source": [
    "from scipy.sparse import csr_matrix\n",
    "\n",
    "A = array([\n",
    "[1, 0, 0, 1, 0, 0],\n",
    "[0, 0, 2, 0, 0, 1],\n",
    "[0, 0, 0, 2, 0, 0]])\n",
    "\n",
    "\n",
    "S = csr_matrix(A)\n",
    "print(S, \"\\n\")\n",
    "\n",
    "B = S.todense()\n",
    "print(B)\n"
   ]
  }
 ],
 "metadata": {
  "colab": {
   "collapsed_sections": [],
   "name": "(1) Intro Numpy.ipynb",
   "provenance": [],
   "toc_visible": true
  },
  "kernelspec": {
   "display_name": "Python 3",
   "language": "python",
   "name": "python3"
  },
  "language_info": {
   "codemirror_mode": {
    "name": "ipython",
    "version": 3
   },
   "file_extension": ".py",
   "mimetype": "text/x-python",
   "name": "python",
   "nbconvert_exporter": "python",
   "pygments_lexer": "ipython3",
   "version": "3.8.8"
  }
 },
 "nbformat": 4,
 "nbformat_minor": 1
}
