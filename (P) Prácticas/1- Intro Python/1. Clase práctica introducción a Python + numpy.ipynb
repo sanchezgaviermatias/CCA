{
 "cells": [
  {
   "cell_type": "markdown",
   "id": "ca540d8e",
   "metadata": {},
   "source": [
    "## Clase práctica 1 - Introducción a Python + Numpy"
   ]
  },
  {
   "cell_type": "markdown",
   "id": "19b1ee5c",
   "metadata": {},
   "source": [
    "La idea de esta notebook es que puedan utilizarla para prácticar los temas vistos en los primeros dos tópicos de la materia: Introduccion a Python, y Numpy. Cabe aclarar que puede que ciertos ejercicios tengan alguna vuelta de tuerca o no se hayan dado durante las clases, por lo que los alumnos deberan **GOOGLEAR** o encontrar la solución por su cuenta. Aunque no lo parezca, saber googlear. cómo solucionar errores o realizar ciertas tareas es sumamente importante la hora de trabajar con cualquier herramienta de programación."
   ]
  },
  {
   "cell_type": "markdown",
   "id": "a06b04b1",
   "metadata": {},
   "source": [
    "### Importar librerias necearias\n",
    "\n",
    "Por el momento sólo necesitaran importar Numpy.\n"
   ]
  },
  {
   "cell_type": "code",
   "execution_count": null,
   "id": "592d56a2",
   "metadata": {},
   "outputs": [],
   "source": []
  },
  {
   "cell_type": "markdown",
   "id": "cd4616b9",
   "metadata": {},
   "source": [
    "### 1) Listas"
   ]
  },
  {
   "cell_type": "markdown",
   "id": "e4ff26dd",
   "metadata": {},
   "source": [
    "#### 1.1. Crear una Lista que contenga los siguientes valores: 1,2,3,4,5,6,7,8. **Puede ser creada utilizando un codigo normal, o utilizando una funcion de numpy llamda np.arange**.\n",
    "\n",
    "Llamar a esta lista, lista1."
   ]
  },
  {
   "cell_type": "code",
   "execution_count": null,
   "id": "cca68980",
   "metadata": {},
   "outputs": [],
   "source": []
  },
  {
   "cell_type": "markdown",
   "id": "950e138e",
   "metadata": {},
   "source": [
    "#### 1.2. Traer de la lista sólo los valores 5 y 6 utilizando slicing."
   ]
  },
  {
   "cell_type": "code",
   "execution_count": null,
   "id": "c8af6132",
   "metadata": {},
   "outputs": [],
   "source": []
  },
  {
   "cell_type": "markdown",
   "id": "a3c9744d",
   "metadata": {},
   "source": [
    "#### 1.3 Agregar al final de la lista el valor 12."
   ]
  },
  {
   "cell_type": "code",
   "execution_count": null,
   "id": "f684534f",
   "metadata": {},
   "outputs": [],
   "source": []
  },
  {
   "cell_type": "markdown",
   "id": "ab066018",
   "metadata": {},
   "source": [
    "#### 1.4 Agregar a la lista el valor 4.5 y ordenarla para que quede en la posición entre el valor 4 y 5. \n",
    "\n",
    "**Pista: Utilizar append y luego sortear la lista**"
   ]
  },
  {
   "cell_type": "code",
   "execution_count": null,
   "id": "3946cee0",
   "metadata": {},
   "outputs": [],
   "source": []
  },
  {
   "cell_type": "markdown",
   "id": "9b70afa2",
   "metadata": {},
   "source": [
    "#### 1.5 Crear una nueva lista llamada lista3 la cual contenga cada valor de la lista 2 multiplicado por 3.\n",
    "\n",
    "**Pista:** Se puede hacer con un for loop o utilizando **Listas de comprensión**"
   ]
  },
  {
   "cell_type": "code",
   "execution_count": null,
   "id": "1ed640c2",
   "metadata": {},
   "outputs": [],
   "source": []
  },
  {
   "cell_type": "code",
   "execution_count": null,
   "id": "aa79a0ef",
   "metadata": {},
   "outputs": [],
   "source": []
  },
  {
   "cell_type": "markdown",
   "id": "48c773e3",
   "metadata": {},
   "source": [
    "#### 1.6 Obtener el valor máximo y minimo de la lista. \n",
    "\n",
    "Realizar un print que diga \"El valor maximo de la lista es: **valor máximo**, y el valor mínimo de la lista es: **valor mínimo**.\n",
    "\n",
    "**Pista:** Utilizar funciones de np (max y min para obtener dichos valores)."
   ]
  },
  {
   "cell_type": "code",
   "execution_count": null,
   "id": "c1bb7a27",
   "metadata": {
    "scrolled": true
   },
   "outputs": [],
   "source": []
  },
  {
   "cell_type": "markdown",
   "id": "bf16cbdb",
   "metadata": {},
   "source": [
    "#### 1.7 For loop con condicionales.\n",
    "\n",
    "Crear una nueva lista llamada lista4, en donde si el número es par sea elevado al cuadrado, y si es impar que el número quede igual. Utilizar como input la lista3.\n",
    "\n",
    "Es decir, que si mi lista es [1,2,3,4], el output deberia ser [1, 4, 3, 16].\n",
    "\n",
    "**Usar un for loop**"
   ]
  },
  {
   "cell_type": "code",
   "execution_count": null,
   "id": "249caf23",
   "metadata": {},
   "outputs": [],
   "source": []
  },
  {
   "cell_type": "markdown",
   "id": "5c57c4e6",
   "metadata": {},
   "source": [
    "#### 1.8 For loop con más de un condicional. \n",
    "\n",
    "Crear una nueva lista llamada lista5 que sea identica a la lista4, sólo con 2 modificaciones:\n",
    "- Si el valor de la lista4 es igual a 21, que sea transformado por 100.\n",
    "- Si el valor de la lista4 es igual a 9, que sea transformado por 200.\n",
    "- Si el valor de la lista4 no es ni 21 ni 9, que se mantenga el mismo valor.\n",
    "\n",
    "**Pista:** Utilizar la funcion .index"
   ]
  },
  {
   "cell_type": "code",
   "execution_count": null,
   "id": "c1066ee0",
   "metadata": {},
   "outputs": [],
   "source": []
  },
  {
   "cell_type": "markdown",
   "id": "fdf9fd5e",
   "metadata": {},
   "source": [
    "### 2) Diccionarios"
   ]
  },
  {
   "cell_type": "markdown",
   "id": "3c3eddcc",
   "metadata": {},
   "source": [
    "#### 2.1) Crear un diccionario con la siguiente información:\n",
    "- Carrera: Actuario (\"string\")\n",
    "- Materias: 34 (\"int\")\n",
    "- Tema: Python (\"string\")\n",
    "- Cursada: Distancia (\"string\")\n",
    "\n",
    "Llamarlo dict1.\n"
   ]
  },
  {
   "cell_type": "code",
   "execution_count": null,
   "id": "2071cc21",
   "metadata": {},
   "outputs": [],
   "source": []
  },
  {
   "cell_type": "markdown",
   "id": "de317def",
   "metadata": {},
   "source": [
    "#### 2.2) Realizar el siguiente print utilizando el diccionario:\n",
    "\n",
    "\"Estudio la carrera de Actuario la cual consta de 34 materias. Actualmente estoy aprendiendo Python a distancia. \"\n",
    "\n",
    "**Utilizar printing avanzado.**"
   ]
  },
  {
   "cell_type": "code",
   "execution_count": null,
   "id": "172dfe52",
   "metadata": {},
   "outputs": [],
   "source": []
  },
  {
   "cell_type": "markdown",
   "id": "6bbdb728",
   "metadata": {},
   "source": [
    "#### 2.3) Agregar una nueva key que sea \"Facultad\" y contenga el valor \"UBA\""
   ]
  },
  {
   "cell_type": "code",
   "execution_count": null,
   "id": "bc3e990f",
   "metadata": {},
   "outputs": [],
   "source": []
  },
  {
   "cell_type": "markdown",
   "id": "f0d15cb9",
   "metadata": {},
   "source": [
    "#### 2.4) Crear dos listas, una que contenga las keys y otra que contenga los valores.\n",
    "\n",
    "Las keys van a ser las mismas que dict1, pero los valores van a ser los siguientes:\n",
    "- Carrera: se mantiene igual en Actuario.\n",
    "- Materias: se modifica por el valor \"Dos optativas\".\n",
    "- Tema: se modifica por el valor \"R\".\n",
    "- Cursada: se modifica por el valor \"Virtual\".\n",
    "- Facultad: se mantiene igual.\n",
    "\n",
    "**Pista**: Para crear la lista de keys pueden utilizar dict.keys().tolist(). Luego creen la otra lista con los nuevos valores, y busquen como usar la funcion dict + zip.\n",
    "\n",
    "A est enuevo diccionario llamarlo dict2."
   ]
  },
  {
   "cell_type": "code",
   "execution_count": null,
   "id": "060572fc",
   "metadata": {},
   "outputs": [],
   "source": []
  },
  {
   "cell_type": "markdown",
   "id": "b4921dce",
   "metadata": {},
   "source": [
    "### 3) Matrices y arrays"
   ]
  },
  {
   "cell_type": "markdown",
   "id": "e4d3d00e",
   "metadata": {},
   "source": [
    "#### 3.1) Crear un array que contenga valores desde 0 a 30, con steps de 2.\n",
    "\n",
    "Llamar al array array1."
   ]
  },
  {
   "cell_type": "code",
   "execution_count": null,
   "id": "e9b615d8",
   "metadata": {},
   "outputs": [],
   "source": []
  },
  {
   "cell_type": "markdown",
   "id": "95c34ae7",
   "metadata": {},
   "source": [
    "#### 3.2) Crear una nuevo array llamado array2 en donde si el valor es mayor a 16, se modifique por 20."
   ]
  },
  {
   "cell_type": "code",
   "execution_count": null,
   "id": "e860209a",
   "metadata": {},
   "outputs": [],
   "source": []
  },
  {
   "cell_type": "markdown",
   "id": "e582860b",
   "metadata": {},
   "source": [
    "#### 3.3) Crear una matriz utilizando los array 1 y 2. La matriz debe ser de 2x5.\n",
    "\n",
    "**Las primera fila debe contener los primeros 5 valores del array 1, y la segunda fila los 5 valores del array2.**\n",
    "\n",
    "Output seria:\n",
    "\n",
    "[0, 2, 4, 6, 8]\n",
    "\n",
    "[20, 20, 20, 20, 20]\n",
    "\n",
    "Llamarla como matrix1.\n",
    "\n",
    "**Utilizar slicing de listas**"
   ]
  },
  {
   "cell_type": "code",
   "execution_count": null,
   "id": "e38b6914",
   "metadata": {},
   "outputs": [],
   "source": []
  },
  {
   "cell_type": "markdown",
   "id": "45ee6d62",
   "metadata": {},
   "source": [
    "#### 3.4) Para los valores de la primer fila, multiplicarlos por 3.  \n",
    "\n",
    "Para este ejercicio hay muchas formas de hacerlo. \n",
    "\n",
    "**Pista:** Crear un nuevo array con los valores de la primer fila multiplicados por 3, y luego reemplazar la primer fila (matrix[0,:]) por este nuevo array."
   ]
  },
  {
   "cell_type": "code",
   "execution_count": null,
   "id": "f14331c2",
   "metadata": {},
   "outputs": [],
   "source": []
  },
  {
   "cell_type": "markdown",
   "id": "dfeea6a2",
   "metadata": {},
   "source": [
    "#### 3.5) Obtener el valor máximo de cada columna.\n",
    "\n",
    "Utilizar un for loop e imprimir el valor máximo de cada columna."
   ]
  },
  {
   "cell_type": "code",
   "execution_count": null,
   "id": "cee164c3",
   "metadata": {},
   "outputs": [],
   "source": []
  },
  {
   "cell_type": "code",
   "execution_count": null,
   "id": "68c78ec0",
   "metadata": {},
   "outputs": [],
   "source": []
  }
 ],
 "metadata": {
  "kernelspec": {
   "display_name": "Python 3",
   "language": "python",
   "name": "python3"
  },
  "language_info": {
   "codemirror_mode": {
    "name": "ipython",
    "version": 3
   },
   "file_extension": ".py",
   "mimetype": "text/x-python",
   "name": "python",
   "nbconvert_exporter": "python",
   "pygments_lexer": "ipython3",
   "version": "3.8.8"
  }
 },
 "nbformat": 4,
 "nbformat_minor": 5
}
