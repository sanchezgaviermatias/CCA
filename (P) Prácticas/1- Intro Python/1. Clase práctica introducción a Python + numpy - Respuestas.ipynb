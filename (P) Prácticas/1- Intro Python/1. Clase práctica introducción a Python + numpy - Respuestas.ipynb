{
 "cells": [
  {
   "cell_type": "markdown",
   "id": "a0fbb533",
   "metadata": {},
   "source": [
    "## Clase práctica 1 - Introducción a Python + Numpy"
   ]
  },
  {
   "cell_type": "markdown",
   "id": "4b47f199",
   "metadata": {},
   "source": [
    "La idea de esta notebook es que puedan utilizarla para prácticar los temas vistos en los primeros dos tópicos de la materia: Introduccion a Python, y Numpy. Cabe aclarar que puede que ciertos ejercicios tengan alguna vuelta de tuerca o no se hayan dado durante las clases, por lo que los alumnos deberan **GOOGLEAR** o encontrar la solución por su cuenta. Aunque no lo parezca, saber googlear. cómo solucionar errores o realizar ciertas tareas es sumamente importante la hora de trabajar con cualquier herramienta de programación."
   ]
  },
  {
   "cell_type": "markdown",
   "id": "64185faf",
   "metadata": {},
   "source": [
    "### Importar librerias necearias\n",
    "\n",
    "Por el momento sólo necesitaran importar Numpy.\n"
   ]
  },
  {
   "cell_type": "code",
   "execution_count": 2,
   "id": "7c16b609",
   "metadata": {},
   "outputs": [],
   "source": [
    "import numpy as np"
   ]
  },
  {
   "cell_type": "markdown",
   "id": "e94199ae",
   "metadata": {},
   "source": [
    "### 1) Listas"
   ]
  },
  {
   "cell_type": "markdown",
   "id": "c0faed3d",
   "metadata": {},
   "source": [
    "#### 1.1. Crear una Lista que contenga los siguientes valores: 1,2,3,4,5,6,7,8. **Puede ser creada utilizando un codigo normal, o utilizando una funcion de numpy llamda np.arange**.\n",
    "\n",
    "Llamar a esta lista, lista1."
   ]
  },
  {
   "cell_type": "code",
   "execution_count": 53,
   "id": "c3046f73",
   "metadata": {},
   "outputs": [
    {
     "data": {
      "text/plain": [
       "[1, 2, 3, 4, 5, 6, 7, 8]"
      ]
     },
     "execution_count": 53,
     "metadata": {},
     "output_type": "execute_result"
    }
   ],
   "source": [
    "lista1 = [1, 2, 3, 4, 5, 6, 7, 8] #Manera tradicional\n",
    "lista1 = np.arange(1,9,1).tolist() #Utilizando np.arange\n",
    "lista1"
   ]
  },
  {
   "cell_type": "markdown",
   "id": "05d11cb4",
   "metadata": {},
   "source": [
    "#### 1.2. Traer de la lista sólo los valores 5 y 6 utilizando slicing."
   ]
  },
  {
   "cell_type": "code",
   "execution_count": 54,
   "id": "a4bb5a7e",
   "metadata": {},
   "outputs": [
    {
     "data": {
      "text/plain": [
       "[5, 6]"
      ]
     },
     "execution_count": 54,
     "metadata": {},
     "output_type": "execute_result"
    }
   ],
   "source": [
    "lista1[4:6]"
   ]
  },
  {
   "cell_type": "markdown",
   "id": "09dbf3f5",
   "metadata": {},
   "source": [
    "#### 1.3 Agregar al final de la lista el valor 12."
   ]
  },
  {
   "cell_type": "code",
   "execution_count": 55,
   "id": "493a5e8c",
   "metadata": {},
   "outputs": [
    {
     "data": {
      "text/plain": [
       "[1, 2, 3, 4, 5, 6, 7, 8, 12]"
      ]
     },
     "execution_count": 55,
     "metadata": {},
     "output_type": "execute_result"
    }
   ],
   "source": [
    "lista1.append(12)\n",
    "lista1"
   ]
  },
  {
   "cell_type": "markdown",
   "id": "66cf70db",
   "metadata": {},
   "source": [
    "#### 1.4 Agregar a la lista el valor 4.5 y ordenarla para que quede en la posición entre el valor 4 y 5. \n",
    "\n",
    "**Pista: Utilizar append y luego sortear la lista**"
   ]
  },
  {
   "cell_type": "code",
   "execution_count": 56,
   "id": "da7ba3f0",
   "metadata": {},
   "outputs": [
    {
     "data": {
      "text/plain": [
       "[1.0, 2.0, 3.0, 4.0, 4.5, 5.0, 6.0, 7.0, 8.0, 12.0]"
      ]
     },
     "execution_count": 56,
     "metadata": {},
     "output_type": "execute_result"
    }
   ],
   "source": [
    "lista1.append(4.5)\n",
    "\n",
    "lista2 = np.sort(lista1).tolist()\n",
    "lista2"
   ]
  },
  {
   "cell_type": "markdown",
   "id": "5a138d99",
   "metadata": {},
   "source": [
    "#### 1.5 Crear una nueva lista llamada lista3 la cual contenga cada valor de la lista 2 multiplicado por 3.\n",
    "\n",
    "**Pista:** Se puede hacer con un for loop o utilizando **Listas de comprensión**"
   ]
  },
  {
   "cell_type": "code",
   "execution_count": 70,
   "id": "f7927921",
   "metadata": {},
   "outputs": [
    {
     "name": "stdout",
     "output_type": "stream",
     "text": [
      "[3.0, 6.0, 9.0, 12.0, 13.5, 15.0, 18.0, 21.0, 24.0, 36.0]\n"
     ]
    }
   ],
   "source": [
    "lista3 = []\n",
    "\n",
    "for i in lista2:\n",
    "    val = i*3\n",
    "    lista3.append(val)\n",
    "    \n",
    "    \n",
    "print(lista3)"
   ]
  },
  {
   "cell_type": "code",
   "execution_count": 71,
   "id": "a05774b7",
   "metadata": {},
   "outputs": [
    {
     "data": {
      "text/plain": [
       "[3.0, 6.0, 9.0, 12.0, 13.5, 15.0, 18.0, 21.0, 24.0, 36.0]"
      ]
     },
     "execution_count": 71,
     "metadata": {},
     "output_type": "execute_result"
    }
   ],
   "source": [
    "# lista de comprension\n",
    "\n",
    "lista3_bis = [i*3 for i in lista2]\n",
    "\n",
    "lista3_bis"
   ]
  },
  {
   "cell_type": "markdown",
   "id": "cbecd2d5",
   "metadata": {},
   "source": [
    "#### 1.6 Obtener el valor máximo y minimo de la lista. \n",
    "\n",
    "Realizar un print que diga \"El valor maximo de la lista es: **valor máximo**, y el valor mínimo de la lista es: **valor mínimo**.\n",
    "\n",
    "**Pista:** Utilizar funciones de np (max y min para obtener dichos valores)."
   ]
  },
  {
   "cell_type": "code",
   "execution_count": 72,
   "id": "e240001b",
   "metadata": {
    "scrolled": true
   },
   "outputs": [
    {
     "name": "stdout",
     "output_type": "stream",
     "text": [
      "El valor máximo de la lista es: 36.0 , y el valor mínimo de la lista es: 3.0\n"
     ]
    }
   ],
   "source": [
    "print(\"El valor máximo de la lista es: \" + str(np.max(lista3)) + \" , y el valor mínimo de la lista es: \" + str(np.min(lista3)))"
   ]
  },
  {
   "cell_type": "markdown",
   "id": "93c3aced",
   "metadata": {},
   "source": [
    "#### 1.7 For loop con condicionales.\n",
    "\n",
    "Crear una nueva lista llamada lista4, en donde si el número es par sea elevado al cuadrado, y si es impar que el número quede igual. Utilizar como input la lista3.\n",
    "\n",
    "Es decir, que si mi lista es [1,2,3,4], el output deberia ser [1, 4, 3, 16].\n",
    "\n",
    "**Usar un for loop**"
   ]
  },
  {
   "cell_type": "code",
   "execution_count": 80,
   "id": "e6fe3f2c",
   "metadata": {},
   "outputs": [
    {
     "data": {
      "text/plain": [
       "[3.0, 36.0, 9.0, 144.0, 13.5, 15.0, 324.0, 21.0, 576.0, 1296.0]"
      ]
     },
     "execution_count": 80,
     "metadata": {},
     "output_type": "execute_result"
    }
   ],
   "source": [
    "lista4 = []\n",
    "\n",
    "for i in lista3:\n",
    "    if i % 2 == 0:\n",
    "        val = i**2\n",
    "    else:\n",
    "        val = i\n",
    "    lista4.append(val)\n",
    "    \n",
    "lista4"
   ]
  },
  {
   "cell_type": "markdown",
   "id": "a5b6af89",
   "metadata": {},
   "source": [
    "#### 1.8 For loop con más de un condicional. \n",
    "\n",
    "Crear una nueva lista llamada lista5 que sea identica a la lista4, sólo con 2 modificaciones:\n",
    "- Si el valor de la lista4 es igual a 21, que sea transformado por 100.\n",
    "- Si el valor de la lista4 es igual a 9, que sea transformado por 200.\n",
    "- Si el valor de la lista4 no es ni 21 ni 9, que se mantenga el mismo valor.\n",
    "\n",
    "**Pista:** Utilizar la funcion .index"
   ]
  },
  {
   "cell_type": "code",
   "execution_count": 92,
   "id": "c74625fe",
   "metadata": {},
   "outputs": [
    {
     "data": {
      "text/plain": [
       "[3.0, 36.0, 200, 144.0, 13.5, 15.0, 324.0, 100, 576.0, 1296.0]"
      ]
     },
     "execution_count": 92,
     "metadata": {},
     "output_type": "execute_result"
    }
   ],
   "source": [
    "lista5 = lista4.copy()\n",
    "\n",
    "for i in lista5:\n",
    "    if i == 21:\n",
    "        lista5[lista5.index(i)] = 100\n",
    "    elif i == 9:\n",
    "        lista5[lista5.index(i)] = 200\n",
    "    else:\n",
    "        pass\n",
    "\n",
    "lista5"
   ]
  },
  {
   "cell_type": "markdown",
   "id": "9ef7bcc3",
   "metadata": {},
   "source": [
    "### 2) Diccionarios"
   ]
  },
  {
   "cell_type": "markdown",
   "id": "cb19ad9a",
   "metadata": {},
   "source": [
    "#### 2.1) Crear un diccionario con la siguiente información:\n",
    "- Carrera: Actuario (\"string\")\n",
    "- Materias: 34 (\"int\")\n",
    "- Tema: Python (\"string\")\n",
    "- Cursada: Distancia (\"string\")\n",
    "\n",
    "Llamarlo dict1.\n"
   ]
  },
  {
   "cell_type": "code",
   "execution_count": 94,
   "id": "e7a6dd61",
   "metadata": {},
   "outputs": [
    {
     "data": {
      "text/plain": [
       "{'Carrera': 'Actuario',\n",
       " 'Materias': 34,\n",
       " 'Tema': 'Python',\n",
       " 'Cursada': 'Distancia'}"
      ]
     },
     "execution_count": 94,
     "metadata": {},
     "output_type": "execute_result"
    }
   ],
   "source": [
    "dict1 = {\"Carrera\":\"Actuario\", \n",
    "        \"Materias\": 34,\n",
    "        \"Tema\":\"Python\",\n",
    "        \"Cursada\": \"Distancia\"}\n",
    "\n",
    "dict1"
   ]
  },
  {
   "cell_type": "markdown",
   "id": "986df9f8",
   "metadata": {},
   "source": [
    "#### 2.2) Realizar el siguiente print utilizando el diccionario:\n",
    "\n",
    "\"Estudio la carrera de Actuario la cual consta de 34 materias. Actualmente estoy aprendiendo Python a distancia. \"\n",
    "\n",
    "**Utilizar printing avanzado.**"
   ]
  },
  {
   "cell_type": "code",
   "execution_count": 96,
   "id": "a806d643",
   "metadata": {},
   "outputs": [
    {
     "name": "stdout",
     "output_type": "stream",
     "text": [
      "Estudio la carrera de Actuario la cual consta de 34 materias. Actualmente estoy aprendiendo Python a Distancia.\n"
     ]
    }
   ],
   "source": [
    "carrera = dict1[\"Carrera\"]\n",
    "materias = dict1[\"Materias\"]\n",
    "tema = dict1['Tema']\n",
    "modalidad = dict1['Cursada']\n",
    "\n",
    "print(\"Estudio la carrera de {} la cual consta de {} materias. Actualmente estoy aprendiendo {} a {}.\".format(\n",
    "    carrera, materias, tema, modalidad))\n"
   ]
  },
  {
   "cell_type": "markdown",
   "id": "4893c157",
   "metadata": {},
   "source": [
    "#### 2.3) Agregar una nueva key que sea \"Facultad\" y contenga el valor \"UBA\""
   ]
  },
  {
   "cell_type": "code",
   "execution_count": 99,
   "id": "db78b23c",
   "metadata": {},
   "outputs": [
    {
     "data": {
      "text/plain": [
       "{'Carrera': 'Actuario',\n",
       " 'Materias': 34,\n",
       " 'Tema': 'Python',\n",
       " 'Cursada': 'Distancia',\n",
       " 'Facultad': 'UBA'}"
      ]
     },
     "execution_count": 99,
     "metadata": {},
     "output_type": "execute_result"
    }
   ],
   "source": [
    "dict1['Facultad'] = \"UBA\"\n",
    "dict1"
   ]
  },
  {
   "cell_type": "markdown",
   "id": "9f00bb6d",
   "metadata": {},
   "source": [
    "#### 2.4) Crear dos listas, una que contenga las keys y otra que contenga los valores.\n",
    "\n",
    "Las keys van a ser las mismas que dict1, pero los valores van a ser los siguientes:\n",
    "- Carrera: se mantiene igual en Actuario.\n",
    "- Materias: se modifica por el valor \"Dos optativas\".\n",
    "- Tema: se modifica por el valor \"R\".\n",
    "- Cursada: se modifica por el valor \"Virtual\".\n",
    "- Facultad: se mantiene igual.\n",
    "\n",
    "**Pista**: Para crear la lista de keys pueden utilizar dict.keys().tolist(). Luego creen la otra lista con los nuevos valores, y busquen como usar la funcion dict + zip.\n",
    "\n",
    "A est enuevo diccionario llamarlo dict2."
   ]
  },
  {
   "cell_type": "code",
   "execution_count": 102,
   "id": "c8846826",
   "metadata": {},
   "outputs": [
    {
     "data": {
      "text/plain": [
       "{'Carrera': 'Actuario',\n",
       " 'Materias': 'Dos optativas',\n",
       " 'Tema': 'R',\n",
       " 'Cursada': 'Virtual',\n",
       " 'Facultad': 'UBA'}"
      ]
     },
     "execution_count": 102,
     "metadata": {},
     "output_type": "execute_result"
    }
   ],
   "source": [
    "nuevas_keys = dict1.keys()\n",
    "nuevos_valores = ['Actuario', \"Dos optativas\", \"R\", \"Virtual\", \"UBA\"]\n",
    "\n",
    "dict2 = dict(zip(nuevas_keys, nuevos_valores))\n",
    "dict2"
   ]
  },
  {
   "cell_type": "markdown",
   "id": "f60c95e1",
   "metadata": {},
   "source": [
    "### 3) Matrices y arrays"
   ]
  },
  {
   "cell_type": "markdown",
   "id": "9a75039c",
   "metadata": {},
   "source": [
    "#### 3.1) Crear un array que contenga valores desde 0 a 30, con steps de 2.\n",
    "\n",
    "Llamar al array array1."
   ]
  },
  {
   "cell_type": "code",
   "execution_count": 106,
   "id": "d8eca263",
   "metadata": {},
   "outputs": [
    {
     "data": {
      "text/plain": [
       "array([ 0,  2,  4,  6,  8, 10, 12, 14, 16, 18, 20, 22, 24, 26, 28, 30])"
      ]
     },
     "execution_count": 106,
     "metadata": {},
     "output_type": "execute_result"
    }
   ],
   "source": [
    "array1 = np.arange(0,31,2)\n",
    "\n",
    "array1"
   ]
  },
  {
   "cell_type": "markdown",
   "id": "10a13dc6",
   "metadata": {},
   "source": [
    "#### 3.2) Crear una nuevo array llamado array2 en donde si el valor es mayor a 16, se modifique por 20."
   ]
  },
  {
   "cell_type": "code",
   "execution_count": 109,
   "id": "2a3fd089",
   "metadata": {},
   "outputs": [
    {
     "data": {
      "text/plain": [
       "array([ 0,  2,  4,  6,  8, 10, 12, 14, 16, 20, 20, 20, 20, 20, 20, 20])"
      ]
     },
     "execution_count": 109,
     "metadata": {},
     "output_type": "execute_result"
    }
   ],
   "source": [
    "array2 = np.where(array1 > 16, 20, array1)\n",
    "array2"
   ]
  },
  {
   "cell_type": "markdown",
   "id": "6cf22db6",
   "metadata": {},
   "source": [
    "#### 3.3) Crear una matriz utilizando los array 1 y 2. La matriz debe ser de 2x5.\n",
    "\n",
    "**Las primera fila debe contener los primeros 5 valores del array 1, y la segunda fila los 5 valores del array2.**\n",
    "\n",
    "Output seria:\n",
    "\n",
    "[0, 2, 4, 6, 8]\n",
    "\n",
    "[20, 20, 20, 20, 20]\n",
    "\n",
    "Llamarla como matrix1.\n",
    "\n",
    "**Utilizar slicing de listas**"
   ]
  },
  {
   "cell_type": "code",
   "execution_count": 124,
   "id": "e49a8a01",
   "metadata": {},
   "outputs": [
    {
     "data": {
      "text/plain": [
       "array([[ 0,  2,  4,  6,  8],\n",
       "       [20, 20, 20, 20, 20]])"
      ]
     },
     "execution_count": 124,
     "metadata": {},
     "output_type": "execute_result"
    }
   ],
   "source": [
    "array1_filtrado = array1[:5]\n",
    "array2_filtrado = array2[-5:]\n",
    "\n",
    "matrix1 = np.array([array1_filtrado,\n",
    "                  array2_filtrado])\n",
    "\n",
    "matrix1"
   ]
  },
  {
   "cell_type": "markdown",
   "id": "6e603835",
   "metadata": {},
   "source": [
    "#### 3.4) Para los valores de la primer fila, multiplicarlos por 3.  \n",
    "\n",
    "Para este ejercicio hay muchas formas de hacerlo. \n",
    "\n",
    "**Pista:** Crear un nuevo array con los valores de la primer fila multiplicados por 3, y luego reemplazar la primer fila (matrix[0,:]) por este nuevo array."
   ]
  },
  {
   "cell_type": "code",
   "execution_count": 142,
   "id": "a27eb0ac",
   "metadata": {},
   "outputs": [
    {
     "data": {
      "text/plain": [
       "array([[ 0,  6, 12, 18, 24],\n",
       "       [20, 20, 20, 20, 20]])"
      ]
     },
     "execution_count": 142,
     "metadata": {},
     "output_type": "execute_result"
    }
   ],
   "source": [
    "matrix1[0,:] = np.array([i*3 for i in matrix1[0,:]])\n",
    "\n",
    "matrix1"
   ]
  },
  {
   "cell_type": "markdown",
   "id": "637611ea",
   "metadata": {},
   "source": [
    "#### 3.5) Obtener el valor máximo de cada columna.\n",
    "\n",
    "Utilizar un for loop e imprimir el valor máximo de cada columna."
   ]
  },
  {
   "cell_type": "code",
   "execution_count": 143,
   "id": "cc3a33df",
   "metadata": {},
   "outputs": [
    {
     "name": "stdout",
     "output_type": "stream",
     "text": [
      "El valor máximo de la columna 1 es: 20\n",
      "El valor máximo de la columna 2 es: 20\n",
      "El valor máximo de la columna 3 es: 20\n",
      "El valor máximo de la columna 4 es: 24\n"
     ]
    }
   ],
   "source": [
    "for col in np.arange(1, matrix1.shape[1]):\n",
    "    print(\"El valor máximo de la columna \" + str(col) + \" es: \" + str(np.max(matrix1[:,col])))"
   ]
  }
 ],
 "metadata": {
  "kernelspec": {
   "display_name": "Python 3",
   "language": "python",
   "name": "python3"
  },
  "language_info": {
   "codemirror_mode": {
    "name": "ipython",
    "version": 3
   },
   "file_extension": ".py",
   "mimetype": "text/x-python",
   "name": "python",
   "nbconvert_exporter": "python",
   "pygments_lexer": "ipython3",
   "version": "3.8.8"
  }
 },
 "nbformat": 4,
 "nbformat_minor": 5
}
